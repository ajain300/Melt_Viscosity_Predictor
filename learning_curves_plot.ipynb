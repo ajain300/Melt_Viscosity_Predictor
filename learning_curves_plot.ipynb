{
 "cells": [
  {
   "cell_type": "code",
   "execution_count": 1,
   "metadata": {},
   "outputs": [],
   "source": [
    "import matplotlib.pyplot as plt\n",
    "import numpy as np\n",
    "import pandas as pd\n",
    "import tensorflow as tf\n",
    "import os\n",
    "from validation.metrics import OME, MSE, get_CV_error\n",
    "from sklearn.preprocessing import MinMaxScaler, PowerTransformer\n",
    "from MODELS.ViscNN import load_models, create_ViscNN_concat, create_ViscNN_phys,predict_all_cv, ViscNN_concat_HP,  create_ViscNN_phys_HP\n",
    "from validation.tests import custom_train_test_split, get_Mw_samples, crossval_NN, Mw_test, evaluate_model, crossval_compare, get_shear_samples, shear_test, small_shear_test, assign_sample_ids"
   ]
  },
  {
   "cell_type": "code",
   "execution_count": 2,
   "metadata": {},
   "outputs": [
    {
     "name": "stdout",
     "output_type": "stream",
     "text": [
      "1 Physical GPUs, 1 Logical GPUs\n"
     ]
    },
    {
     "name": "stderr",
     "output_type": "stream",
     "text": [
      "2022-03-30 15:41:35.809656: I tensorflow/core/platform/cpu_feature_guard.cc:151] This TensorFlow binary is optimized with oneAPI Deep Neural Network Library (oneDNN) to use the following CPU instructions in performance-critical operations:  AVX2 AVX512F FMA\n",
      "To enable them in other operations, rebuild TensorFlow with the appropriate compiler flags.\n",
      "2022-03-30 15:41:36.635332: I tensorflow/core/common_runtime/gpu/gpu_device.cc:1525] Created device /job:localhost/replica:0/task:0/device:GPU:0 with 18086 MB memory:  -> device: 0, name: Tesla V100-PCIE-32GB, pci bus id: 0000:da:00.0, compute capability: 7.0\n"
     ]
    }
   ],
   "source": [
    "gpus = tf.config.experimental.list_physical_devices('GPU')\n",
    "if gpus:\n",
    "  try:\n",
    "    for gpu in gpus:\n",
    "      tf.config.experimental.set_memory_growth(gpu, True)\n",
    "    logical_gpus = tf.config.experimental.list_logical_devices('GPU')\n",
    "    print(len(gpus), \"Physical GPUs,\", len(logical_gpus), \"Logical GPUs\")\n",
    "  except RuntimeError as e:\n",
    "    print(e)"
   ]
  },
  {
   "cell_type": "code",
   "execution_count": 3,
   "metadata": {},
   "outputs": [
    {
     "name": "stdout",
     "output_type": "stream",
     "text": [
      "2022-03-17_LC0_split_test_0.9\n"
     ]
    },
    {
     "name": "stderr",
     "output_type": "stream",
     "text": [
      "2022-03-30 15:41:45.579692: I tensorflow/core/util/cuda_solvers.cc:179] Creating GpuSolver handles for stream 0x8344a20\n"
     ]
    },
    {
     "name": "stdout",
     "output_type": "stream",
     "text": [
      "2022-03-24_LC1_split_test_0.9\n",
      "2022-03-24_LC2_split_test_0.9\n",
      "2022-03-25_LC3_split_test_0.9\n",
      "2022-03-25_LC4_split_test_0.9\n",
      "2022-03-17_LC0_split_test_0.8\n",
      "2022-03-24_LC1_split_test_0.8\n",
      "2022-03-24_LC2_split_test_0.8\n",
      "2022-03-25_LC3_split_test_0.8\n",
      "2022-03-25_LC4_split_test_0.8\n",
      "2022-03-17_LC0_split_test_0.7\n",
      "2022-03-24_LC1_split_test_0.7\n",
      "2022-03-24_LC2_split_test_0.7\n",
      "2022-03-25_LC3_split_test_0.7\n",
      "2022-03-25_LC4_split_test_0.7\n",
      "2022-03-17_LC0_split_test_0.6\n",
      "2022-03-24_LC1_split_test_0.6\n",
      "2022-03-24_LC2_split_test_0.6\n",
      "2022-03-25_LC3_split_test_0.6\n",
      "2022-03-25_LC4_split_test_0.6\n",
      "2022-03-17_LC0_split_test_0.5\n",
      "2022-03-24_LC1_split_test_0.5\n",
      "2022-03-25_LC2_split_test_0.5\n",
      "2022-03-25_LC3_split_test_0.5\n",
      "2022-03-25_LC4_split_test_0.5\n",
      "2022-03-17_LC0_split_test_0.4\n",
      "2022-03-24_LC1_split_test_0.4\n",
      "2022-03-25_LC2_split_test_0.4\n",
      "2022-03-25_LC3_split_test_0.4\n",
      "2022-03-25_LC4_split_test_0.4\n",
      "2022-03-17_LC0_split_test_0.3\n",
      "2022-03-24_LC1_split_test_0.3\n",
      "2022-03-25_LC2_split_test_0.3\n",
      "2022-03-25_LC3_split_test_0.3\n",
      "2022-03-25_LC4_split_test_0.3\n",
      "2022-03-17_LC0_split_test_0.2\n",
      "2022-03-25_LC1_split_test_0.2\n",
      "2022-03-25_LC2_split_test_0.2\n",
      "2022-03-25_LC3_split_test_0.2\n",
      "2022-03-25_LC4_split_test_0.2\n",
      "2022-03-17_LC0_split_test_0.1\n",
      "2022-03-25_LC1_split_test_0.1\n",
      "2022-03-25_LC2_split_test_0.1\n",
      "2022-03-25_LC3_split_test_0.1\n",
      "2022-03-25_LC4_split_test_0.1\n"
     ]
    }
   ],
   "source": [
    "#for each split\n",
    "    ##Get data from file\n",
    "    #preprocess and scale\n",
    "    #make predictions like parity -- but only keep errors\n",
    "    #save errors\n",
    "data = ''\n",
    "GPR_OME = {'test':{'avg':[], 'std': []}, 'train':{'avg':[], 'std': []}}\n",
    "ANN_OME = {'test':{'avg':[], 'std': []}, 'train':{'avg':[], 'std': []}}\n",
    "\n",
    "models_list = os.listdir('./MODELS')\n",
    "for test_size in [0.9, 0.8, 0.7, 0.6, 0.5, 0.4, 0.3, 0.2, 0.1]:\n",
    "    #Load Data\n",
    "    GPR_err = {'test': [], 'train':[]}\n",
    "    ANN_err = {'test':[], 'train':[]}\n",
    "    for mod_num in [0,1,2,3,4]:\n",
    "        test_type = [m for m in models_list if f'LC{mod_num}' in m and f'{test_size}' in m][0]\n",
    "        print(test_type)\n",
    "        try:\n",
    "            train_df = pd.read_pickle(f'MODELS/{test_type}/train_data.pkl')\n",
    "            test_df = pd.read_pickle(f'MODELS/{test_type}/test_data.pkl')\n",
    "        except:\n",
    "            print(f'Did not find {test_type}')\n",
    "            continue\n",
    "        #Preprocess, scale\n",
    "        fp_cols = []\n",
    "        for c in train_df.columns:\n",
    "            if isinstance(c, str):\n",
    "                if 'fp' in c:\n",
    "                    fp_cols.append(c)\n",
    "\n",
    "        logMw = np.array(train_df['Mw']).reshape((-1,1))\n",
    "        shear = np.array(train_df['Shear_Rate']).reshape((-1,1))\n",
    "        Temp = np.array(train_df['Temperature']).reshape((-1,1))\n",
    "        Temp = 1/(Temp+273.15)\n",
    "        PDI = np.array(train_df['PDI']).reshape((-1,1))\n",
    "\n",
    "        scaler = MinMaxScaler(copy = False)\n",
    "        XX = np.array(scaler.fit(train_df.filter(fp_cols)).transform(train_df.filter(fp_cols)))\n",
    "        yy = np.array(train_df.loc[:,'Melt_Viscosity']).reshape((-1,1))\n",
    "\n",
    "        y_scaler = MinMaxScaler().fit(yy)\n",
    "        yy = y_scaler.transform(yy);\n",
    "        T_scaler = MinMaxScaler().fit(Temp)\n",
    "        T = T_scaler.transform(Temp);\n",
    "        M_scaler = MinMaxScaler().fit(logMw)\n",
    "        M = M_scaler.transform(logMw);\n",
    "        S_trans = PowerTransformer(standardize = False).fit(shear)\n",
    "        S_scaler = MinMaxScaler().fit(S_trans.transform(shear))\n",
    "        S = S_scaler.transform(S_trans.transform(shear))\n",
    "        P_scaler = MinMaxScaler().fit(PDI)\n",
    "        P = P_scaler.transform(PDI)\n",
    "        #shear = S_scaler.transform((shear))\n",
    "        #gpr_Mcr, mcr_cv_error = Mcr_gpr_train(OG_fp, None, M_scaler, scaler, transform = False)\n",
    "        \n",
    "        y_test = y_scaler.transform(np.array(test_df.loc[:,'Melt_Viscosity']).reshape((-1,1)))\n",
    "        X_test = np.array(scaler.transform(test_df.filter(fp_cols)))\n",
    "        M_test = M_scaler.transform(np.array(test_df['Mw']).reshape((-1,1)))\n",
    "        S_test = S_scaler.transform(S_trans.transform(np.array(test_df['Shear_Rate']).reshape((-1,1))))\n",
    "        T_test = np.array(test_df['Temperature']).reshape((-1,1))\n",
    "        T_test = T_scaler.transform(1/(T_test+273.15))\n",
    "        P_test = P_scaler.transform(np.array(test_df['PDI']).reshape((-1,1)))\n",
    "\n",
    "        #Load Models\n",
    "        models, history, gpr_models, gp_cv, NN_cv = load_models(date = test_type[:10], data_type = test_type[11:], NN_models = [create_ViscNN_concat])\n",
    "        model_reloaded = True\n",
    "\n",
    "        #Predict\n",
    "        yy = y_scaler.inverse_transform(yy)\n",
    "        y_test = y_scaler.inverse_transform(y_test)\n",
    "        test_pred, test_var,_ = predict_all_cv(models[0],[X_test, M_test, S_test, T_test, P_test])\n",
    "        train_pred, train_var,_ = predict_all_cv(models[0],[XX, M, S, T, P])\n",
    "        test_pred = y_scaler.inverse_transform(np.array(test_pred).reshape(-1, 1))\n",
    "        train_pred = y_scaler.inverse_transform(np.array(train_pred).reshape(-1, 1))\n",
    "        ANN_err['test'].append(OME(y_test, test_pred))\n",
    "        ANN_err['train'].append(OME(yy, train_pred))\n",
    "\n",
    "        gpr_model = gpr_models[5] \n",
    "        X_ = np.concatenate((X_test, M_test, S_test, T_test, P_test), axis = 1)\n",
    "        X_train = np.concatenate((XX, M, S, T, P), axis = 1)\n",
    "        test_pred, var = gpr_model.predict_f_compiled(tf.convert_to_tensor(X_, dtype=tf.float64))\n",
    "        train_pred, var_train = gpr_model.predict_f_compiled(X_train)\n",
    "        test_pred = y_scaler.inverse_transform(np.array(test_pred).reshape(-1, 1))\n",
    "        train_pred = y_scaler.inverse_transform(np.array(train_pred).reshape(-1, 1))\n",
    "        GPR_err['train'].append(OME(yy, train_pred))\n",
    "        GPR_err['test'].append(OME(y_test, test_pred))\n",
    "    GPR_OME['test']['avg'].append(np.mean(GPR_err['test']))\n",
    "    GPR_OME['test']['std'].append(np.std(GPR_err['test']))\n",
    "    GPR_OME['train']['avg'].append(np.mean(GPR_err['train']))\n",
    "    GPR_OME['train']['std'].append(np.std(GPR_err['train']))\n",
    "    ANN_OME['test']['avg'].append(np.mean(ANN_err['test']))\n",
    "    ANN_OME['test']['std'].append(np.std(ANN_err['test']))\n",
    "    ANN_OME['train']['avg'].append(np.mean(ANN_err['train']))\n",
    "    ANN_OME['train']['std'].append(np.std(ANN_err['train']))\n"
   ]
  },
  {
   "cell_type": "code",
   "execution_count": 8,
   "metadata": {},
   "outputs": [],
   "source": [
    "def LC_viz(errors, title):\n",
    "    train_size = np.linspace(0.1,0.9,9)\n",
    "    plt.plot(train_size, errors['train']['avg'], label = 'Train')\n",
    "    plt.fill_between(train_size, np.array(errors['train']['avg']) - np.array(errors['train']['std']), np.array(errors['train']['avg']) + np.array(errors['train']['std']), alpha = 0.2)\n",
    "    plt.plot(train_size, errors['test']['avg'], label = 'Validation')\n",
    "    plt.fill_between(train_size, np.array(errors['test']['avg']) - np.array(errors['test']['std']), np.array(errors['test']['avg']) + np.array(errors['test']['std']), alpha = 0.2)\n",
    "    plt.title(title)\n",
    "    plt.xlabel('Train Size Frac')\n",
    "    plt.ylabel('OME')\n",
    "    plt.legend()\n",
    "    plt.show()"
   ]
  },
  {
   "cell_type": "code",
   "execution_count": 9,
   "metadata": {},
   "outputs": [
    {
     "data": {
      "text/plain": [
       "{'test': {'avg': [0.6839961,\n",
       "   0.5487947,\n",
       "   0.44744793,\n",
       "   0.42139658,\n",
       "   0.38100833,\n",
       "   0.37221485,\n",
       "   0.35965955,\n",
       "   0.3391672,\n",
       "   0.29993254],\n",
       "  'std': [0.07081158,\n",
       "   0.022270499,\n",
       "   0.027781483,\n",
       "   0.015872505,\n",
       "   0.026193393,\n",
       "   0.006827742,\n",
       "   0.04656972,\n",
       "   0.01994452,\n",
       "   0.04341919]},\n",
       " 'train': {'avg': [0.47307673,\n",
       "   0.39996234,\n",
       "   0.3397178,\n",
       "   0.34054193,\n",
       "   0.31452593,\n",
       "   0.30646342,\n",
       "   0.3000997,\n",
       "   0.28165218,\n",
       "   0.27633008],\n",
       "  'std': [0.05866872,\n",
       "   0.036305718,\n",
       "   0.025039792,\n",
       "   0.00900412,\n",
       "   0.010428372,\n",
       "   0.016562393,\n",
       "   0.022316461,\n",
       "   0.012284879,\n",
       "   0.008423251]}}"
      ]
     },
     "execution_count": 9,
     "metadata": {},
     "output_type": "execute_result"
    }
   ],
   "source": [
    "ANN_OME"
   ]
  },
  {
   "cell_type": "code",
   "execution_count": 10,
   "metadata": {},
   "outputs": [
    {
     "data": {
      "image/png": "[encoded data removed]",
      "text/plain": [
       "<Figure size 432x288 with 1 Axes>"
      ]
     },
     "metadata": {
      "needs_background": "light"
     },
     "output_type": "display_data"
    }
   ],
   "source": [
    "LC_viz(ANN_OME, 'ANN Learning Curve')"
   ]
  },
  {
   "cell_type": "code",
   "execution_count": 11,
   "metadata": {},
   "outputs": [
    {
     "data": {
      "image/png": "[encoded data removed]",
      "text/plain": [
       "<Figure size 432x288 with 1 Axes>"
      ]
     },
     "metadata": {
      "needs_background": "light"
     },
     "output_type": "display_data"
    }
   ],
   "source": [
    "LC_viz(GPR_OME, 'GPR Learning Curve')"
   ]
  },
  {
   "cell_type": "code",
   "execution_count": null,
   "metadata": {},
   "outputs": [],
   "source": []
  },
  {
   "cell_type": "code",
   "execution_count": null,
   "metadata": {},
   "outputs": [],
   "source": []
  }
 ],
 "metadata": {
  "interpreter": {
   "hash": "15a11b5b55027f97ee5f25f7ca473a65664eb0a9d07bcb0ec5a63970ea26014d"
  },
  "kernelspec": {
   "display_name": "Python 3.8.7 ('.venv': poetry)",
   "language": "python",
   "name": "python3"
  },
  "language_info": {
   "codemirror_mode": {
    "name": "ipython",
    "version": 3
   },
   "file_extension": ".py",
   "mimetype": "text/x-python",
   "name": "python",
   "nbconvert_exporter": "python",
   "pygments_lexer": "ipython3",
   "version": "3.8.7"
  },
  "orig_nbformat": 4
 },
 "nbformat": 4,
 "nbformat_minor": 2
}
