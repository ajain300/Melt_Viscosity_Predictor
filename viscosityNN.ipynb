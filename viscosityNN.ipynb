{
 "cells": [
  {
   "cell_type": "code",
   "execution_count": 2,
   "id": "6f985a3d-7d4a-436c-8173-68bf5e13bff5",
   "metadata": {},
   "outputs": [],
   "source": [
    "%load_ext autoreload\n",
    "\n",
    "%autoreload 2"
   ]
  },
  {
   "cell_type": "code",
   "execution_count": 4,
   "id": "60552a01-403a-48b9-acac-fbe59b264653",
   "metadata": {},
   "outputs": [],
   "source": [
    "import tensorflow as tf\n",
    "from tensorflow.keras import Sequential\n",
    "from tensorflow.keras.layers import Dense\n",
    "import pandas as pd\n",
    "import numpy as np\n",
    "from sklearn.model_selection import train_test_split\n",
    "from validation.metrics import OME\n",
    "import matplotlib.pyplot as plt\n",
    "from sklearn.model_selection import KFold\n",
    "from sklearn.preprocessing import MinMaxScaler"
   ]
  },
  {
   "cell_type": "code",
   "execution_count": 35,
   "id": "f24622c1-7873-4cda-9530-ab484d20ba59",
   "metadata": {},
   "outputs": [],
   "source": [
    "data = pd.read_excel('Data/full_data_2021-11-08.xlsx')\n",
    "cols = ['Mw', 'Temperature', 'Shear_Rate','Melt_Viscosity']\n",
    "for c in data.columns:\n",
    "    if 'afp' in c or 'bfp' in c or 'mpf' in c or 'efp' in c:\n",
    "        cols.append(c)"
   ]
  },
  {
   "cell_type": "code",
   "execution_count": 36,
   "id": "27a3c7d4-2156-46f3-b772-51ab278b7b25",
   "metadata": {},
   "outputs": [],
   "source": [
    "for c in ['Mw', 'Melt_Viscosity']:\n",
    "    data[c] = np.log10(data[c])\n",
    "\n",
    "for i in data.index:\n",
    "    if data.loc[i, 'Shear_Rate'] != 0:\n",
    "        data.loc[i,'Shear_Rate'] = np.log10(data.loc[i, 'Shear_Rate'])\n",
    "        #data = data.drop([i])"
   ]
  },
  {
   "cell_type": "code",
   "execution_count": 83,
   "id": "51705342-e888-4420-b398-d27bb2bd735a",
   "metadata": {},
   "outputs": [],
   "source": [
    "#cols.remove('Shear_Rate')\n",
    "filtered_data = data.loc[:, cols].dropna()\n",
    "X_tot = np.array(filtered_data.filter([c for c in cols if 'afp' in c or 'bfp' in c or 'mpf' in c or 'efp' in c]))\n",
    "tot_samples = X_tot.shape[0]\n",
    "Y_tot = np.array(filtered_data.loc[:,'Melt_Viscosity']).reshape((tot_samples,1))"
   ]
  },
  {
   "cell_type": "code",
   "execution_count": 84,
   "id": "026cb7fe-b99d-4fd9-ad61-5ed3638f50e1",
   "metadata": {},
   "outputs": [],
   "source": [
    "logMw = np.array(filtered_data['Mw']).reshape((tot_samples,1))\n",
    "log_shear = np.array(filtered_data['Shear_Rate']).reshape((tot_samples,1))\n",
    "Temp = np.array(filtered_data['Temperature']).reshape((tot_samples,1))\n",
    "#scaler = MinMaxScaler(copy = False)\n",
    "#scaler.fit(Y_tot).transform(Y_tot);\n",
    "#scaler.fit(log_shear).transform(log_shear);\n",
    "#scaler.fit(Temp).transform(Temp);\n"
   ]
  },
  {
   "cell_type": "code",
   "execution_count": 85,
   "id": "38b1d4e2-c7d7-4144-9ab6-a29e832a4fa1",
   "metadata": {},
   "outputs": [],
   "source": [
    "XX, X_test, yy, y_test, M, M_test, S, S_test, T, T_test = train_test_split(X_tot, Y_tot, logMw, log_shear, Temp, test_size=0.10)\n",
    "#XX, X_test, yy, y_test = train_test_split(X_tot, Y_tot, test_size=0.10)"
   ]
  },
  {
   "cell_type": "code",
   "execution_count": 93,
   "id": "3553f4f7-e7b8-4bad-bc11-540840110594",
   "metadata": {},
   "outputs": [],
   "source": [
    "def create_model(n_features):\n",
    "    fp_in = tf.keras.Input(shape=(n_features,))\n",
    "    logMw = tf.keras.Input(shape=(1,))\n",
    "    log_shear = tf.keras.Input(shape=(1,))\n",
    "    T = tf.keras.Input(shape=(1,))\n",
    "    layer_1 = Dense(100, activation='relu', kernel_initializer='he_normal')(fp_in)\n",
    "    layer_2 = Dense(50, activation='relu', kernel_initializer='he_normal')(layer_1)\n",
    "    params_layer = Dense(5, activation='relu')(layer_2)\n",
    "    A,a,B,To,n = tf.keras.layers.Lambda(lambda x: tf.split(x,[1,1,1,1,1],axis=-1))(params_layer)\n",
    "    log_eta = tf.keras.layers.Lambda(lambda x: x[0] + x[1]*x[5] + x[4]*x[6] + (x[2]/(x[7] - x[3])))([A,a,B,To,n, logMw, log_shear, T])\n",
    "    model=tf.keras.models.Model(inputs=[fp_in, logMw, log_shear, T], outputs=[log_eta])\n",
    "    model.compile(optimizer='adam', loss='mse')\n",
    "    return model"
   ]
  },
  {
   "cell_type": "code",
   "execution_count": 97,
   "id": "3b151c24-ca3e-40f4-a32d-8d96c56167dc",
   "metadata": {},
   "outputs": [],
   "source": [
    "def create_model(n_features):\n",
    "    fp_in = tf.keras.Input(shape=(n_features,))\n",
    "    layer_1 = Dense(100, activation='relu', kernel_initializer='he_normal')(fp_in)\n",
    "    layer_2 = Dense(50, activation='relu', kernel_initializer='he_normal')(layer_1)\n",
    "    params_layer = Dense(5, activation='relu')(layer_2)\n",
    "    log_eta = Dense(1, activation = 'relu')(params_layer)\n",
    "    model=tf.keras.models.Model(inputs=[fp_in, logMw, log_shear, T], outputs=[log_eta])\n",
    "    model.compile(optimizer='adam', loss='mse')\n",
    "    return model"
   ]
  },
  {
   "cell_type": "code",
   "execution_count": 94,
   "id": "b084d4d6-4474-4728-baa9-5142c7c16bb4",
   "metadata": {},
   "outputs": [
    {
     "name": "stdout",
     "output_type": "stream",
     "text": [
      "MSE: 2.073, RMSE: 1.440\n",
      "MSE: 1.693, RMSE: 1.301\n",
      "MSE: 2.071, RMSE: 1.439\n",
      "MSE: 1.117, RMSE: 1.057\n",
      "MSE: 2.293, RMSE: 1.514\n"
     ]
    }
   ],
   "source": [
    "kf = KFold(n_splits=5, shuffle = True)\n",
    "m = []\n",
    "error = []\n",
    "bad = []\n",
    "for train_index, test_index in kf.split(XX):\n",
    "    X_train, X_val = XX[train_index], XX[test_index]\n",
    "    y_train, y_val = yy[train_index], yy[test_index]\n",
    "    M_train, M_val = M[train_index], M[test_index]\n",
    "    S_train, S_val = S[train_index], S[test_index]\n",
    "    T_train, T_val = T[train_index], T[test_index]\n",
    "    n_features = X_train.shape[1]\n",
    "    m.append(create_model(n_features))\n",
    "    #model = create_model(n_features)\n",
    "    m[-1].fit([X_train, M_train, S_train, T_train], y_train, epochs=300, batch_size=30, verbose=0)\n",
    "    error.append(m[-1].evaluate([X_val, M_val, S_val, T_val], y_val, verbose=0))\n",
    "    if error[-1] > 10:\n",
    "        bad.append(train_index)\n",
    "    print('MSE: %.3f, RMSE: %.3f' % (error[-1], np.sqrt(error[-1])))"
   ]
  },
  {
   "cell_type": "code",
   "execution_count": 95,
   "id": "2e569629-8f7f-4cff-8ac5-131480916d7b",
   "metadata": {},
   "outputs": [],
   "source": [
    "model = m[error.index(min(error))]"
   ]
  },
  {
   "cell_type": "code",
   "execution_count": 96,
   "id": "3ec49ed1-be39-45b7-83d3-22d234a16715",
   "metadata": {},
   "outputs": [
    {
     "data": {
      "text/plain": [
       "<matplotlib.legend.Legend at 0x221085242b0>"
      ]
     },
     "execution_count": 96,
     "metadata": {},
     "output_type": "execute_result"
    },
    {
     "data": {
      "image/png": "[encoded data removed]",
      "text/plain": [
       "<Figure size 432x288 with 1 Axes>"
      ]
     },
     "metadata": {
      "needs_background": "light"
     },
     "output_type": "display_data"
    }
   ],
   "source": [
    "plt.scatter(y_train, model.predict([X_train, M_train, S_train, T_train]), c = 'orange')\n",
    "plt.scatter(y_test,  model.predict([X_test, M_test, S_test, T_test]))\n",
    "#plt.scatter(scaler.inverse_transform(y_train), scaler.inverse_transform(model.predict([X_train, M_train, S_train, T_train])), c = 'orange')\n",
    "#plt.scatter(scaler.inverse_transform(y_test),  scaler.inverse_transform(model.predict([X_test, M_test, S_test, T_test])))\n",
    "plt.plot(np.linspace((min(y_train)[0]), (max(y_train)[0]), num = 2),np.linspace((min(y_train)[0]), (max(y_train)[0]), num = 2),'k-')\n",
    "plt.ylabel('Log Prediction')\n",
    "plt.xlabel('Log Truth')\n",
    "plt.legend(['Truth = Prediction','Train','Test'])\n",
    "#rmse = metrics.RMSE(mean, yy)\n",
    "#mape = metrics.MAPE(mean, yy)"
   ]
  },
  {
   "cell_type": "code",
   "execution_count": 88,
   "id": "4fc12084-7a6f-4e9e-b413-f025add4c640",
   "metadata": {},
   "outputs": [
    {
     "name": "stdout",
     "output_type": "stream",
     "text": [
      "Model: \"model_79\"\n",
      "__________________________________________________________________________________________________\n",
      "Layer (type)                    Output Shape         Param #     Connected to                     \n",
      "==================================================================================================\n",
      "input_321 (InputLayer)          [(None, 162)]        0                                            \n",
      "__________________________________________________________________________________________________\n",
      "dense_240 (Dense)               (None, 64)           10432       input_321[0][0]                  \n",
      "__________________________________________________________________________________________________\n",
      "dense_241 (Dense)               (None, 32)           2080        dense_240[0][0]                  \n",
      "__________________________________________________________________________________________________\n",
      "dense_242 (Dense)               (None, 5)            165         dense_241[0][0]                  \n",
      "__________________________________________________________________________________________________\n",
      "lambda_159 (Lambda)             [(None, 1), (None, 1 0           dense_242[0][0]                  \n",
      "__________________________________________________________________________________________________\n",
      "input_322 (InputLayer)          [(None, 1)]          0                                            \n",
      "__________________________________________________________________________________________________\n",
      "input_323 (InputLayer)          [(None, 1)]          0                                            \n",
      "__________________________________________________________________________________________________\n",
      "input_324 (InputLayer)          [(None, 1)]          0                                            \n",
      "__________________________________________________________________________________________________\n",
      "lambda_160 (Lambda)             (None, 1)            0           lambda_159[0][0]                 \n",
      "                                                                 lambda_159[0][1]                 \n",
      "                                                                 lambda_159[0][2]                 \n",
      "                                                                 lambda_159[0][3]                 \n",
      "                                                                 lambda_159[0][4]                 \n",
      "                                                                 input_322[0][0]                  \n",
      "                                                                 input_323[0][0]                  \n",
      "                                                                 input_324[0][0]                  \n",
      "==================================================================================================\n",
      "Total params: 12,677\n",
      "Trainable params: 12,677\n",
      "Non-trainable params: 0\n",
      "__________________________________________________________________________________________________\n",
      "None\n"
     ]
    }
   ],
   "source": [
    "print(model.summary())"
   ]
  },
  {
   "cell_type": "code",
   "execution_count": null,
   "id": "70869072-8c02-4b5c-84a6-fc6c6e275c12",
   "metadata": {},
   "outputs": [],
   "source": [
    "keras.plot_model"
   ]
  }
 ],
 "metadata": {
  "kernelspec": {
   "display_name": "Python 3 (ipykernel)",
   "language": "python",
   "name": "python3"
  },
  "language_info": {
   "codemirror_mode": {
    "name": "ipython",
    "version": 3
   },
   "file_extension": ".py",
   "mimetype": "text/x-python",
   "name": "python",
   "nbconvert_exporter": "python",
   "pygments_lexer": "ipython3",
   "version": "3.8.7"
  }
 },
 "nbformat": 4,
 "nbformat_minor": 5
}
