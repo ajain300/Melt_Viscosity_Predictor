{
 "cells": [
  {
   "cell_type": "code",
   "execution_count": 91,
   "id": "6f985a3d-7d4a-436c-8173-68bf5e13bff5",
   "metadata": {},
   "outputs": [
    {
     "name": "stdout",
     "output_type": "stream",
     "text": [
      "The autoreload extension is already loaded. To reload it, use:\n",
      "  %reload_ext autoreload\n"
     ]
    }
   ],
   "source": [
    "%load_ext autoreload\n",
    "\n",
    "%autoreload 2"
   ]
  },
  {
   "cell_type": "code",
   "execution_count": 145,
   "id": "60552a01-403a-48b9-acac-fbe59b264653",
   "metadata": {},
   "outputs": [],
   "source": [
    "import tensorflow as tf\n",
    "import pandas as pd\n",
    "import numpy as np\n",
    "from sklearn.model_selection import train_test_split\n",
    "from validation.metrics import OME, MSE\n",
    "import matplotlib.pyplot as plt\n",
    "from sklearn.model_selection import KFold\n",
    "from sklearn.preprocessing import MinMaxScaler, MaxAbsScaler, PowerTransformer\n",
    "from MODELS.ViscNN import create_ViscNN, create_ViscNN_concat,create_ViscNN_comb, create_ViscNN_phys, above_Mcr, Mcr_gpr_train\n",
    "from validation.tests import viscNN_LC, crossval_NN, Mw_extrapolation, Mw_test, evaluate_model, crossval_compare, shear_extrapolation, shear_test\n",
    "import keras_tuner as kt\n",
    "from gpflow_tools.gpr_models import train_GPR, create_GPR\n",
    "from data_tools.dim_red import fp_PCA\n",
    "import keras.backend as K\n",
    "import keras\n",
    "pd.options.mode.chained_assignment = None  # default='warn'"
   ]
  },
  {
   "cell_type": "code",
   "execution_count": 146,
   "id": "f24622c1-7873-4cda-9530-ab484d20ba59",
   "metadata": {},
   "outputs": [],
   "source": [
    "data = pd.read_excel('Data/full_data_2021-12-28.xlsx')"
   ]
  },
  {
   "cell_type": "code",
   "execution_count": 147,
   "id": "2c046417-81fb-45b2-ad0a-d4f0b4af66cb",
   "metadata": {},
   "outputs": [
    {
     "data": {
      "text/plain": [
       "(1478, 233)"
      ]
     },
     "execution_count": 147,
     "metadata": {},
     "output_type": "execute_result"
    }
   ],
   "source": [
    "data.shape"
   ]
  },
  {
   "cell_type": "code",
   "execution_count": 148,
   "id": "f748c7c2-b009-4d5e-9858-44651748a360",
   "metadata": {},
   "outputs": [
    {
     "name": "stdout",
     "output_type": "stream",
     "text": [
      "Found Zero Shear Samples\n",
      "Found LOBF for samples\n",
      "Generating sample...0\n",
      "Generating sample...1\n",
      "Generating sample...2\n",
      "Generating sample...3\n",
      "Generating sample...4\n",
      "Generating sample...5\n",
      "Generating sample...6\n",
      "Generating sample...7\n",
      "Generating sample...8\n",
      "Generating sample...9\n"
     ]
    }
   ],
   "source": [
    "extrap, PL_data, extrap_samps = Mw_extrapolation(data.copy(), 10)\n",
    "#data = pd.concat([data, extrap], ignore_index = True).reset_index(drop = True)"
   ]
  },
  {
   "cell_type": "code",
   "execution_count": 149,
   "id": "a7ce0ab1-113b-41cf-ba27-04b28a9738a2",
   "metadata": {},
   "outputs": [],
   "source": [
    "shear_samps = shear_extrapolation(data.copy())"
   ]
  },
  {
   "cell_type": "code",
   "execution_count": 150,
   "id": "83bad8a1-2d24-4904-95ff-295105ab2f48",
   "metadata": {},
   "outputs": [],
   "source": [
    "OG_fp = []\n",
    "for c in data.columns:\n",
    "    if isinstance(c, str):\n",
    "        if 'fp' in c:\n",
    "            OG_fp.append(c)"
   ]
  },
  {
   "cell_type": "code",
   "execution_count": 151,
   "id": "a36ff4f1-9494-4df6-b1f1-7bd9fe395325",
   "metadata": {},
   "outputs": [
    {
     "name": "stdout",
     "output_type": "stream",
     "text": [
      "208\n",
      "Explained variance (ratio): [8.32557421e-01 9.55036919e-02 1.80684215e-02 1.20310856e-02\n",
      " 7.72840962e-03 5.55583779e-03 4.33123075e-03 3.81099158e-03\n",
      " 3.39715491e-03 2.69047851e-03 1.85046285e-03 1.36321263e-03\n",
      " 1.25112141e-03 8.90611426e-04 8.54997584e-04 7.62831385e-04\n",
      " 6.68179895e-04]\n",
      "Total variance in 17 components = 0.9933161407360477\n"
     ]
    }
   ],
   "source": [
    "do_pca = True\n",
    "if do_pca:\n",
    "    data, fp_cols, pca = fp_PCA(data, 17, cols = OG_fp)\n",
    "    cols = fp_cols + ['Mw', 'Temperature', 'Shear_Rate','Melt_Viscosity']\n",
    "else:\n",
    "    fp_cols = OG_fp\n",
    "    cols = fp_cols + ['Mw', 'Temperature', 'Shear_Rate','Melt_Viscosity']"
   ]
  },
  {
   "cell_type": "code",
   "execution_count": 152,
   "id": "27a3c7d4-2156-46f3-b772-51ab278b7b25",
   "metadata": {},
   "outputs": [],
   "source": [
    "for c in ['Mw', 'Melt_Viscosity']:\n",
    "    data[c] = np.log10(data[c])\n",
    "\n",
    "data['ZERO_SHEAR'] = 1\n",
    "data['SHEAR'] = 0\n",
    "data['log_Shear_Rate'] = 0\n",
    "for i in data.index:\n",
    "    if data.loc[i, 'Shear_Rate'] != 0:\n",
    "        data.loc[i,'log_Shear_Rate'] = np.log10(data.loc[i, 'Shear_Rate'])\n",
    "        data.loc[i, 'SHEAR'] = 1\n",
    "        data.loc[i, 'ZERO_SHEAR'] = 0\n",
    "        #data = data.drop([i])"
   ]
  },
  {
   "cell_type": "code",
   "execution_count": 153,
   "id": "51705342-e888-4420-b398-d27bb2bd735a",
   "metadata": {},
   "outputs": [],
   "source": [
    "#cols.remove('Shear_Rate')\n",
    "filtered_data = data.loc[:, cols + ['Polymer', 'SHEAR', 'ZERO_SHEAR', 'log_Shear_Rate']].dropna(subset = ['Mw', 'Shear_Rate'])\n",
    "#X_tot = np.array(filtered_data.filter(fp_cols + ['SHEAR', 'ZERO_SHEAR']))\n",
    "X_tot = np.array(filtered_data.filter(fp_cols))\n",
    "tot_samples = X_tot.shape[0]\n",
    "Y_tot = np.array(filtered_data.loc[:,'Melt_Viscosity']).reshape((tot_samples,1))"
   ]
  },
  {
   "cell_type": "code",
   "execution_count": 154,
   "id": "026cb7fe-b99d-4fd9-ad61-5ed3638f50e1",
   "metadata": {},
   "outputs": [],
   "source": [
    "logMw = np.array(filtered_data['Mw']).reshape((tot_samples,1))\n",
    "log_shear = np.array(filtered_data['log_Shear_Rate']).reshape((tot_samples,1))\n",
    "shear = np.array(filtered_data['Shear_Rate']).reshape((tot_samples,1))\n",
    "Temp = np.array(filtered_data['Temperature']).reshape((tot_samples,1))\n",
    "scaler = MinMaxScaler(copy = False)\n",
    "scaler.fit(X_tot).transform(X_tot);\n",
    "#y_scaler = MinMaxScaler(copy = False)\n",
    "#y_scaler.fit(Y_tot).transform(Y_tot);\n",
    "#S_scaler = MaxAbsScaler().fit(log_shear)\n",
    "#log_shear = S_scaler.transform(log_shear)\n",
    "T_scaler = MinMaxScaler().fit(Temp)\n",
    "Temp = T_scaler.transform(Temp);\n",
    "M_scaler = MinMaxScaler().fit(logMw)\n",
    "logMw = M_scaler.transform(logMw);\n",
    "S_trans = PowerTransformer(standardize = False).fit(shear)\n",
    "S_scaler = MinMaxScaler().fit(S_trans.transform(shear))\n",
    "shear = S_scaler.transform(S_trans.transform(shear))\n",
    "gpr_Mcr = Mcr_gpr_train(OG_fp, pca, M_scaler, scaler)"
   ]
  },
  {
   "cell_type": "code",
   "execution_count": 259,
   "id": "f87022c4-ecb8-444f-826b-c69f3d52face",
   "metadata": {},
   "outputs": [
    {
     "data": {
      "text/plain": [
       "array([-0.20024025])"
      ]
     },
     "execution_count": 259,
     "metadata": {},
     "output_type": "execute_result"
    }
   ],
   "source": [
    "S_trans.lambdas_"
   ]
  },
  {
   "cell_type": "code",
   "execution_count": 227,
   "id": "3dcde744-f41e-4c7a-aa74-31ba798dd3a0",
   "metadata": {},
   "outputs": [],
   "source": [
    "XX, X_test, yy, y_test, M, M_test, S, S_test, T, T_test, train_ind, test_ind, gr_Mcr, gr_Mcr_test = train_test_split(X_tot, Y_tot, logMw, shear, Temp, range(tot_samples), np.array(above_Mcr(logMw, Mcr = gpr_Mcr.predict_y(X_tot)[0])), test_size= 0.10)"
   ]
  },
  {
   "cell_type": "code",
   "execution_count": 228,
   "id": "e7ac729f-fc7d-4804-aa4c-d416d49536a6",
   "metadata": {},
   "outputs": [
    {
     "data": {
      "text/plain": [
       "<matplotlib.collections.PathCollection at 0x1d08a092100>"
      ]
     },
     "execution_count": 228,
     "metadata": {},
     "output_type": "execute_result"
    },
    {
     "data": {
      "image/png": "[encoded data removed]",
      "text/plain": [
       "<Figure size 432x288 with 1 Axes>"
      ]
     },
     "metadata": {
      "needs_background": "light"
     },
     "output_type": "display_data"
    },
    {
     "data": {
      "image/png": "[encoded data removed]",
      "text/plain": [
       "<Figure size 432x288 with 1 Axes>"
      ]
     },
     "metadata": {
      "needs_background": "light"
     },
     "output_type": "display_data"
    },
    {
     "data": {
      "image/png": "[encoded data removed]",
      "text/plain": [
       "<Figure size 432x288 with 1 Axes>"
      ]
     },
     "metadata": {
      "needs_background": "light"
     },
     "output_type": "display_data"
    }
   ],
   "source": [
    "plt.scatter(M, yy, c = 'orange')\n",
    "plt.scatter(M_test, y_test)\n",
    "\n",
    "plt.figure()\n",
    "plt.scatter(S, yy, c = 'orange')\n",
    "plt.scatter(S_test, y_test)\n",
    "\n",
    "plt.figure()\n",
    "plt.scatter(T, yy, c = 'orange')\n",
    "plt.scatter(T_test, y_test)"
   ]
  },
  {
   "cell_type": "code",
   "execution_count": 229,
   "id": "e2c0ecb1-32f3-4b6a-b7de-85a979bec270",
   "metadata": {},
   "outputs": [
    {
     "name": "stdout",
     "output_type": "stream",
     "text": [
      "Trained fold 1 ...\n",
      "CV Error create_ViscNN_phys: 0.946223795413971\n",
      "CV Error create_ViscNN_concat: 0.47076714038848877\n",
      "CV Error GPR: 0.4418597126212875\n",
      "Trained fold 2 ...\n",
      "CV Error create_ViscNN_phys: 0.5459723472595215\n",
      "CV Error create_ViscNN_concat: 0.28757187724113464\n",
      "CV Error GPR: 0.17573956830520052\n",
      "Trained fold 3 ...\n",
      "CV Error create_ViscNN_phys: 0.5634554028511047\n",
      "CV Error create_ViscNN_concat: 0.3951284885406494\n",
      "CV Error GPR: 0.07575696109178354\n",
      "Trained fold 4 ...\n",
      "CV Error create_ViscNN_phys: 0.6798995733261108\n",
      "CV Error create_ViscNN_concat: 0.33457499742507935\n",
      "CV Error GPR: 0.15225097384921876\n",
      "Trained fold 5 ...\n",
      "CV Error create_ViscNN_phys: 1.0677913427352905\n",
      "CV Error create_ViscNN_concat: 0.6637904644012451\n",
      "CV Error GPR: 0.13980375675353235\n",
      "Trained fold 6 ...\n",
      "CV Error create_ViscNN_phys: 0.39353540539741516\n",
      "CV Error create_ViscNN_concat: 0.201869398355484\n",
      "CV Error GPR: 0.07062155462840855\n",
      "Trained fold 7 ...\n",
      "CV Error create_ViscNN_phys: 0.6246703863143921\n",
      "CV Error create_ViscNN_concat: 0.2696970999240875\n",
      "CV Error GPR: 0.2087036212708827\n",
      "Trained fold 8 ...\n",
      "CV Error create_ViscNN_phys: 1.5520334243774414\n",
      "CV Error create_ViscNN_concat: 0.6987130641937256\n",
      "CV Error GPR: 0.6776032845320922\n",
      "Trained fold 9 ...\n",
      "CV Error create_ViscNN_phys: 0.6569175720214844\n",
      "CV Error create_ViscNN_concat: 0.2650739848613739\n",
      "CV Error GPR: 0.17888023402245962\n",
      "Trained fold 10 ...\n",
      "CV Error create_ViscNN_phys: 0.6756300926208496\n",
      "CV Error create_ViscNN_concat: 0.23255568742752075\n",
      "CV Error GPR: 0.14122348070785257\n"
     ]
    }
   ],
   "source": [
    "models, history, gpr_models, gp_cv  = crossval_compare([create_ViscNN_phys, create_ViscNN_concat], XX, yy, M=M, S=S, T=T, gr_Mcr=gr_Mcr, verbose = 1, random_state = 75, gpr_model = create_GPR)"
   ]
  },
  {
   "cell_type": "code",
   "execution_count": 230,
   "id": "58d9bf30-06be-47cb-8f49-ca66b1b0176b",
   "metadata": {},
   "outputs": [
    {
     "name": "stdout",
     "output_type": "stream",
     "text": [
      "Test OME:12.6707535\n"
     ]
    },
    {
     "data": {
      "image/png": "[encoded data removed]",
      "text/plain": [
       "<Figure size 432x288 with 1 Axes>"
      ]
     },
     "metadata": {
      "needs_background": "light"
     },
     "output_type": "display_data"
    }
   ],
   "source": [
    "m_P = models[0][5]\n",
    "\n",
    "test_pred =  m_P.predict([X_test, M_test, S_test, T_test, gr_Mcr_test])\n",
    "train_pred = m_P.predict([XX, M, S, T, gr_Mcr])\n",
    "plt.scatter(yy, train_pred, c = 'orange')\n",
    "plt.scatter(y_test, test_pred)\n",
    "\n",
    "plt.plot(np.linspace((min(yy)[0]), (max(yy)[0]), num = 2),np.linspace((min(yy)[0]), (max(yy)[0]), num = 2),'k-')\n",
    "plt.ylabel('Log Prediction')\n",
    "plt.xlabel('Log Truth')\n",
    "plt.legend(['Truth = Prediction','Train','Test'])\n",
    "#rmse = metrics.RMSE(mean, yy)\n",
    "#mape = metrics.MAPE(mean, yy)\n",
    "#print(\"Test MSE:\" + str(model.evaluate([X_test, M_scaler.inverse_transform(M_test), S_scaler.inverse_transform(S_test), T_scaler.inverse_transform(T_test)],y_test , verbose=0)))\n",
    "#print(\"Test OME:\" + str(OME(model.predict([X_test, M_scaler.inverse_transform(M_test), S_scaler.inverse_transform(S_test), T_scaler.inverse_transform(T_test)]), y_test).numpy()))\n",
    "#print(\"Test MSE:\" + str(model.evaluate([X_test, M_test, S_test, T_test,M_scaler.inverse_transform(M_test), S_scaler.inverse_transform(S_test), T_scaler.inverse_transform(T_test)],y_test , verbose=0)))\n",
    "print(\"Test OME:\" + str(OME(test_pred, y_test).numpy()))"
   ]
  },
  {
   "cell_type": "code",
   "execution_count": 160,
   "id": "a8608eb2-9729-44d3-9450-1282c09a805d",
   "metadata": {},
   "outputs": [
    {
     "name": "stdout",
     "output_type": "stream",
     "text": [
      "0.8620001562432996\n"
     ]
    },
    {
     "data": {
      "text/html": [
       "<div>\n",
       "<style scoped>\n",
       "    .dataframe tbody tr th:only-of-type {\n",
       "        vertical-align: middle;\n",
       "    }\n",
       "\n",
       "    .dataframe tbody tr th {\n",
       "        vertical-align: top;\n",
       "    }\n",
       "\n",
       "    .dataframe thead th {\n",
       "        text-align: right;\n",
       "    }\n",
       "</style>\n",
       "<table border=\"1\" class=\"dataframe\">\n",
       "  <thead>\n",
       "    <tr style=\"text-align: right;\">\n",
       "      <th></th>\n",
       "      <th>0</th>\n",
       "      <th>1</th>\n",
       "      <th>2</th>\n",
       "      <th>3</th>\n",
       "      <th>4</th>\n",
       "      <th>5</th>\n",
       "      <th>6</th>\n",
       "      <th>7</th>\n",
       "      <th>8</th>\n",
       "      <th>9</th>\n",
       "      <th>...</th>\n",
       "      <th>Temperature</th>\n",
       "      <th>Shear_Rate</th>\n",
       "      <th>Melt_Viscosity</th>\n",
       "      <th>Polymer</th>\n",
       "      <th>SHEAR</th>\n",
       "      <th>ZERO_SHEAR</th>\n",
       "      <th>log_Shear_Rate</th>\n",
       "      <th>Y_pred</th>\n",
       "      <th>Error</th>\n",
       "      <th>BAD_PRED</th>\n",
       "    </tr>\n",
       "  </thead>\n",
       "  <tbody>\n",
       "    <tr>\n",
       "      <th>607</th>\n",
       "      <td>-0.399525</td>\n",
       "      <td>-0.035769</td>\n",
       "      <td>-1.196566</td>\n",
       "      <td>1.274073</td>\n",
       "      <td>0.347111</td>\n",
       "      <td>-0.456602</td>\n",
       "      <td>-0.239314</td>\n",
       "      <td>0.561085</td>\n",
       "      <td>0.485379</td>\n",
       "      <td>0.006981</td>\n",
       "      <td>...</td>\n",
       "      <td>232.0</td>\n",
       "      <td>0.0</td>\n",
       "      <td>11.487138</td>\n",
       "      <td>Poly(2,6-dimethyl 1,4-phenylene oxide)</td>\n",
       "      <td>0</td>\n",
       "      <td>1</td>\n",
       "      <td>0.0</td>\n",
       "      <td>3.974874</td>\n",
       "      <td>7.512265</td>\n",
       "      <td>True</td>\n",
       "    </tr>\n",
       "    <tr>\n",
       "      <th>430</th>\n",
       "      <td>-0.449044</td>\n",
       "      <td>-0.020171</td>\n",
       "      <td>-0.342884</td>\n",
       "      <td>-0.102979</td>\n",
       "      <td>-0.377450</td>\n",
       "      <td>0.015468</td>\n",
       "      <td>0.195777</td>\n",
       "      <td>0.029891</td>\n",
       "      <td>-0.242060</td>\n",
       "      <td>-0.213824</td>\n",
       "      <td>...</td>\n",
       "      <td>25.0</td>\n",
       "      <td>0.0</td>\n",
       "      <td>4.126582</td>\n",
       "      <td>polybutadiene</td>\n",
       "      <td>0</td>\n",
       "      <td>1</td>\n",
       "      <td>0.0</td>\n",
       "      <td>2.106596</td>\n",
       "      <td>2.019987</td>\n",
       "      <td>True</td>\n",
       "    </tr>\n",
       "    <tr>\n",
       "      <th>174</th>\n",
       "      <td>-0.400568</td>\n",
       "      <td>-0.024780</td>\n",
       "      <td>-1.972367</td>\n",
       "      <td>1.532369</td>\n",
       "      <td>1.372390</td>\n",
       "      <td>-0.793578</td>\n",
       "      <td>-0.117170</td>\n",
       "      <td>0.176124</td>\n",
       "      <td>0.861302</td>\n",
       "      <td>-0.047916</td>\n",
       "      <td>...</td>\n",
       "      <td>200.0</td>\n",
       "      <td>0.0</td>\n",
       "      <td>3.845098</td>\n",
       "      <td>polyethene</td>\n",
       "      <td>0</td>\n",
       "      <td>1</td>\n",
       "      <td>0.0</td>\n",
       "      <td>6.062875</td>\n",
       "      <td>2.217777</td>\n",
       "      <td>True</td>\n",
       "    </tr>\n",
       "    <tr>\n",
       "      <th>1373</th>\n",
       "      <td>-0.040373</td>\n",
       "      <td>0.455534</td>\n",
       "      <td>-0.088592</td>\n",
       "      <td>-0.696328</td>\n",
       "      <td>-0.580864</td>\n",
       "      <td>-0.366371</td>\n",
       "      <td>0.152544</td>\n",
       "      <td>-0.462110</td>\n",
       "      <td>-0.163748</td>\n",
       "      <td>-0.068961</td>\n",
       "      <td>...</td>\n",
       "      <td>169.0</td>\n",
       "      <td>0.0</td>\n",
       "      <td>7.551450</td>\n",
       "      <td>Poly(4-vinyl phenol), Poly(ethylene oxide)</td>\n",
       "      <td>0</td>\n",
       "      <td>1</td>\n",
       "      <td>0.0</td>\n",
       "      <td>1.424464</td>\n",
       "      <td>6.126986</td>\n",
       "      <td>True</td>\n",
       "    </tr>\n",
       "  </tbody>\n",
       "</table>\n",
       "<p>4 rows × 28 columns</p>\n",
       "</div>"
      ],
      "text/plain": [
       "             0         1         2         3         4         5         6  \\\n",
       "607  -0.399525 -0.035769 -1.196566  1.274073  0.347111 -0.456602 -0.239314   \n",
       "430  -0.449044 -0.020171 -0.342884 -0.102979 -0.377450  0.015468  0.195777   \n",
       "174  -0.400568 -0.024780 -1.972367  1.532369  1.372390 -0.793578 -0.117170   \n",
       "1373 -0.040373  0.455534 -0.088592 -0.696328 -0.580864 -0.366371  0.152544   \n",
       "\n",
       "             7         8         9  ...  Temperature  Shear_Rate  \\\n",
       "607   0.561085  0.485379  0.006981  ...        232.0         0.0   \n",
       "430   0.029891 -0.242060 -0.213824  ...         25.0         0.0   \n",
       "174   0.176124  0.861302 -0.047916  ...        200.0         0.0   \n",
       "1373 -0.462110 -0.163748 -0.068961  ...        169.0         0.0   \n",
       "\n",
       "      Melt_Viscosity                                     Polymer  SHEAR  \\\n",
       "607        11.487138      Poly(2,6-dimethyl 1,4-phenylene oxide)      0   \n",
       "430         4.126582                               polybutadiene      0   \n",
       "174         3.845098                                  polyethene      0   \n",
       "1373        7.551450  Poly(4-vinyl phenol), Poly(ethylene oxide)      0   \n",
       "\n",
       "      ZERO_SHEAR  log_Shear_Rate    Y_pred     Error  BAD_PRED  \n",
       "607            1             0.0  3.974874  7.512265      True  \n",
       "430            1             0.0  2.106596  2.019987      True  \n",
       "174            1             0.0  6.062875  2.217777      True  \n",
       "1373           1             0.0  1.424464  6.126986      True  \n",
       "\n",
       "[4 rows x 28 columns]"
      ]
     },
     "execution_count": 160,
     "metadata": {},
     "output_type": "execute_result"
    }
   ],
   "source": [
    "train_df, test_df = evaluate_model(test_pred, train_pred , filtered_data, (train_ind, test_ind))\n",
    "test_df[test_df['Error'] > 2]"
   ]
  },
  {
   "cell_type": "code",
   "execution_count": 231,
   "id": "fe5a83c7-c124-4b10-8c57-dfdb1c28a61f",
   "metadata": {},
   "outputs": [
    {
     "name": "stdout",
     "output_type": "stream",
     "text": [
      "Test OME:9.876018\n"
     ]
    },
    {
     "data": {
      "image/png": "[encoded data removed]",
      "text/plain": [
       "<Figure size 432x288 with 1 Axes>"
      ]
     },
     "metadata": {
      "needs_background": "light"
     },
     "output_type": "display_data"
    }
   ],
   "source": [
    "m_NP = models[1][5]\n",
    "test_pred =  m_NP.predict([X_test, M_test, S_test, T_test, gr_Mcr_test])\n",
    "train_pred = m_NP.predict([XX, M, S, T, gr_Mcr])\n",
    "plt.scatter(yy, train_pred, c = 'orange')\n",
    "plt.scatter(y_test, test_pred)\n",
    "\n",
    "plt.plot(np.linspace((min(yy)[0]), (max(yy)[0]), num = 2),np.linspace((min(yy)[0]), (max(yy)[0]), num = 2),'k-')\n",
    "plt.ylabel('Log Prediction')\n",
    "plt.xlabel('Log Truth')\n",
    "plt.legend(['Truth = Prediction','Train','Test'])\n",
    "#rmse = metrics.RMSE(mean, yy)\n",
    "#mape = metrics.MAPE(mean, yy)\n",
    "#print(\"Test MSE:\" + str(model.evaluate([X_test, M_scaler.inverse_transform(M_test), S_scaler.inverse_transform(S_test), T_scaler.inverse_transform(T_test)],y_test , verbose=0)))\n",
    "#print(\"Test OME:\" + str(OME(model.predict([X_test, M_scaler.inverse_transform(M_test), S_scaler.inverse_transform(S_test), T_scaler.inverse_transform(T_test)]), y_test).numpy()))\n",
    "#print(\"Test MSE:\" + str(model.evaluate([X_test, M_test, S_test, T_test,M_scaler.inverse_transform(M_test), S_scaler.inverse_transform(S_test), T_scaler.inverse_transform(T_test)],y_test , verbose=0)))\n",
    "print(\"Test OME:\" + str(OME(test_pred, y_test).numpy()))"
   ]
  },
  {
   "cell_type": "code",
   "execution_count": null,
   "id": "48985747-5e1d-49e6-8878-d7b3632d9bae",
   "metadata": {},
   "outputs": [],
   "source": [
    "test_pred =  model_phys[5].predict([X_test, M_test, S_test, T_test])\n",
    "train_pred = model_phys[5].predict([XX, M, S, T])\n",
    "plt.scatter(yy, train_pred, c = 'orange')\n",
    "plt.scatter(y_test, test_pred)\n",
    "\n",
    "plt.plot(np.linspace((min(y_log)[0]), (max(y_log)[0]), num = 2),np.linspace((min(y_log)[0]), (max(y_log)[0]), num = 2),'k-')\n",
    "plt.ylabel('Log Prediction')\n",
    "plt.xlabel('Log Truth')\n",
    "plt.legend(['Truth = Prediction','Train','Test'])\n",
    "#rmse = metrics.RMSE(mean, yy)\n",
    "#mape = metrics.MAPE(mean, yy)\n",
    "#print(\"Test MSE:\" + str(model.evaluate([X_test, M_scaler.inverse_transform(M_test), S_scaler.inverse_transform(S_test), T_scaler.inverse_transform(T_test)],y_test , verbose=0)))\n",
    "#print(\"Test OME:\" + str(OME(model.predict([X_test, M_scaler.inverse_transform(M_test), S_scaler.inverse_transform(S_test), T_scaler.inverse_transform(T_test)]), y_test).numpy()))\n",
    "#print(\"Test MSE:\" + str(model.evaluate([X_test, M_test, S_test, T_test,M_scaler.inverse_transform(M_test), S_scaler.inverse_transform(S_test), T_scaler.inverse_transform(T_test)],y_test , verbose=0)))\n",
    "print(\"Test OME:\" + str(OME(test_pred, y_test).numpy()))"
   ]
  },
  {
   "cell_type": "code",
   "execution_count": 232,
   "id": "88a21fdf-f5f6-4c0d-996c-315cd9673b3c",
   "metadata": {},
   "outputs": [],
   "source": [
    "#gpr_model = train_GPR(XX, yy, M, S, T)\n",
    "gpr_model = gpr_models[5]"
   ]
  },
  {
   "cell_type": "code",
   "execution_count": 233,
   "id": "8d23fb6d-b7de-442d-9e63-0cb44c79fd3f",
   "metadata": {},
   "outputs": [
    {
     "name": "stdout",
     "output_type": "stream",
     "text": [
      "Test MSE:0.05837435127260369\n",
      "Test OME:tf.Tensor(3.7443042, shape=(), dtype=float32)\n"
     ]
    },
    {
     "data": {
      "image/png": "[encoded data removed]",
      "text/plain": [
       "<Figure size 432x288 with 1 Axes>"
      ]
     },
     "metadata": {
      "needs_background": "light"
     },
     "output_type": "display_data"
    }
   ],
   "source": [
    "X_ = np.concatenate((X_test, M_test, S_test, T_test), axis = 1)\n",
    "X_train = np.concatenate((XX, M, S, T), axis = 1)\n",
    "test_pred, var = gpr_model.predict_y(X_)\n",
    "## generate 10 samples from posterior\n",
    "error =  [i[0] for i in np.array(var).tolist()]\n",
    "print(\"Test MSE:\" + str(MSE(test_pred, y_test)))\n",
    "print(\"Test OME:\" + str(OME(tf.cast(test_pred, tf.float32), y_test)))\n",
    "\n",
    "# plt.plot(xx[:,0], samples[:, :, 0].numpy().T, \"C0\", linewidth=0.5)\n",
    "train_pred, var_train = gpr_model.predict_y(X_train)\n",
    "plt.scatter(yy, train_pred, c = 'orange')\n",
    "plt.errorbar(y_test, test_pred, [i[0] for i in np.array(var).tolist()], fmt = 'o')\n",
    "plt.ylabel('Log Prediction')\n",
    "plt.xlabel('Log Truth')\n",
    "plt.plot(np.linspace((min(yy)[0]), (max(yy)[0]), num = 2),np.linspace((min(yy)[0]), (max(yy)[0]), num = 2),'k-')\n",
    "plt.legend(['Truth = Prediction', 'Train','Test'])\n",
    "plt.show()"
   ]
  },
  {
   "cell_type": "code",
   "execution_count": 213,
   "id": "d6802881-9e1f-4964-adb6-2d8007bd9630",
   "metadata": {},
   "outputs": [
    {
     "name": "stdout",
     "output_type": "stream",
     "text": [
      "0.611334284450041\n"
     ]
    },
    {
     "data": {
      "text/plain": [
       "index                                 319\n",
       "0                               -1.415321\n",
       "1                               -0.317701\n",
       "2                               -0.408195\n",
       "3                               -0.254904\n",
       "4                               -1.151726\n",
       "5                                0.978914\n",
       "6                               -1.375541\n",
       "7                               -0.744164\n",
       "8                                 1.62228\n",
       "9                               -0.297699\n",
       "10                              -0.183132\n",
       "11                              -0.252067\n",
       "12                               0.097783\n",
       "13                              -0.026297\n",
       "14                              -0.086661\n",
       "15                               0.079117\n",
       "16                              -0.041229\n",
       "Mw                                3.90309\n",
       "Temperature                         265.0\n",
       "Shear_Rate                            0.0\n",
       "Melt_Viscosity                        2.0\n",
       "Polymer           Polytetrafluoroethylene\n",
       "SHEAR                                   0\n",
       "ZERO_SHEAR                              1\n",
       "log_Shear_Rate                        0.0\n",
       "Y_pred                          -0.003114\n",
       "Error                            2.003114\n",
       "BAD_PRED                             True\n",
       "Name: 115, dtype: object"
      ]
     },
     "execution_count": 213,
     "metadata": {},
     "output_type": "execute_result"
    }
   ],
   "source": [
    "train_df, test_df = evaluate_model(test_pred, train_pred , filtered_data, (train_ind, test_ind))\n",
    "test_df[test_df['BAD_PRED'] == True]\n",
    "test_df.reset_index().loc[error.index(max(error))]"
   ]
  },
  {
   "cell_type": "code",
   "execution_count": 207,
   "id": "f71d8aab-c799-46f7-b512-b78787851f19",
   "metadata": {},
   "outputs": [
    {
     "data": {
      "text/plain": [
       "115"
      ]
     },
     "execution_count": 207,
     "metadata": {},
     "output_type": "execute_result"
    }
   ],
   "source": []
  },
  {
   "cell_type": "code",
   "execution_count": null,
   "id": "9eaeee20-ea1f-48c0-822f-23ae5b58bf03",
   "metadata": {},
   "outputs": [],
   "source": [
    "tuner = kt.Hyperband(create_ViscNN_concat, objective='val_loss',\n",
    "                     max_epochs=10,\n",
    "                     factor=3, project_name = 'create_ViscNN_concat2')\n",
    "\n",
    "tuner.search([XX, M, S, T], yy,\n",
    "             validation_data= ([X_test, M_test, S_test, T_test], y_test),\n",
    "             epochs=30,\n",
    "             callbacks=[tf.keras.callbacks.EarlyStopping(patience=1)])"
   ]
  },
  {
   "cell_type": "code",
   "execution_count": 240,
   "id": "a3e2073c-917a-439f-ade0-26092dba7734",
   "metadata": {},
   "outputs": [],
   "source": [
    "k_layer = keras.Model(inputs=m_P.input,\n",
    "                                       outputs=m_P.get_layer('log_k').output)\n",
    "tau_layer = keras.Model(inputs=m_P.input,\n",
    "                                       outputs=m_P.get_layer('tau').output)\n",
    "alpha_layer = params_layer = keras.Model(inputs=m_P.input,\n",
    "                                       outputs=m_P.get_layer('alpha').output)\n",
    "n_layer = params_layer = keras.Model(inputs=m_P.input,\n",
    "                                       outputs=m_P.get_layer('n').output)\n",
    "layer_name2 = 'zero_shear_visc'\n",
    "z_shear_layer = keras.Model(inputs=m_P.input,\n",
    "                                       outputs=m_P.get_layer(layer_name2).output)"
   ]
  },
  {
   "cell_type": "code",
   "execution_count": 234,
   "id": "ce810693-74bf-49f5-bc71-84743fda9398",
   "metadata": {
    "tags": []
   },
   "outputs": [
    {
     "name": "stdout",
     "output_type": "stream",
     "text": [
      "  SAMPLE_ID      Polymer   SMILES  Temperature          Mcr    Log_K1  \\\n",
      "2         6  Linear HDPE  [*]C[*]        150.0  3656.398809 -3.904875   \n",
      "\n",
      "     Log_K2     Alpha  afp_C4_C4_C4  afp_C4_C4_H1  ...  afp_C2_C4_H1  bfp_344  \\\n",
      "2 -13.40241  3.665561      0.333333      1.333333  ...           0.0      0.0   \n",
      "\n",
      "   mfp_MQNs15  bfp_46  bfp_47  bfp_55  bfp_79  bfp_210  bfp_482  Shear_Rate  \n",
      "2         0.0       0       0       0       0        0        0           0  \n",
      "\n",
      "[1 rows x 217 columns]\n"
     ]
    }
   ],
   "source": [
    "#PL_data.head(10)\n",
    "extrap_tests = Mw_test(PL_data.copy(), samps = [0,1,2,3,4,5,6,7,8,9,10,11,12])"
   ]
  },
  {
   "cell_type": "code",
   "execution_count": 235,
   "id": "30e9ce47-1559-4ae2-9796-ef46c722b3c1",
   "metadata": {},
   "outputs": [
    {
     "name": "stdout",
     "output_type": "stream",
     "text": [
      "   logMw  Temperature  Shear_Rate      Polymer  afp_C4_C4_C4  afp_C4_C4_H1  \\\n",
      "0    1.0        150.0           0  Linear HDPE      0.333333      1.333333   \n",
      "1    2.0        150.0           0  Linear HDPE      0.333333      1.333333   \n",
      "2    3.0        150.0           0  Linear HDPE      0.333333      1.333333   \n",
      "3    4.0        150.0           0  Linear HDPE      0.333333      1.333333   \n",
      "4    5.0        150.0           0  Linear HDPE      0.333333      1.333333   \n",
      "5    6.0        150.0           0  Linear HDPE      0.333333      1.333333   \n",
      "6    7.0        150.0           0  Linear HDPE      0.333333      1.333333   \n",
      "7    8.0        150.0           0  Linear HDPE      0.333333      1.333333   \n",
      "8    9.0        150.0           0  Linear HDPE      0.333333      1.333333   \n",
      "9   10.0        150.0           0  Linear HDPE      0.333333      1.333333   \n",
      "\n",
      "   afp_H1_C4_H1  bfp_267  bfp_282  bfp_289  ...  bfp_46  bfp_47  bfp_55  \\\n",
      "0      0.333333      0.0      0.0      1.0  ...     0.0     0.0     0.0   \n",
      "1      0.333333      0.0      0.0      1.0  ...     0.0     0.0     0.0   \n",
      "2      0.333333      0.0      0.0      1.0  ...     0.0     0.0     0.0   \n",
      "3      0.333333      0.0      0.0      1.0  ...     0.0     0.0     0.0   \n",
      "4      0.333333      0.0      0.0      1.0  ...     0.0     0.0     0.0   \n",
      "5      0.333333      0.0      0.0      1.0  ...     0.0     0.0     0.0   \n",
      "6      0.333333      0.0      0.0      1.0  ...     0.0     0.0     0.0   \n",
      "7      0.333333      0.0      0.0      1.0  ...     0.0     0.0     0.0   \n",
      "8      0.333333      0.0      0.0      1.0  ...     0.0     0.0     0.0   \n",
      "9      0.333333      0.0      0.0      1.0  ...     0.0     0.0     0.0   \n",
      "\n",
      "   bfp_79  bfp_210  bfp_482   SMILES  SHEAR  ZERO_SHEAR  Melt_Viscosity  \n",
      "0     0.0      0.0      0.0  [*]C[*]      0           1       -2.904875  \n",
      "1     0.0      0.0      0.0  [*]C[*]      0           1       -1.904875  \n",
      "2     0.0      0.0      0.0  [*]C[*]      0           1       -0.904875  \n",
      "3     0.0      0.0      0.0  [*]C[*]      0           1        1.259833  \n",
      "4     0.0      0.0      0.0  [*]C[*]      0           1        4.925393  \n",
      "5     0.0      0.0      0.0  [*]C[*]      0           1        8.590954  \n",
      "6     0.0      0.0      0.0  [*]C[*]      0           1       12.256514  \n",
      "7     0.0      0.0      0.0  [*]C[*]      0           1       15.922075  \n",
      "8     0.0      0.0      0.0  [*]C[*]      0           1       19.587636  \n",
      "9     0.0      0.0      0.0  [*]C[*]      0           1       23.253196  \n",
      "\n",
      "[10 rows x 216 columns]\n"
     ]
    }
   ],
   "source": [
    "samp_num = 2\n",
    "XX_ex, OH, M_ex,S_ex,T_ex,y_ex = extrap_tests[samp_num]['data_in']\n",
    "print(extrap_tests[samp_num]['tests'])\n",
    "Mw_ex = extrap_samps[samp_num][0]\n",
    "log_visc_ex = extrap_samps[samp_num][1]\n",
    "#XX_OH_ex = scaler.transform(np.concatenate((pca.transform(XX_ex), OH), axis = 1))\n",
    "XX_ex = scaler.transform((pca.transform(XX_ex)))\n",
    "M_ex = M_scaler.transform(M_ex)\n",
    "S_ex = S_scaler.transform(S_trans.transform(S_ex))\n",
    "T_ex = T_scaler.transform(T_ex)\n",
    "gr_Mcr_ex = np.array(above_Mcr(M_ex, Mcr = gpr_Mcr.predict_y(XX_ex)[0]))"
   ]
  },
  {
   "cell_type": "code",
   "execution_count": 236,
   "id": "6ec37c4a-e771-45d4-8bf9-515c05f68b41",
   "metadata": {},
   "outputs": [
    {
     "data": {
      "text/plain": [
       "<matplotlib.legend.Legend at 0x1d11072e610>"
      ]
     },
     "execution_count": 236,
     "metadata": {},
     "output_type": "execute_result"
    },
    {
     "data": {
      "image/png": "[encoded data removed]",
      "text/plain": [
       "<Figure size 432x288 with 1 Axes>"
      ]
     },
     "metadata": {
      "needs_background": "light"
     },
     "output_type": "display_data"
    }
   ],
   "source": [
    "test_pred, var = gpr_model.predict_y(np.concatenate((XX_ex, M_ex, S_ex, T_ex), axis = 1))\n",
    "plt.figure()\n",
    "plt.xlabel('Log Mw')\n",
    "plt.ylabel('Log Eta')\n",
    "plt.scatter(Mw_ex, log_visc_ex, c = 'orange')\n",
    "plt.scatter(M_scaler.inverse_transform(M_ex), test_pred)\n",
    "plt.legend(['Train','Test (Extrapolated)'])"
   ]
  },
  {
   "cell_type": "code",
   "execution_count": 237,
   "id": "2a67d05b-183f-45db-93bb-bc23b7a13f70",
   "metadata": {},
   "outputs": [
    {
     "data": {
      "text/plain": [
       "<matplotlib.legend.Legend at 0x1d11079f460>"
      ]
     },
     "execution_count": 237,
     "metadata": {},
     "output_type": "execute_result"
    },
    {
     "data": {
      "image/png": "[encoded data removed]",
      "text/plain": [
       "<Figure size 432x288 with 1 Axes>"
      ]
     },
     "metadata": {
      "needs_background": "light"
     },
     "output_type": "display_data"
    }
   ],
   "source": [
    "test_pred = m_NP.predict([XX_ex, M_ex, S_ex, T_ex, gr_Mcr_ex])\n",
    "\n",
    "plt.figure()\n",
    "plt.xlabel('Log Mw')\n",
    "plt.ylabel('Log Eta')\n",
    "plt.scatter(Mw_ex, log_visc_ex, c = 'orange')\n",
    "plt.scatter(M_scaler.inverse_transform(M_ex), test_pred)\n",
    "plt.legend(['Train','Test (Extrapolated)'])"
   ]
  },
  {
   "cell_type": "code",
   "execution_count": 238,
   "id": "7acb4483-0180-4551-aaab-b8b1d2572804",
   "metadata": {},
   "outputs": [
    {
     "name": "stdout",
     "output_type": "stream",
     "text": [
      "Model: \"model_111\"\n",
      "__________________________________________________________________________________________________\n",
      "Layer (type)                    Output Shape         Param #     Connected to                     \n",
      "==================================================================================================\n",
      "input_427 (InputLayer)          [(None, 17)]         0                                            \n",
      "__________________________________________________________________________________________________\n",
      "input_429 (InputLayer)          [(None, 1)]          0                                            \n",
      "__________________________________________________________________________________________________\n",
      "input_431 (InputLayer)          [(None, 1)]          0                                            \n",
      "__________________________________________________________________________________________________\n",
      "concatenate_85 (Concatenate)    (None, 19)           0           input_427[0][0]                  \n",
      "                                                                 input_429[0][0]                  \n",
      "                                                                 input_431[0][0]                  \n",
      "__________________________________________________________________________________________________\n",
      "dense_254 (Dense)               (None, 32)           640         concatenate_85[0][0]             \n",
      "__________________________________________________________________________________________________\n",
      "dense_255 (Dense)               (None, 32)           1056        dense_254[0][0]                  \n",
      "__________________________________________________________________________________________________\n",
      "dense_256 (Dense)               (None, 1)            33          dense_255[0][0]                  \n",
      "__________________________________________________________________________________________________\n",
      "alpha (Lambda)                  (None, 1)            0           dense_256[0][0]                  \n",
      "                                                                 input_431[0][0]                  \n",
      "__________________________________________________________________________________________________\n",
      "log_k (Dense)                   (None, 1)            33          dense_255[0][0]                  \n",
      "__________________________________________________________________________________________________\n",
      "alpha_scale (Dense)             (None, 1)            2           alpha[0][0]                      \n",
      "__________________________________________________________________________________________________\n",
      "input_428 (InputLayer)          [(None, 1)]          0                                            \n",
      "__________________________________________________________________________________________________\n",
      "zero_shear_visc (Lambda)        (None, 1)            0           log_k[0][0]                      \n",
      "                                                                 alpha_scale[0][0]                \n",
      "                                                                 input_428[0][0]                  \n",
      "__________________________________________________________________________________________________\n",
      "n (Dense)                       (None, 1)            33          dense_255[0][0]                  \n",
      "__________________________________________________________________________________________________\n",
      "tau (Dense)                     (None, 1)            33          dense_255[0][0]                  \n",
      "__________________________________________________________________________________________________\n",
      "input_430 (InputLayer)          [(None, 1)]          0                                            \n",
      "__________________________________________________________________________________________________\n",
      "lambda_42 (Lambda)              (None, 1)            0           zero_shear_visc[0][0]            \n",
      "                                                                 n[0][0]                          \n",
      "                                                                 tau[0][0]                        \n",
      "                                                                 input_430[0][0]                  \n",
      "==================================================================================================\n",
      "Total params: 1,830\n",
      "Trainable params: 1,830\n",
      "Non-trainable params: 0\n",
      "__________________________________________________________________________________________________\n"
     ]
    }
   ],
   "source": [
    "m_P.summary()"
   ]
  },
  {
   "cell_type": "code",
   "execution_count": 241,
   "id": "240c8be1-c541-4a35-a6b9-5462c01308a1",
   "metadata": {},
   "outputs": [
    {
     "name": "stdout",
     "output_type": "stream",
     "text": [
      "tf.Tensor(\n",
      "[[-1.8199983]\n",
      " [-1.8199983]\n",
      " [-1.8199983]\n",
      " [-2.9952862]\n",
      " [-2.9952862]\n",
      " [-2.9952862]\n",
      " [-2.9952862]\n",
      " [-2.9952862]\n",
      " [-2.9952862]\n",
      " [-2.9952862]], shape=(10, 1), dtype=float32)\n",
      "tf.Tensor(\n",
      "[[0.9999992]\n",
      " [0.9999992]\n",
      " [0.9999992]\n",
      " [0.9999995]\n",
      " [0.9999995]\n",
      " [0.9999995]\n",
      " [0.9999995]\n",
      " [0.9999995]\n",
      " [0.9999995]\n",
      " [0.9999995]], shape=(10, 1), dtype=float32)\n",
      "tf.Tensor(\n",
      "[[1.      ]\n",
      " [1.      ]\n",
      " [1.      ]\n",
      " [3.593877]\n",
      " [3.593877]\n",
      " [3.593877]\n",
      " [3.593877]\n",
      " [3.593877]\n",
      " [3.593877]\n",
      " [3.593877]], shape=(10, 1), dtype=float32)\n",
      "tf.Tensor(\n",
      "[[0.5999998 ]\n",
      " [0.5999998 ]\n",
      " [0.5999998 ]\n",
      " [0.59999955]\n",
      " [0.59999955]\n",
      " [0.59999955]\n",
      " [0.59999955]\n",
      " [0.59999955]\n",
      " [0.59999955]\n",
      " [0.59999955]], shape=(10, 1), dtype=float32)\n"
     ]
    },
    {
     "data": {
      "image/png": "[encoded data removed]",
      "text/plain": [
       "<Figure size 432x288 with 1 Axes>"
      ]
     },
     "metadata": {
      "needs_background": "light"
     },
     "output_type": "display_data"
    }
   ],
   "source": [
    "test_pred = m_P.predict([XX_ex, M_ex, S_ex, T_ex, gr_Mcr_ex])\n",
    "plt.figure()\n",
    "plt.xlabel('Log Mw')\n",
    "plt.ylabel('Log Eta')\n",
    "plt.scatter(Mw_ex, log_visc_ex, c = 'orange')\n",
    "plt.scatter(M_scaler.inverse_transform(M_ex), test_pred)\n",
    "plt.legend(['Experimental','Predicted'])\n",
    "plt.plot([4,6], [2.5, 2.5+(3.4*2)])\n",
    "print(k_layer([XX_ex, M_ex, S_ex, T_ex, gr_Mcr_ex]))\n",
    "print(tau_layer([XX_ex, M_ex, S_ex, T_ex, gr_Mcr_ex]))\n",
    "print(alpha_layer([XX_ex, M_ex, S_ex, T_ex, gr_Mcr_ex]))\n",
    "print(n_layer([XX_ex, M_ex, S_ex, T_ex, gr_Mcr_ex]))"
   ]
  },
  {
   "cell_type": "code",
   "execution_count": null,
   "id": "6965f0d1-704d-4374-b762-29bfd5be8000",
   "metadata": {},
   "outputs": [],
   "source": []
  },
  {
   "cell_type": "code",
   "execution_count": 252,
   "id": "0ae32091-b007-4237-831b-ccf56e6d2107",
   "metadata": {},
   "outputs": [
    {
     "name": "stdout",
     "output_type": "stream",
     "text": [
      "   SAMPLE_ID                    Polymer                SMILES  Temperature  \\\n",
      "0      354.0  poly(methyl methacrylate)  [*]CC([*])(C)C(=O)OC        220.0   \n",
      "1      354.0  poly(methyl methacrylate)  [*]CC([*])(C)C(=O)OC        220.0   \n",
      "2      354.0  poly(methyl methacrylate)  [*]CC([*])(C)C(=O)OC        220.0   \n",
      "3      354.0  poly(methyl methacrylate)  [*]CC([*])(C)C(=O)OC        220.0   \n",
      "4      354.0  poly(methyl methacrylate)  [*]CC([*])(C)C(=O)OC        220.0   \n",
      "5      354.0  poly(methyl methacrylate)  [*]CC([*])(C)C(=O)OC        220.0   \n",
      "6      354.0  poly(methyl methacrylate)  [*]CC([*])(C)C(=O)OC        220.0   \n",
      "7      354.0  poly(methyl methacrylate)  [*]CC([*])(C)C(=O)OC        220.0   \n",
      "\n",
      "         Mw   Shear_Rate  Melt_Viscosity  afp_C4_C4_C4  afp_C4_C4_H1  \\\n",
      "0  4.857332    41.132433        4.422961      0.266667      0.466667   \n",
      "1  4.857332    83.285112        4.268882      0.266667      0.466667   \n",
      "2  4.857332   167.538057        4.090634      0.266667      0.466667   \n",
      "3  4.857332   337.023027        3.897281      0.266667      0.466667   \n",
      "4  4.857332   622.767932        3.725076      0.266667      0.466667   \n",
      "5  4.857332  1252.772872        3.513595      0.266667      0.466667   \n",
      "6  4.857332  2071.629357        3.353474      0.266667      0.466667   \n",
      "7  4.857332  4222.133050        3.132931      0.266667      0.466667   \n",
      "\n",
      "   afp_H1_C4_H1  ...  afp_C4_C2_N1  afp_C2_C4_H1  bfp_344  mfp_MQNs15  bfp_46  \\\n",
      "0      0.466667  ...           0.0           0.0      0.0         0.0       0   \n",
      "1      0.466667  ...           0.0           0.0      0.0         0.0       0   \n",
      "2      0.466667  ...           0.0           0.0      0.0         0.0       0   \n",
      "3      0.466667  ...           0.0           0.0      0.0         0.0       0   \n",
      "4      0.466667  ...           0.0           0.0      0.0         0.0       0   \n",
      "5      0.466667  ...           0.0           0.0      0.0         0.0       0   \n",
      "6      0.466667  ...           0.0           0.0      0.0         0.0       0   \n",
      "7      0.466667  ...           0.0           0.0      0.0         0.0       0   \n",
      "\n",
      "   bfp_47  bfp_55  bfp_79  bfp_210  bfp_482  \n",
      "0       0       0       0        0        0  \n",
      "1       0       0       0        0        0  \n",
      "2       0       0       0        0        0  \n",
      "3       0       0       0        0        0  \n",
      "4       0       0       0        0        0  \n",
      "5       0       0       0        0        0  \n",
      "6       0       0       0        0        0  \n",
      "7       0       0       0        0        0  \n",
      "\n",
      "[8 rows x 215 columns]\n"
     ]
    }
   ],
   "source": [
    "samp_num = shear_samps['SAMPLE_ID'].values[246]\n",
    "s_test = shear_test(shear_samps, samp_num);\n",
    "XX_ex, M_ex,S_ex,T_ex = s_test['data_in']\n",
    "shear_exp = s_test['known'][0]\n",
    "log_visc_exp = s_test['known'][1]\n",
    "#XX_OH_ex = scaler.transform(np.concatenate((pca.transform(XX_ex), OH), axis = 1))\n",
    "XX_ex = scaler.transform((pca.transform(XX_ex)))\n",
    "M_ex = M_scaler.transform(M_ex)\n",
    "S_ex_trans = S_scaler.transform(S_trans.transform(S_ex))\n",
    "T_ex = T_scaler.transform(T_ex)\n",
    "gr_Mcr_ex = np.array(above_Mcr(M_ex, Mcr = gpr_Mcr.predict_y(XX_ex)[0]))"
   ]
  },
  {
   "cell_type": "code",
   "execution_count": 253,
   "id": "3dbd840c-a054-4990-977d-e918547c6cfe",
   "metadata": {},
   "outputs": [
    {
     "name": "stdout",
     "output_type": "stream",
     "text": [
      "tf.Tensor(\n",
      "[[-3.4464896]\n",
      " [-3.4464896]\n",
      " [-3.4464896]\n",
      " [-3.4464896]\n",
      " [-3.4464896]\n",
      " [-3.4464896]\n",
      " [-3.4464896]\n",
      " [-3.4464896]\n",
      " [-3.4464896]\n",
      " [-3.4464896]], shape=(10, 1), dtype=float32)\n",
      "tf.Tensor(\n",
      "[[1.]\n",
      " [1.]\n",
      " [1.]\n",
      " [1.]\n",
      " [1.]\n",
      " [1.]\n",
      " [1.]\n",
      " [1.]\n",
      " [1.]\n",
      " [1.]], shape=(10, 1), dtype=float32)\n",
      "tf.Tensor(\n",
      "[[0.6]\n",
      " [0.6]\n",
      " [0.6]\n",
      " [0.6]\n",
      " [0.6]\n",
      " [0.6]\n",
      " [0.6]\n",
      " [0.6]\n",
      " [0.6]\n",
      " [0.6]], shape=(10, 1), dtype=float32)\n",
      "tf.Tensor(\n",
      "[[3.9309132]\n",
      " [3.9309132]\n",
      " [3.9309132]\n",
      " [3.9309132]\n",
      " [3.9309132]\n",
      " [3.9309132]\n",
      " [3.9309132]\n",
      " [3.9309132]\n",
      " [3.9309132]\n",
      " [3.9309132]], shape=(10, 1), dtype=float32)\n"
     ]
    },
    {
     "data": {
      "image/png": "[encoded data removed]",
      "text/plain": [
       "<Figure size 432x288 with 1 Axes>"
      ]
     },
     "metadata": {
      "needs_background": "light"
     },
     "output_type": "display_data"
    }
   ],
   "source": [
    "test_pred = m_P.predict([XX_ex, M_ex, S_ex_trans, T_ex, gr_Mcr_ex])\n",
    "\n",
    "plt.figure()\n",
    "plt.xlabel('Log Shear Rate')\n",
    "plt.ylabel('Log Eta')\n",
    "plt.scatter(shear_exp, log_visc_exp, c = 'orange')\n",
    "plt.scatter(np.log10(S_ex[:-1]), test_pred[:-1])\n",
    "plt.legend(['Train','Test (Extrapolated)'])\n",
    "#print(params_layer([XX_ex, M_ex, S_ex_trans, T_ex]))\n",
    "#z_shear_layer([XX_ex, M_ex, S_ex_trans, T_ex])\n",
    "print(k_layer([XX_ex, M_ex, S_ex_trans, T_ex, gr_Mcr_ex]))\n",
    "print(tau_layer([XX_ex, M_ex, S_ex_trans, T_ex, gr_Mcr_ex]))\n",
    "print(n_layer([XX_ex, M_ex, S_ex_trans, T_ex, gr_Mcr_ex]))\n",
    "print(z_shear_layer([XX_ex, M_ex, S_ex_trans, T_ex, gr_Mcr_ex]))"
   ]
  },
  {
   "cell_type": "code",
   "execution_count": 245,
   "id": "c5dd38c8-d5ce-441e-b888-9516894f7ab2",
   "metadata": {},
   "outputs": [
    {
     "data": {
      "text/plain": [
       "<matplotlib.legend.Legend at 0x1d1109aafd0>"
      ]
     },
     "execution_count": 245,
     "metadata": {},
     "output_type": "execute_result"
    },
    {
     "data": {
      "image/png": "[encoded data removed]",
      "text/plain": [
       "<Figure size 432x288 with 1 Axes>"
      ]
     },
     "metadata": {
      "needs_background": "light"
     },
     "output_type": "display_data"
    }
   ],
   "source": [
    "test_pred = m_NP.predict([XX_ex, M_ex, S_ex_trans, T_ex, gr_Mcr_ex])\n",
    "\n",
    "plt.figure()\n",
    "plt.xlabel('Log Shear Rate')\n",
    "plt.ylabel('Log Eta')\n",
    "plt.scatter(shear_exp, log_visc_exp, c = 'orange')\n",
    "plt.scatter(np.log10(S_ex), test_pred)\n",
    "plt.legend(['Train','Test (Extrapolated)'])"
   ]
  },
  {
   "cell_type": "code",
   "execution_count": 68,
   "id": "48e1a6d7-0c8a-4d52-890d-bc6405f09d22",
   "metadata": {},
   "outputs": [
    {
     "data": {
      "text/plain": [
       "<keras.engine.functional.Functional at 0x1d080be7fd0>"
      ]
     },
     "execution_count": 68,
     "metadata": {},
     "output_type": "execute_result"
    }
   ],
   "source": [
    "m_P"
   ]
  },
  {
   "cell_type": "code",
   "execution_count": 51,
   "id": "69498009-1ee9-4bf3-a6fc-83f3314675d4",
   "metadata": {},
   "outputs": [],
   "source": []
  },
  {
   "cell_type": "code",
   "execution_count": 52,
   "id": "0028bfa8-2620-4f7f-a742-31fac610e9d0",
   "metadata": {},
   "outputs": [],
   "source": []
  },
  {
   "cell_type": "markdown",
   "id": "89a03490-3481-4605-9849-c30485e94d5e",
   "metadata": {},
   "source": [
    "START TRAINING GPR FOR Mcr"
   ]
  },
  {
   "cell_type": "code",
   "execution_count": 47,
   "id": "31469ac2-8c3a-41f8-8d2a-12cec55af212",
   "metadata": {},
   "outputs": [],
   "source": [
    "me_data = pd.read_excel('Data/EntanglementMW_fp.xlsx')\n",
    "fp = me_data[[c for c in me_data.columns if 'fp' in c]]\n",
    "fp[[c for c in OG_fp if c not in fp]] = 0\n",
    "fp = fp.drop(columns = [c for c in fp if c not in OG_fp])\n",
    "y = M_scaler.transform(np.log10(np.array(me_data['Me']*2)).reshape(-1,1))\n",
    "X_me = scaler.transform((pca.transform(fp[OG_fp])))"
   ]
  },
  {
   "cell_type": "code",
   "execution_count": 48,
   "id": "5cbb11ef-3fd5-490f-86dd-aeeaf893e58a",
   "metadata": {},
   "outputs": [],
   "source": [
    "x_me, x_me_test, y_me, y_me_test = train_test_split(X_me, y, test_size = 0.1)"
   ]
  },
  {
   "cell_type": "code",
   "execution_count": 49,
   "id": "24219444-8d2f-43e3-a277-386f62a0c1f0",
   "metadata": {},
   "outputs": [],
   "source": [
    "gpr_Mcr = create_GPR(X_me, y)"
   ]
  },
  {
   "cell_type": "code",
   "execution_count": 50,
   "id": "2caa48a4-8cab-463a-8e4d-2ea2e9bf1f21",
   "metadata": {},
   "outputs": [
    {
     "data": {
      "text/plain": [
       "[<matplotlib.lines.Line2D at 0x1d089b59a00>]"
      ]
     },
     "execution_count": 50,
     "metadata": {},
     "output_type": "execute_result"
    },
    {
     "data": {
      "image/png": "[encoded data removed]",
      "text/plain": [
       "<Figure size 432x288 with 1 Axes>"
      ]
     },
     "metadata": {
      "needs_background": "light"
     },
     "output_type": "display_data"
    }
   ],
   "source": [
    "mcr_pred, var = gpr_Mcr.predict_y(x_me_test)\n",
    "mcr_train_pred, var_train = gpr_Mcr.predict_y(x_me)\n",
    "plt.scatter(y_me_test, mcr_pred)\n",
    "plt.scatter(y_me, mcr_train_pred)\n",
    "plt.plot(np.linspace((min(y)[0]), (max(y)[0]), num = 2),np.linspace((min(y)[0]), (max(y)[0]), num = 2),'k-')"
   ]
  },
  {
   "cell_type": "code",
   "execution_count": 15,
   "id": "9c771719-ad0b-4ee4-9b01-acf9ff6d8c86",
   "metadata": {},
   "outputs": [
    {
     "data": {
      "text/plain": [
       "<tf.Tensor: shape=(4, 1), dtype=float64, numpy=\n",
       "array([[0.36688887],\n",
       "       [0.42476719],\n",
       "       [0.42645432],\n",
       "       [0.34991337]])>"
      ]
     },
     "execution_count": 15,
     "metadata": {},
     "output_type": "execute_result"
    }
   ],
   "source": [
    "tf.constant(mcr_pred)"
   ]
  },
  {
   "cell_type": "code",
   "execution_count": 16,
   "id": "8ea946e9-12ad-4975-b72d-ccfcb68cefb9",
   "metadata": {},
   "outputs": [],
   "source": [
    "gpr_Mcr.predict_f_compiled = tf.function(\n",
    "    gpr_Mcr.predict_f, input_signature=[tf.TensorSpec(shape=[None, 1], dtype=tf.float64)]\n",
    ")"
   ]
  },
  {
   "cell_type": "code",
   "execution_count": 17,
   "id": "c4e7e06f-9ff9-402f-93dc-944e6288a18a",
   "metadata": {},
   "outputs": [
    {
     "name": "stderr",
     "output_type": "stream",
     "text": [
      "WARNING:absl:Function `predict_f` contains input name(s) Xnew with unsupported characters which will be renamed to xnew in the SavedModel.\n"
     ]
    },
    {
     "name": "stdout",
     "output_type": "stream",
     "text": [
      "WARNING:tensorflow:From C:\\Users\\ayush\\Documents\\Melt_Viscosity\\lib\\site-packages\\tensorflow\\python\\training\\tracking\\tracking.py:102: Bijector.has_static_min_event_ndims (from tensorflow_probability.python.bijectors.bijector) is deprecated and will be removed after 2021-08-01.\n",
      "Instructions for updating:\n",
      "`min_event_ndims` is now static for all bijectors; this property is no longer needed.\n"
     ]
    },
    {
     "name": "stderr",
     "output_type": "stream",
     "text": [
      "WARNING:tensorflow:From C:\\Users\\ayush\\Documents\\Melt_Viscosity\\lib\\site-packages\\tensorflow\\python\\training\\tracking\\tracking.py:102: Bijector.has_static_min_event_ndims (from tensorflow_probability.python.bijectors.bijector) is deprecated and will be removed after 2021-08-01.\n",
      "Instructions for updating:\n",
      "`min_event_ndims` is now static for all bijectors; this property is no longer needed.\n"
     ]
    },
    {
     "name": "stdout",
     "output_type": "stream",
     "text": [
      "INFO:tensorflow:Assets written to: models\\assets\n"
     ]
    },
    {
     "name": "stderr",
     "output_type": "stream",
     "text": [
      "INFO:tensorflow:Assets written to: models\\assets\n"
     ]
    }
   ],
   "source": [
    "tf.saved_model.save(gpr_Mcr, 'models')"
   ]
  },
  {
   "cell_type": "code",
   "execution_count": 18,
   "id": "a5edc51b-3d58-4092-a15b-93543a005397",
   "metadata": {},
   "outputs": [
    {
     "name": "stderr",
     "output_type": "stream",
     "text": [
      "WARNING:absl:Importing a function (__inference_predict_f_1564) with ops with unsaved custom gradients. Will likely fail if a gradient is requested.\n"
     ]
    }
   ],
   "source": [
    "gpr = tf.saved_model.load('models')"
   ]
  },
  {
   "cell_type": "code",
   "execution_count": null,
   "id": "062e1e1c-44c5-4f51-9af3-02a67c0ea3d7",
   "metadata": {},
   "outputs": [],
   "source": [
    "gpr.predict_y(x_me)"
   ]
  },
  {
   "cell_type": "code",
   "execution_count": null,
   "id": "579ec45b-21c7-4c55-8023-4f5591806791",
   "metadata": {},
   "outputs": [],
   "source": []
  }
 ],
 "metadata": {
  "kernelspec": {
   "display_name": "Python 3 (ipykernel)",
   "language": "python",
   "name": "python3"
  },
  "language_info": {
   "codemirror_mode": {
    "name": "ipython",
    "version": 3
   },
   "file_extension": ".py",
   "mimetype": "text/x-python",
   "name": "python",
   "nbconvert_exporter": "python",
   "pygments_lexer": "ipython3",
   "version": "3.8.7"
  }
 },
 "nbformat": 4,
 "nbformat_minor": 5
}
