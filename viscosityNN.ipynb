{
 "cells": [
  {
   "cell_type": "code",
   "execution_count": 1,
   "id": "6f985a3d-7d4a-436c-8173-68bf5e13bff5",
   "metadata": {},
   "outputs": [],
   "source": [
    "%load_ext autoreload\n",
    "\n",
    "%autoreload 2"
   ]
  },
  {
   "cell_type": "code",
   "execution_count": 19,
   "id": "60552a01-403a-48b9-acac-fbe59b264653",
   "metadata": {},
   "outputs": [],
   "source": [
    "import tensorflow as tf\n",
    "import pandas as pd\n",
    "import numpy as np\n",
    "from sklearn.model_selection import train_test_split\n",
    "from validation.metrics import OME, MSE\n",
    "import matplotlib.pyplot as plt\n",
    "from sklearn.model_selection import KFold\n",
    "from sklearn.preprocessing import MinMaxScaler, MaxAbsScaler, PowerTransformer\n",
    "from MODELS.ViscNN import create_ViscNN, create_ViscNN_concat, create_ViscNN_phys, above_Mcr, Mcr_gpr_train, predict_all_cv, create_ViscNN_concat_HP\n",
    "from validation.tests import viscNN_LC, crossval_NN, Mw_extrapolation, Mw_test, evaluate_model, crossval_compare, shear_extrapolation, shear_test\n",
    "import keras_tuner as kt\n",
    "from gpflow_tools.gpr_models import train_GPR, create_GPR\n",
    "from data_tools.dim_red import fp_PCA\n",
    "from data_tools.data_viz import val_epochs\n",
    "import keras.backend as K\n",
    "import keras\n",
    "pd.options.mode.chained_assignment = None  # default='warn'"
   ]
  },
  {
   "cell_type": "code",
   "execution_count": 3,
   "id": "f24622c1-7873-4cda-9530-ab484d20ba59",
   "metadata": {},
   "outputs": [],
   "source": [
    "data = pd.read_excel('Data/full_data_2022-01-10.xlsx')"
   ]
  },
  {
   "cell_type": "code",
   "execution_count": 128,
   "id": "2c046417-81fb-45b2-ad0a-d4f0b4af66cb",
   "metadata": {},
   "outputs": [
    {
     "data": {
      "text/html": [
       "<div>\n",
       "<style scoped>\n",
       "    .dataframe tbody tr th:only-of-type {\n",
       "        vertical-align: middle;\n",
       "    }\n",
       "\n",
       "    .dataframe tbody tr th {\n",
       "        vertical-align: top;\n",
       "    }\n",
       "\n",
       "    .dataframe thead th {\n",
       "        text-align: right;\n",
       "    }\n",
       "</style>\n",
       "<table border=\"1\" class=\"dataframe\">\n",
       "  <thead>\n",
       "    <tr style=\"text-align: right;\">\n",
       "      <th></th>\n",
       "      <th>INDEX</th>\n",
       "      <th>SAMPLE_ID</th>\n",
       "      <th>SMILES</th>\n",
       "      <th>Polymer</th>\n",
       "      <th>Mn</th>\n",
       "      <th>Mw</th>\n",
       "      <th>PDI</th>\n",
       "      <th>PDI (zw)</th>\n",
       "      <th>Temperature</th>\n",
       "      <th>Shear_Rate</th>\n",
       "      <th>...</th>\n",
       "      <th>PID 1</th>\n",
       "      <th>PID 2</th>\n",
       "      <th>coPID</th>\n",
       "      <th>Weight 1</th>\n",
       "      <th>Weight 2</th>\n",
       "      <th>Frequency</th>\n",
       "      <th>INDEX.1</th>\n",
       "      <th>ZERO_SHEAR</th>\n",
       "      <th>SHEAR</th>\n",
       "      <th>log_Shear_Rate</th>\n",
       "    </tr>\n",
       "  </thead>\n",
       "  <tbody>\n",
       "    <tr>\n",
       "      <th>0</th>\n",
       "      <td>0</td>\n",
       "      <td>1.0</td>\n",
       "      <td>[*]CC([*])C</td>\n",
       "      <td>poly(prop-1-ene)</td>\n",
       "      <td>2600.000000</td>\n",
       "      <td>3.591065</td>\n",
       "      <td>1.50</td>\n",
       "      <td>NaN</td>\n",
       "      <td>200.0</td>\n",
       "      <td>0.000000</td>\n",
       "      <td>...</td>\n",
       "      <td>NaN</td>\n",
       "      <td>NaN</td>\n",
       "      <td>NaN</td>\n",
       "      <td>NaN</td>\n",
       "      <td>NaN</td>\n",
       "      <td>NaN</td>\n",
       "      <td>NaN</td>\n",
       "      <td>1</td>\n",
       "      <td>0</td>\n",
       "      <td>0.000000</td>\n",
       "    </tr>\n",
       "    <tr>\n",
       "      <th>1</th>\n",
       "      <td>1</td>\n",
       "      <td>1.0</td>\n",
       "      <td>[*]CC([*])C</td>\n",
       "      <td>poly(prop-1-ene)</td>\n",
       "      <td>7834.101382</td>\n",
       "      <td>4.230449</td>\n",
       "      <td>2.17</td>\n",
       "      <td>NaN</td>\n",
       "      <td>200.0</td>\n",
       "      <td>0.000000</td>\n",
       "      <td>...</td>\n",
       "      <td>NaN</td>\n",
       "      <td>NaN</td>\n",
       "      <td>NaN</td>\n",
       "      <td>NaN</td>\n",
       "      <td>NaN</td>\n",
       "      <td>NaN</td>\n",
       "      <td>NaN</td>\n",
       "      <td>1</td>\n",
       "      <td>0</td>\n",
       "      <td>0.000000</td>\n",
       "    </tr>\n",
       "    <tr>\n",
       "      <th>2</th>\n",
       "      <td>2</td>\n",
       "      <td>1.0</td>\n",
       "      <td>[*]CC([*])C</td>\n",
       "      <td>poly(prop-1-ene)</td>\n",
       "      <td>31981.981982</td>\n",
       "      <td>4.851258</td>\n",
       "      <td>2.22</td>\n",
       "      <td>NaN</td>\n",
       "      <td>200.0</td>\n",
       "      <td>0.000000</td>\n",
       "      <td>...</td>\n",
       "      <td>NaN</td>\n",
       "      <td>NaN</td>\n",
       "      <td>NaN</td>\n",
       "      <td>NaN</td>\n",
       "      <td>NaN</td>\n",
       "      <td>NaN</td>\n",
       "      <td>NaN</td>\n",
       "      <td>1</td>\n",
       "      <td>0</td>\n",
       "      <td>0.000000</td>\n",
       "    </tr>\n",
       "    <tr>\n",
       "      <th>3</th>\n",
       "      <td>3</td>\n",
       "      <td>1.0</td>\n",
       "      <td>[*]CC([*])C</td>\n",
       "      <td>poly(prop-1-ene)</td>\n",
       "      <td>43829.787234</td>\n",
       "      <td>5.012837</td>\n",
       "      <td>2.35</td>\n",
       "      <td>NaN</td>\n",
       "      <td>200.0</td>\n",
       "      <td>0.000000</td>\n",
       "      <td>...</td>\n",
       "      <td>NaN</td>\n",
       "      <td>NaN</td>\n",
       "      <td>NaN</td>\n",
       "      <td>NaN</td>\n",
       "      <td>NaN</td>\n",
       "      <td>NaN</td>\n",
       "      <td>NaN</td>\n",
       "      <td>1</td>\n",
       "      <td>0</td>\n",
       "      <td>0.000000</td>\n",
       "    </tr>\n",
       "    <tr>\n",
       "      <th>4</th>\n",
       "      <td>4</td>\n",
       "      <td>1.0</td>\n",
       "      <td>[*]CC([*])C</td>\n",
       "      <td>poly(prop-1-ene)</td>\n",
       "      <td>75757.575758</td>\n",
       "      <td>5.397940</td>\n",
       "      <td>3.30</td>\n",
       "      <td>NaN</td>\n",
       "      <td>200.0</td>\n",
       "      <td>0.000000</td>\n",
       "      <td>...</td>\n",
       "      <td>NaN</td>\n",
       "      <td>NaN</td>\n",
       "      <td>NaN</td>\n",
       "      <td>NaN</td>\n",
       "      <td>NaN</td>\n",
       "      <td>NaN</td>\n",
       "      <td>NaN</td>\n",
       "      <td>1</td>\n",
       "      <td>0</td>\n",
       "      <td>0.000000</td>\n",
       "    </tr>\n",
       "    <tr>\n",
       "      <th>...</th>\n",
       "      <td>...</td>\n",
       "      <td>...</td>\n",
       "      <td>...</td>\n",
       "      <td>...</td>\n",
       "      <td>...</td>\n",
       "      <td>...</td>\n",
       "      <td>...</td>\n",
       "      <td>...</td>\n",
       "      <td>...</td>\n",
       "      <td>...</td>\n",
       "      <td>...</td>\n",
       "      <td>...</td>\n",
       "      <td>...</td>\n",
       "      <td>...</td>\n",
       "      <td>...</td>\n",
       "      <td>...</td>\n",
       "      <td>...</td>\n",
       "      <td>...</td>\n",
       "      <td>...</td>\n",
       "      <td>...</td>\n",
       "      <td>...</td>\n",
       "    </tr>\n",
       "    <tr>\n",
       "      <th>1655</th>\n",
       "      <td>1840</td>\n",
       "      <td>NaN</td>\n",
       "      <td>[*]CC([*])C, [*]CCCCCC(=O)N[*]</td>\n",
       "      <td>poly(prop-1-ene), poly(hexano-6-lactam)</td>\n",
       "      <td>NaN</td>\n",
       "      <td>5.143795</td>\n",
       "      <td>NaN</td>\n",
       "      <td>NaN</td>\n",
       "      <td>260.0</td>\n",
       "      <td>983.185240</td>\n",
       "      <td>...</td>\n",
       "      <td>NaN</td>\n",
       "      <td>NaN</td>\n",
       "      <td>NaN</td>\n",
       "      <td>0.75</td>\n",
       "      <td>0.25</td>\n",
       "      <td>NaN</td>\n",
       "      <td>NaN</td>\n",
       "      <td>0</td>\n",
       "      <td>1</td>\n",
       "      <td>2.992635</td>\n",
       "    </tr>\n",
       "    <tr>\n",
       "      <th>1656</th>\n",
       "      <td>1841</td>\n",
       "      <td>NaN</td>\n",
       "      <td>[*]CC([*])C, [*]CCCCCC(=O)N[*]</td>\n",
       "      <td>poly(prop-1-ene), poly(hexano-6-lactam)</td>\n",
       "      <td>NaN</td>\n",
       "      <td>5.143795</td>\n",
       "      <td>NaN</td>\n",
       "      <td>NaN</td>\n",
       "      <td>260.0</td>\n",
       "      <td>1966.575688</td>\n",
       "      <td>...</td>\n",
       "      <td>NaN</td>\n",
       "      <td>NaN</td>\n",
       "      <td>NaN</td>\n",
       "      <td>0.75</td>\n",
       "      <td>0.25</td>\n",
       "      <td>NaN</td>\n",
       "      <td>NaN</td>\n",
       "      <td>0</td>\n",
       "      <td>1</td>\n",
       "      <td>3.293711</td>\n",
       "    </tr>\n",
       "    <tr>\n",
       "      <th>1657</th>\n",
       "      <td>1842</td>\n",
       "      <td>NaN</td>\n",
       "      <td>[*]CC([*])C, [*]CCCCCC(=O)N[*]</td>\n",
       "      <td>poly(prop-1-ene), poly(hexano-6-lactam)</td>\n",
       "      <td>NaN</td>\n",
       "      <td>5.143795</td>\n",
       "      <td>NaN</td>\n",
       "      <td>NaN</td>\n",
       "      <td>260.0</td>\n",
       "      <td>4890.706373</td>\n",
       "      <td>...</td>\n",
       "      <td>NaN</td>\n",
       "      <td>NaN</td>\n",
       "      <td>NaN</td>\n",
       "      <td>0.75</td>\n",
       "      <td>0.25</td>\n",
       "      <td>NaN</td>\n",
       "      <td>NaN</td>\n",
       "      <td>0</td>\n",
       "      <td>1</td>\n",
       "      <td>3.689372</td>\n",
       "    </tr>\n",
       "    <tr>\n",
       "      <th>1658</th>\n",
       "      <td>1843</td>\n",
       "      <td>NaN</td>\n",
       "      <td>[*]CC([*])C, [*]CCCCCC(=O)N[*]</td>\n",
       "      <td>poly(prop-1-ene), poly(hexano-6-lactam)</td>\n",
       "      <td>NaN</td>\n",
       "      <td>5.143795</td>\n",
       "      <td>NaN</td>\n",
       "      <td>NaN</td>\n",
       "      <td>260.0</td>\n",
       "      <td>9812.487056</td>\n",
       "      <td>...</td>\n",
       "      <td>NaN</td>\n",
       "      <td>NaN</td>\n",
       "      <td>NaN</td>\n",
       "      <td>0.75</td>\n",
       "      <td>0.25</td>\n",
       "      <td>NaN</td>\n",
       "      <td>NaN</td>\n",
       "      <td>0</td>\n",
       "      <td>1</td>\n",
       "      <td>3.991779</td>\n",
       "    </tr>\n",
       "    <tr>\n",
       "      <th>1659</th>\n",
       "      <td>1844</td>\n",
       "      <td>NaN</td>\n",
       "      <td>[*]CC([*])C, [*]CCCCCC(=O)N[*]</td>\n",
       "      <td>poly(prop-1-ene), poly(hexano-6-lactam)</td>\n",
       "      <td>NaN</td>\n",
       "      <td>5.143795</td>\n",
       "      <td>NaN</td>\n",
       "      <td>NaN</td>\n",
       "      <td>260.0</td>\n",
       "      <td>19566.908803</td>\n",
       "      <td>...</td>\n",
       "      <td>NaN</td>\n",
       "      <td>NaN</td>\n",
       "      <td>NaN</td>\n",
       "      <td>0.75</td>\n",
       "      <td>0.25</td>\n",
       "      <td>NaN</td>\n",
       "      <td>NaN</td>\n",
       "      <td>0</td>\n",
       "      <td>1</td>\n",
       "      <td>4.291522</td>\n",
       "    </tr>\n",
       "  </tbody>\n",
       "</table>\n",
       "<p>1660 rows × 245 columns</p>\n",
       "</div>"
      ],
      "text/plain": [
       "      INDEX  SAMPLE_ID                          SMILES  \\\n",
       "0         0        1.0                     [*]CC([*])C   \n",
       "1         1        1.0                     [*]CC([*])C   \n",
       "2         2        1.0                     [*]CC([*])C   \n",
       "3         3        1.0                     [*]CC([*])C   \n",
       "4         4        1.0                     [*]CC([*])C   \n",
       "...     ...        ...                             ...   \n",
       "1655   1840        NaN  [*]CC([*])C, [*]CCCCCC(=O)N[*]   \n",
       "1656   1841        NaN  [*]CC([*])C, [*]CCCCCC(=O)N[*]   \n",
       "1657   1842        NaN  [*]CC([*])C, [*]CCCCCC(=O)N[*]   \n",
       "1658   1843        NaN  [*]CC([*])C, [*]CCCCCC(=O)N[*]   \n",
       "1659   1844        NaN  [*]CC([*])C, [*]CCCCCC(=O)N[*]   \n",
       "\n",
       "                                      Polymer            Mn        Mw   PDI  \\\n",
       "0                            poly(prop-1-ene)   2600.000000  3.591065  1.50   \n",
       "1                            poly(prop-1-ene)   7834.101382  4.230449  2.17   \n",
       "2                            poly(prop-1-ene)  31981.981982  4.851258  2.22   \n",
       "3                            poly(prop-1-ene)  43829.787234  5.012837  2.35   \n",
       "4                            poly(prop-1-ene)  75757.575758  5.397940  3.30   \n",
       "...                                       ...           ...       ...   ...   \n",
       "1655  poly(prop-1-ene), poly(hexano-6-lactam)           NaN  5.143795   NaN   \n",
       "1656  poly(prop-1-ene), poly(hexano-6-lactam)           NaN  5.143795   NaN   \n",
       "1657  poly(prop-1-ene), poly(hexano-6-lactam)           NaN  5.143795   NaN   \n",
       "1658  poly(prop-1-ene), poly(hexano-6-lactam)           NaN  5.143795   NaN   \n",
       "1659  poly(prop-1-ene), poly(hexano-6-lactam)           NaN  5.143795   NaN   \n",
       "\n",
       "      PDI (zw)  Temperature    Shear_Rate  ...  PID 1 PID 2 coPID Weight 1  \\\n",
       "0          NaN        200.0      0.000000  ...    NaN   NaN   NaN      NaN   \n",
       "1          NaN        200.0      0.000000  ...    NaN   NaN   NaN      NaN   \n",
       "2          NaN        200.0      0.000000  ...    NaN   NaN   NaN      NaN   \n",
       "3          NaN        200.0      0.000000  ...    NaN   NaN   NaN      NaN   \n",
       "4          NaN        200.0      0.000000  ...    NaN   NaN   NaN      NaN   \n",
       "...        ...          ...           ...  ...    ...   ...   ...      ...   \n",
       "1655       NaN        260.0    983.185240  ...    NaN   NaN   NaN     0.75   \n",
       "1656       NaN        260.0   1966.575688  ...    NaN   NaN   NaN     0.75   \n",
       "1657       NaN        260.0   4890.706373  ...    NaN   NaN   NaN     0.75   \n",
       "1658       NaN        260.0   9812.487056  ...    NaN   NaN   NaN     0.75   \n",
       "1659       NaN        260.0  19566.908803  ...    NaN   NaN   NaN     0.75   \n",
       "\n",
       "      Weight 2 Frequency  INDEX.1 ZERO_SHEAR  SHEAR  log_Shear_Rate  \n",
       "0          NaN       NaN      NaN          1      0        0.000000  \n",
       "1          NaN       NaN      NaN          1      0        0.000000  \n",
       "2          NaN       NaN      NaN          1      0        0.000000  \n",
       "3          NaN       NaN      NaN          1      0        0.000000  \n",
       "4          NaN       NaN      NaN          1      0        0.000000  \n",
       "...        ...       ...      ...        ...    ...             ...  \n",
       "1655      0.25       NaN      NaN          0      1        2.992635  \n",
       "1656      0.25       NaN      NaN          0      1        3.293711  \n",
       "1657      0.25       NaN      NaN          0      1        3.689372  \n",
       "1658      0.25       NaN      NaN          0      1        3.991779  \n",
       "1659      0.25       NaN      NaN          0      1        4.291522  \n",
       "\n",
       "[1660 rows x 245 columns]"
      ]
     },
     "execution_count": 128,
     "metadata": {},
     "output_type": "execute_result"
    }
   ],
   "source": [
    "data"
   ]
  },
  {
   "cell_type": "code",
   "execution_count": 5,
   "id": "f748c7c2-b009-4d5e-9858-44651748a360",
   "metadata": {},
   "outputs": [
    {
     "name": "stdout",
     "output_type": "stream",
     "text": [
      "Found Zero Shear Samples\n",
      "Found LOBF for samples\n",
      "Generating sample...0\n",
      "Generating sample...1\n",
      "Generating sample...2\n",
      "Generating sample...3\n",
      "Generating sample...4\n",
      "Generating sample...5\n",
      "Generating sample...6\n",
      "Generating sample...7\n",
      "Generating sample...8\n",
      "Generating sample...9\n"
     ]
    }
   ],
   "source": [
    "extrap, PL_data, extrap_samps = Mw_extrapolation(data.copy(), 10)\n",
    "#data = pd.concat([data, extrap], ignore_index = True).reset_index(drop = True)"
   ]
  },
  {
   "cell_type": "code",
   "execution_count": 6,
   "id": "a7ce0ab1-113b-41cf-ba27-04b28a9738a2",
   "metadata": {},
   "outputs": [],
   "source": [
    "shear_samps = shear_extrapolation(data.copy())"
   ]
  },
  {
   "cell_type": "code",
   "execution_count": 21,
   "id": "83bad8a1-2d24-4904-95ff-295105ab2f48",
   "metadata": {},
   "outputs": [
    {
     "data": {
      "text/plain": [
       "217"
      ]
     },
     "execution_count": 21,
     "metadata": {},
     "output_type": "execute_result"
    }
   ],
   "source": [
    "OG_fp = []\n",
    "for c in data.columns:\n",
    "    if isinstance(c, str):\n",
    "        if 'fp' in c:\n",
    "            OG_fp.append(c)\n",
    "len(OG_fp)"
   ]
  },
  {
   "cell_type": "code",
   "execution_count": 8,
   "id": "a36ff4f1-9494-4df6-b1f1-7bd9fe395325",
   "metadata": {},
   "outputs": [],
   "source": [
    "do_pca = False\n",
    "if do_pca:\n",
    "    data, fp_cols, pca = fp_PCA(data, 17, cols = OG_fp)\n",
    "    cols = fp_cols + ['Mw', 'Temperature', 'Shear_Rate','Melt_Viscosity']\n",
    "else:\n",
    "    fp_cols = OG_fp\n",
    "    cols = fp_cols + ['Mw', 'Temperature', 'Shear_Rate','Melt_Viscosity']"
   ]
  },
  {
   "cell_type": "code",
   "execution_count": 9,
   "id": "27a3c7d4-2156-46f3-b772-51ab278b7b25",
   "metadata": {},
   "outputs": [],
   "source": [
    "for c in ['Mw', 'Melt_Viscosity']:\n",
    "    data[c] = np.log10(data[c])\n",
    "\n",
    "data['ZERO_SHEAR'] = 1\n",
    "data['SHEAR'] = 0\n",
    "data['log_Shear_Rate'] = 0\n",
    "for i in data.index:\n",
    "    if data.loc[i, 'Shear_Rate'] != 0:\n",
    "        data.loc[i,'log_Shear_Rate'] = np.log10(data.loc[i, 'Shear_Rate'])\n",
    "        data.loc[i, 'SHEAR'] = 1\n",
    "        data.loc[i, 'ZERO_SHEAR'] = 0\n",
    "        #data = data.drop([i])"
   ]
  },
  {
   "cell_type": "code",
   "execution_count": 10,
   "id": "51705342-e888-4420-b398-d27bb2bd735a",
   "metadata": {},
   "outputs": [],
   "source": [
    "#cols.remove('Shear_Rate')\n",
    "filtered_data = data.loc[:, cols + ['Polymer', 'SHEAR', 'ZERO_SHEAR', 'log_Shear_Rate']].dropna(subset = ['Mw', 'Shear_Rate'])\n",
    "#X_tot = np.array(filtered_data.filter(fp_cols + ['SHEAR', 'ZERO_SHEAR']))\n",
    "X_tot = np.array(filtered_data.filter(fp_cols))\n",
    "tot_samples = X_tot.shape[0]\n",
    "Y_tot = np.array(filtered_data.loc[:,'Melt_Viscosity']).reshape((tot_samples,1))"
   ]
  },
  {
   "cell_type": "code",
   "execution_count": 59,
   "id": "026cb7fe-b99d-4fd9-ad61-5ed3638f50e1",
   "metadata": {},
   "outputs": [],
   "source": [
    "logMw = np.array(filtered_data['Mw']).reshape((tot_samples,1))\n",
    "log_shear = np.array(filtered_data['log_Shear_Rate']).reshape((tot_samples,1))\n",
    "shear = np.array(filtered_data['Shear_Rate']).reshape((tot_samples,1))\n",
    "Temp = np.array(filtered_data['Temperature']).reshape((tot_samples,1))\n",
    "scaler = MinMaxScaler(copy = False)\n",
    "scaler.fit(X_tot).transform(X_tot)\n",
    "#y_scaler = MinMaxScaler(copy = False)\n",
    "#y_scaler.fit(Y_tot).transform(Y_tot);\n",
    "#S_scaler = MaxAbsScaler().fit(log_shear)\n",
    "#log_shear = S_scaler.transform(log_shear)\n",
    "T_scaler = MinMaxScaler().fit(Temp)\n",
    "Temp = T_scaler.transform(Temp);\n",
    "M_scaler = MinMaxScaler().fit(logMw)\n",
    "logMw = M_scaler.transform(logMw);\n",
    "#S_trans = PowerTransformer(standardize = False).fit(shear)\n",
    "#S_scaler = MinMaxScaler().fit(S_trans.transform(shear))\n",
    "S_scaler = MinMaxScaler().fit((shear))\n",
    "#shear = S_scaler.transform(S_trans.transform(shear))\n",
    "shear = S_scaler.transform((shear))\n",
    "#gpr_Mcr, mcr_cv_error = Mcr_gpr_train(OG_fp, None, M_scaler, scaler, transform = False)"
   ]
  },
  {
   "cell_type": "code",
   "execution_count": 85,
   "id": "3dcde744-f41e-4c7a-aa74-31ba798dd3a0",
   "metadata": {},
   "outputs": [],
   "source": [
    "XX, X_test, yy, y_test, M, M_test, S, S_test, T, T_test, train_ind, test_ind = train_test_split(X_tot, Y_tot,logMw, shear, Temp, range(tot_samples), test_size= 0.10)"
   ]
  },
  {
   "cell_type": "code",
   "execution_count": 61,
   "id": "e7ac729f-fc7d-4804-aa4c-d416d49536a6",
   "metadata": {},
   "outputs": [
    {
     "data": {
      "text/plain": [
       "<matplotlib.collections.PathCollection at 0x1eb85784f10>"
      ]
     },
     "execution_count": 61,
     "metadata": {},
     "output_type": "execute_result"
    },
    {
     "data": {
      "image/png": "[encoded data removed]",
      "text/plain": [
       "<Figure size 432x288 with 1 Axes>"
      ]
     },
     "metadata": {
      "needs_background": "light"
     },
     "output_type": "display_data"
    },
    {
     "data": {
      "image/png": "[encoded data removed]",
      "text/plain": [
       "<Figure size 432x288 with 1 Axes>"
      ]
     },
     "metadata": {
      "needs_background": "light"
     },
     "output_type": "display_data"
    },
    {
     "data": {
      "image/png": "[encoded data removed]",
      "text/plain": [
       "<Figure size 432x288 with 1 Axes>"
      ]
     },
     "metadata": {
      "needs_background": "light"
     },
     "output_type": "display_data"
    }
   ],
   "source": [
    "plt.scatter(M, yy, c = 'orange')\n",
    "plt.scatter(M_test, y_test)\n",
    "\n",
    "plt.figure()\n",
    "plt.scatter(S, yy, c = 'orange')\n",
    "plt.scatter(S_test, y_test)\n",
    "\n",
    "plt.figure()\n",
    "plt.scatter(T, yy, c = 'orange')\n",
    "plt.scatter(T_test, y_test)"
   ]
  },
  {
   "cell_type": "code",
   "execution_count": 88,
   "id": "e2c0ecb1-32f3-4b6a-b7de-85a979bec270",
   "metadata": {},
   "outputs": [
    {
     "name": "stdout",
     "output_type": "stream",
     "text": [
      "Trained fold 1 ...\n",
      "CV Error create_ViscNN_concat: 0.38235536217689514\n",
      "CV Error GPR: tf.Tensor(0.31818622, shape=(), dtype=float32)\n",
      "Trained fold 2 ...\n",
      "CV Error create_ViscNN_concat: 0.48166942596435547\n",
      "CV Error GPR: tf.Tensor(0.36089694, shape=(), dtype=float32)\n",
      "Trained fold 3 ...\n",
      "CV Error create_ViscNN_concat: 0.4040059447288513\n",
      "CV Error GPR: tf.Tensor(0.31429422, shape=(), dtype=float32)\n",
      "Trained fold 4 ...\n",
      "CV Error create_ViscNN_concat: 0.4261552691459656\n",
      "CV Error GPR: tf.Tensor(0.30479234, shape=(), dtype=float32)\n",
      "Trained fold 5 ...\n",
      "CV Error create_ViscNN_concat: 0.4432065784931183\n",
      "CV Error GPR: tf.Tensor(0.36122975, shape=(), dtype=float32)\n",
      "Trained fold 6 ...\n",
      "CV Error create_ViscNN_concat: 0.41067469120025635\n",
      "CV Error GPR: tf.Tensor(0.29660952, shape=(), dtype=float32)\n",
      "Trained fold 7 ...\n",
      "CV Error create_ViscNN_concat: 0.4412744641304016\n",
      "CV Error GPR: tf.Tensor(0.34893438, shape=(), dtype=float32)\n",
      "Trained fold 8 ...\n",
      "CV Error create_ViscNN_concat: 0.39605289697647095\n",
      "CV Error GPR: tf.Tensor(0.31322485, shape=(), dtype=float32)\n",
      "Trained fold 9 ...\n",
      "CV Error create_ViscNN_concat: 0.48682498931884766\n",
      "CV Error GPR: tf.Tensor(0.29117587, shape=(), dtype=float32)\n",
      "Trained fold 10 ...\n",
      "CV Error create_ViscNN_concat: 0.4487634599208832\n",
      "CV Error GPR: tf.Tensor(0.28508177, shape=(), dtype=float32)\n"
     ]
    }
   ],
   "source": [
    "models, history, gpr_models, gp_cv  = crossval_compare([create_ViscNN_concat], XX, yy, M=M, S=S, T=T, S_trans = S_trans, S_scaler = S_scaler, M_scaler = M_scaler, verbose = 1, gpr_model = create_GPR, epochs = 600)"
   ]
  },
  {
   "cell_type": "code",
   "execution_count": 63,
   "id": "3f33fb13-dfdf-49a1-8682-9ccee49f0192",
   "metadata": {},
   "outputs": [],
   "source": [
    "model_num = 8"
   ]
  },
  {
   "cell_type": "code",
   "execution_count": 123,
   "id": "58d9bf30-06be-47cb-8f49-ca66b1b0176b",
   "metadata": {},
   "outputs": [
    {
     "name": "stdout",
     "output_type": "stream",
     "text": [
      "Test OME:0.36216846\n"
     ]
    },
    {
     "data": {
      "image/png": "[encoded data removed]",
      "text/plain": [
       "<Figure size 432x288 with 1 Axes>"
      ]
     },
     "metadata": {
      "needs_background": "light"
     },
     "output_type": "display_data"
    },
    {
     "data": {
      "image/png": "[encoded data removed]",
      "text/plain": [
       "<Figure size 432x288 with 1 Axes>"
      ]
     },
     "metadata": {
      "needs_background": "light"
     },
     "output_type": "display_data"
    }
   ],
   "source": [
    "m_P = models[0][model_num]\n",
    "\n",
    "test_pred, test_var = predict_all_cv(models[0],[X_test, M_test, S_test, T_test])\n",
    "train_pred, train_var = predict_all_cv(models[0],[XX, M, S, T])\n",
    "plt.errorbar(yy,train_pred, yerr = train_var, c = 'orange', fmt = 'o')\n",
    "plt.errorbar(y_test ,test_pred, yerr= test_var, fmt =  'o')\n",
    "\n",
    "plt.plot(np.linspace((min(yy)[0]), (max(yy)[0]), num = 2),np.linspace((min(yy)[0]), (max(yy)[0]), num = 2),'k-')\n",
    "plt.ylabel('Log Prediction')\n",
    "plt.xlabel('Log Truth')\n",
    "plt.legend(['Truth = Prediction','Train','Test'])\n",
    "plt.title('Physics Informed NN Parity Plot')\n",
    "val_epochs(history[0], name = 'Physics Informed NN')\n",
    "\n",
    "print(\"Test OME:\" + str(OME(np.array(test_pred),[y[0] for y in y_test]).numpy()))"
   ]
  },
  {
   "cell_type": "code",
   "execution_count": 127,
   "id": "a8608eb2-9729-44d3-9450-1282c09a805d",
   "metadata": {},
   "outputs": [
    {
     "name": "stdout",
     "output_type": "stream",
     "text": [
      "0.4894996087924004\n"
     ]
    }
   ],
   "source": [
    "train_df, test_df = evaluate_model(test_pred, train_pred , filtered_data, (train_ind, test_ind))\n",
    "train_df[train_df['BAD_PRED'] == True].sort_index().to_excel('NP_Bad_pred_1_12_2022.xlsx')"
   ]
  },
  {
   "cell_type": "code",
   "execution_count": 411,
   "id": "3a133fe0-47e5-4ddd-b57b-faf1fe4245a4",
   "metadata": {},
   "outputs": [
    {
     "name": "stdout",
     "output_type": "stream",
     "text": [
      "Model: \"model_148\"\n",
      "__________________________________________________________________________________________________\n",
      "Layer (type)                    Output Shape         Param #     Connected to                     \n",
      "==================================================================================================\n",
      "input_641 (InputLayer)          [(None, 217)]        0                                            \n",
      "__________________________________________________________________________________________________\n",
      "input_643 (InputLayer)          [(None, 1)]          0                                            \n",
      "__________________________________________________________________________________________________\n",
      "input_645 (InputLayer)          [(None, 1)]          0                                            \n",
      "__________________________________________________________________________________________________\n",
      "concatenate_238 (Concatenate)   (None, 219)          0           input_641[0][0]                  \n",
      "                                                                 input_643[0][0]                  \n",
      "                                                                 input_645[0][0]                  \n",
      "__________________________________________________________________________________________________\n",
      "dense_320 (Dense)               (None, 128)          28160       concatenate_238[0][0]            \n",
      "__________________________________________________________________________________________________\n",
      "dropout_128 (Dropout)           (None, 128)          0           dense_320[0][0]                  \n",
      "__________________________________________________________________________________________________\n",
      "dense_321 (Dense)               (None, 30)           3870        dropout_128[0][0]                \n",
      "__________________________________________________________________________________________________\n",
      "log_k_1 (Dense)                 (None, 1)            31          dense_321[0][0]                  \n",
      "__________________________________________________________________________________________________\n",
      "alpha (Dense)                   (None, 1)            31          dense_321[0][0]                  \n",
      "__________________________________________________________________________________________________\n",
      "concatenate_239 (Concatenate)   (None, 2)            0           log_k_1[0][0]                    \n",
      "                                                                 input_645[0][0]                  \n",
      "__________________________________________________________________________________________________\n",
      "concatenate_240 (Concatenate)   (None, 2)            0           alpha[0][0]                      \n",
      "                                                                 input_645[0][0]                  \n",
      "__________________________________________________________________________________________________\n",
      "log_k (Dense)                   (None, 1)            3           concatenate_239[0][0]            \n",
      "__________________________________________________________________________________________________\n",
      "alpha_mod (Dense)               (None, 1)            3           concatenate_240[0][0]            \n",
      "__________________________________________________________________________________________________\n",
      "input_642 (InputLayer)          [(None, 1)]          0                                            \n",
      "__________________________________________________________________________________________________\n",
      "zero_shear_visc (Lambda)        (None, 1)            0           log_k[0][0]                      \n",
      "                                                                 alpha_mod[0][0]                  \n",
      "                                                                 input_642[0][0]                  \n",
      "__________________________________________________________________________________________________\n",
      "tau (Dense)                     (None, 1)            31          dense_321[0][0]                  \n",
      "__________________________________________________________________________________________________\n",
      "concatenate_241 (Concatenate)   (None, 2)            0           zero_shear_visc[0][0]            \n",
      "                                                                 tau[0][0]                        \n",
      "__________________________________________________________________________________________________\n",
      "n (Dense)                       (None, 1)            31          dense_321[0][0]                  \n",
      "__________________________________________________________________________________________________\n",
      "crit_shear (Dense)              (None, 1)            3           concatenate_241[0][0]            \n",
      "__________________________________________________________________________________________________\n",
      "input_644 (InputLayer)          [(None, 1)]          0                                            \n",
      "__________________________________________________________________________________________________\n",
      "lambda_64 (Lambda)              (None, 1)            0           zero_shear_visc[0][0]            \n",
      "                                                                 n[0][0]                          \n",
      "                                                                 crit_shear[0][0]                 \n",
      "                                                                 input_644[0][0]                  \n",
      "==================================================================================================\n",
      "Total params: 32,163\n",
      "Trainable params: 32,163\n",
      "Non-trainable params: 0\n",
      "__________________________________________________________________________________________________\n"
     ]
    }
   ],
   "source": [
    "m_P.summary()"
   ]
  },
  {
   "cell_type": "code",
   "execution_count": 86,
   "id": "fe5a83c7-c124-4b10-8c57-dfdb1c28a61f",
   "metadata": {},
   "outputs": [
    {
     "ename": "IndexError",
     "evalue": "list index out of range",
     "output_type": "error",
     "traceback": [
      "\u001b[1;31m---------------------------------------------------------------------------\u001b[0m",
      "\u001b[1;31mIndexError\u001b[0m                                Traceback (most recent call last)",
      "\u001b[1;32m~\\AppData\\Local\\Temp/ipykernel_8872/2656925370.py\u001b[0m in \u001b[0;36m<module>\u001b[1;34m\u001b[0m\n\u001b[1;32m----> 1\u001b[1;33m \u001b[0mm_NP\u001b[0m \u001b[1;33m=\u001b[0m \u001b[0mmodels\u001b[0m\u001b[1;33m[\u001b[0m\u001b[1;36m1\u001b[0m\u001b[1;33m]\u001b[0m\u001b[1;33m[\u001b[0m\u001b[0mmodel_num\u001b[0m\u001b[1;33m]\u001b[0m\u001b[1;33m\u001b[0m\u001b[1;33m\u001b[0m\u001b[0m\n\u001b[0m\u001b[0;32m      2\u001b[0m \u001b[1;31m# test_pred =  m_NP.predict([X_test, M_test, S_test, T_test, gr_Mcr_test])\u001b[0m\u001b[1;33m\u001b[0m\u001b[1;33m\u001b[0m\u001b[1;33m\u001b[0m\u001b[0m\n\u001b[0;32m      3\u001b[0m \u001b[1;31m# train_pred = m_NP.predict([XX, M, S, T, gr_Mcr])\u001b[0m\u001b[1;33m\u001b[0m\u001b[1;33m\u001b[0m\u001b[1;33m\u001b[0m\u001b[0m\n\u001b[0;32m      4\u001b[0m \u001b[0mtest_pred\u001b[0m\u001b[1;33m,\u001b[0m \u001b[0mtest_var\u001b[0m \u001b[1;33m=\u001b[0m \u001b[0mpredict_all_cv\u001b[0m\u001b[1;33m(\u001b[0m\u001b[0mmodels\u001b[0m\u001b[1;33m[\u001b[0m\u001b[1;36m1\u001b[0m\u001b[1;33m]\u001b[0m\u001b[1;33m,\u001b[0m\u001b[1;33m[\u001b[0m\u001b[0mX_test\u001b[0m\u001b[1;33m,\u001b[0m \u001b[0mM_test\u001b[0m\u001b[1;33m,\u001b[0m \u001b[0mS_test\u001b[0m\u001b[1;33m,\u001b[0m \u001b[0mT_test\u001b[0m\u001b[1;33m,\u001b[0m \u001b[0mgr_Mcr_test\u001b[0m\u001b[1;33m]\u001b[0m\u001b[1;33m)\u001b[0m\u001b[1;33m\u001b[0m\u001b[1;33m\u001b[0m\u001b[0m\n\u001b[0;32m      5\u001b[0m \u001b[0mtrain_pred\u001b[0m\u001b[1;33m,\u001b[0m \u001b[0mtrain_var\u001b[0m \u001b[1;33m=\u001b[0m \u001b[0mpredict_all_cv\u001b[0m\u001b[1;33m(\u001b[0m\u001b[0mmodels\u001b[0m\u001b[1;33m[\u001b[0m\u001b[1;36m1\u001b[0m\u001b[1;33m]\u001b[0m\u001b[1;33m,\u001b[0m\u001b[1;33m[\u001b[0m\u001b[0mXX\u001b[0m\u001b[1;33m,\u001b[0m \u001b[0mM\u001b[0m\u001b[1;33m,\u001b[0m \u001b[0mS\u001b[0m\u001b[1;33m,\u001b[0m \u001b[0mT\u001b[0m\u001b[1;33m,\u001b[0m \u001b[0mgr_Mcr\u001b[0m\u001b[1;33m]\u001b[0m\u001b[1;33m)\u001b[0m\u001b[1;33m\u001b[0m\u001b[1;33m\u001b[0m\u001b[0m\n",
      "\u001b[1;31mIndexError\u001b[0m: list index out of range"
     ]
    }
   ],
   "source": [
    "m_NP = models[1][model_num]\n",
    "# test_pred =  m_NP.predict([X_test, M_test, S_test, T_test, gr_Mcr_test])\n",
    "# train_pred = m_NP.predict([XX, M, S, T, gr_Mcr])\n",
    "test_pred, test_var = predict_all_cv(models[1],[X_test, M_test, S_test, T_test, gr_Mcr_test])\n",
    "train_pred, train_var = predict_all_cv(models[1],[XX, M, S, T, gr_Mcr])\n",
    "#plt.scatter(yy, train_pred, c = 'orange')\n",
    "#plt.scatter(y_test, test_pred)\n",
    "plt.plot(np.linspace((min(yy)[0]), (max(yy)[0]), num = 2),np.linspace((min(yy)[0]), (max(yy)[0]), num = 2),'k-')\n",
    "plt.errorbar(yy,train_pred, yerr = train_var, c = 'orange', fmt = 'o')\n",
    "plt.errorbar(y_test ,test_pred, yerr= test_var, fmt =  'o')\n",
    "\n",
    "\n",
    "plt.ylabel('Log Prediction')\n",
    "plt.xlabel('Log Truth')\n",
    "plt.legend(['Truth = Prediction','Train','Test'])\n",
    "plt.title('Non-Physics NN Parity Plot')\n",
    "val_epochs(history[1], name = 'Non-Physics NN')\n",
    "\n",
    "print(\"Test OME:\" + str(OME(test_pred, [y[0] for y in y_test]).numpy()))\n"
   ]
  },
  {
   "cell_type": "code",
   "execution_count": 90,
   "id": "88a21fdf-f5f6-4c0d-996c-315cd9673b3c",
   "metadata": {},
   "outputs": [],
   "source": [
    "#gpr_model = train_GPR(XX, yy, M, S, T)\n",
    "gpr_model = gpr_models[model_num]"
   ]
  },
  {
   "cell_type": "code",
   "execution_count": 92,
   "id": "8d23fb6d-b7de-442d-9e63-0cb44c79fd3f",
   "metadata": {},
   "outputs": [
    {
     "name": "stdout",
     "output_type": "stream",
     "text": [
      "Test MSE:0.2223754220322901\n",
      "Test OME:tf.Tensor(0.27996427, shape=(), dtype=float32)\n",
      "(160,)\n"
     ]
    },
    {
     "data": {
      "image/png": "[encoded data removed]",
      "text/plain": [
       "<Figure size 432x288 with 1 Axes>"
      ]
     },
     "metadata": {
      "needs_background": "light"
     },
     "output_type": "display_data"
    }
   ],
   "source": [
    "gpr_model = gpr_models[model_num] \n",
    "X_ = np.concatenate((X_test, M_test, S_test, T_test), axis = 1)\n",
    "X_train = np.concatenate((XX, M, S, T), axis = 1)\n",
    "test_pred, var = gpr_model.predict_y(X_)\n",
    "## generate 10 samples from posterior\n",
    "error =  [i[0] for i in np.array(var).tolist()]\n",
    "print(\"Test MSE:\" + str(MSE(test_pred, y_test)))\n",
    "print(\"Test OME:\" + str(OME(tf.cast(test_pred, tf.float32), y_test)))\n",
    "\n",
    "high_var_test = np.where(np.array(var) > 10)\n",
    "test_pred = np.delete(np.array(test_pred), high_var_test)\n",
    "print(test_pred.shape)\n",
    "y_test_new = np.delete(np.array(y_test), high_var_test)\n",
    "var = np.delete(np.array(var), high_var_test)\n",
    "# plt.plot(xx[:,0], samples[:, :, 0].numpy().T, \"C0\", linewidth=0.5)\n",
    "train_pred, var_train = gpr_model.predict_y(X_train)\n",
    "plt.scatter(yy, train_pred, c = 'orange')\n",
    "plt.errorbar(y_test_new, test_pred, var, fmt = 'o')\n",
    "plt.ylabel('Log Prediction')\n",
    "plt.xlabel('Log Truth')\n",
    "plt.plot(np.linspace((min(yy)[0]), (max(yy)[0]), num = 2),np.linspace((min(yy)[0]), (max(yy)[0]), num = 2),'k-')\n",
    "plt.legend(['Truth = Prediction', 'Train','Test'])\n",
    "plt.title('GPR Parity Plot')\n",
    "plt.show()"
   ]
  },
  {
   "cell_type": "code",
   "execution_count": 419,
   "id": "d6802881-9e1f-4964-adb6-2d8007bd9630",
   "metadata": {},
   "outputs": [
    {
     "name": "stdout",
     "output_type": "stream",
     "text": [
      "0.4709271519435972\n"
     ]
    },
    {
     "data": {
      "text/plain": [
       "index                  658\n",
       "afp_C4_C4_C4      0.151515\n",
       "afp_C4_C4_H1      0.363636\n",
       "afp_H1_C4_H1      0.151515\n",
       "bfp_267                0.0\n",
       "                    ...   \n",
       "ZERO_SHEAR               1\n",
       "log_Shear_Rate         0.0\n",
       "Y_pred            0.012694\n",
       "Error             1.222835\n",
       "BAD_PRED              True\n",
       "Name: 75, Length: 229, dtype: object"
      ]
     },
     "execution_count": 419,
     "metadata": {},
     "output_type": "execute_result"
    }
   ],
   "source": [
    "train_df, test_df = evaluate_model(test_pred, train_pred , filtered_data, (train_ind, test_ind))\n",
    "test_df[test_df['BAD_PRED'] == True]\n",
    "test_df.reset_index().loc[error.index(max(error))]"
   ]
  },
  {
   "cell_type": "code",
   "execution_count": 67,
   "id": "f71d8aab-c799-46f7-b512-b78787851f19",
   "metadata": {},
   "outputs": [
    {
     "name": "stdout",
     "output_type": "stream",
     "text": [
      "0.34246501152543185\n"
     ]
    },
    {
     "data": {
      "text/html": [
       "<div>\n",
       "<style scoped>\n",
       "    .dataframe tbody tr th:only-of-type {\n",
       "        vertical-align: middle;\n",
       "    }\n",
       "\n",
       "    .dataframe tbody tr th {\n",
       "        vertical-align: top;\n",
       "    }\n",
       "\n",
       "    .dataframe thead th {\n",
       "        text-align: right;\n",
       "    }\n",
       "</style>\n",
       "<table border=\"1\" class=\"dataframe\">\n",
       "  <thead>\n",
       "    <tr style=\"text-align: right;\">\n",
       "      <th></th>\n",
       "      <th>afp_C4_C4_C4</th>\n",
       "      <th>afp_C4_C4_H1</th>\n",
       "      <th>afp_H1_C4_H1</th>\n",
       "      <th>bfp_267</th>\n",
       "      <th>bfp_282</th>\n",
       "      <th>bfp_289</th>\n",
       "      <th>bfp_304</th>\n",
       "      <th>bfp_315</th>\n",
       "      <th>bfp_334</th>\n",
       "      <th>bfp_349</th>\n",
       "      <th>...</th>\n",
       "      <th>Temperature</th>\n",
       "      <th>Shear_Rate</th>\n",
       "      <th>Melt_Viscosity</th>\n",
       "      <th>Polymer</th>\n",
       "      <th>SHEAR</th>\n",
       "      <th>ZERO_SHEAR</th>\n",
       "      <th>log_Shear_Rate</th>\n",
       "      <th>Y_pred</th>\n",
       "      <th>Error</th>\n",
       "      <th>BAD_PRED</th>\n",
       "    </tr>\n",
       "  </thead>\n",
       "  <tbody>\n",
       "    <tr>\n",
       "      <th>1544</th>\n",
       "      <td>0.000000</td>\n",
       "      <td>0.000000</td>\n",
       "      <td>0.000000</td>\n",
       "      <td>0.000000</td>\n",
       "      <td>0.000000</td>\n",
       "      <td>0.000000</td>\n",
       "      <td>0.000000</td>\n",
       "      <td>0.000000</td>\n",
       "      <td>0.493218</td>\n",
       "      <td>0.570096</td>\n",
       "      <td>...</td>\n",
       "      <td>260.0</td>\n",
       "      <td>935.307371</td>\n",
       "      <td>2.139073</td>\n",
       "      <td>Poly(hexano-6-lactam), PPTA</td>\n",
       "      <td>1</td>\n",
       "      <td>0</td>\n",
       "      <td>2.970954</td>\n",
       "      <td>2.845784</td>\n",
       "      <td>0.706711</td>\n",
       "      <td>True</td>\n",
       "    </tr>\n",
       "    <tr>\n",
       "      <th>261</th>\n",
       "      <td>0.266667</td>\n",
       "      <td>0.466667</td>\n",
       "      <td>0.466667</td>\n",
       "      <td>0.533333</td>\n",
       "      <td>0.000000</td>\n",
       "      <td>0.200000</td>\n",
       "      <td>1.400000</td>\n",
       "      <td>0.000000</td>\n",
       "      <td>0.533333</td>\n",
       "      <td>0.533333</td>\n",
       "      <td>...</td>\n",
       "      <td>220.0</td>\n",
       "      <td>89.526571</td>\n",
       "      <td>4.423077</td>\n",
       "      <td>poly(methyl methacrylate)</td>\n",
       "      <td>1</td>\n",
       "      <td>0</td>\n",
       "      <td>1.951952</td>\n",
       "      <td>3.929518</td>\n",
       "      <td>0.493559</td>\n",
       "      <td>True</td>\n",
       "    </tr>\n",
       "    <tr>\n",
       "      <th>1165</th>\n",
       "      <td>0.149429</td>\n",
       "      <td>0.448286</td>\n",
       "      <td>0.074714</td>\n",
       "      <td>0.000000</td>\n",
       "      <td>0.298857</td>\n",
       "      <td>0.224143</td>\n",
       "      <td>0.896571</td>\n",
       "      <td>0.149429</td>\n",
       "      <td>0.448286</td>\n",
       "      <td>0.489143</td>\n",
       "      <td>...</td>\n",
       "      <td>200.0</td>\n",
       "      <td>0.097696</td>\n",
       "      <td>4.552494</td>\n",
       "      <td>polystyrene, polyacrylonitrile</td>\n",
       "      <td>1</td>\n",
       "      <td>0</td>\n",
       "      <td>-1.010123</td>\n",
       "      <td>4.170946</td>\n",
       "      <td>0.381547</td>\n",
       "      <td>True</td>\n",
       "    </tr>\n",
       "    <tr>\n",
       "      <th>1089</th>\n",
       "      <td>0.134643</td>\n",
       "      <td>0.403929</td>\n",
       "      <td>0.067321</td>\n",
       "      <td>0.000000</td>\n",
       "      <td>0.269286</td>\n",
       "      <td>0.201964</td>\n",
       "      <td>0.807857</td>\n",
       "      <td>0.134643</td>\n",
       "      <td>0.403929</td>\n",
       "      <td>0.495714</td>\n",
       "      <td>...</td>\n",
       "      <td>170.0</td>\n",
       "      <td>0.000000</td>\n",
       "      <td>3.214844</td>\n",
       "      <td>polystyrene, polyacrylonitrile</td>\n",
       "      <td>0</td>\n",
       "      <td>1</td>\n",
       "      <td>0.000000</td>\n",
       "      <td>3.880512</td>\n",
       "      <td>0.665668</td>\n",
       "      <td>True</td>\n",
       "    </tr>\n",
       "    <tr>\n",
       "      <th>194</th>\n",
       "      <td>0.125000</td>\n",
       "      <td>0.375000</td>\n",
       "      <td>0.062500</td>\n",
       "      <td>0.000000</td>\n",
       "      <td>0.250000</td>\n",
       "      <td>0.187500</td>\n",
       "      <td>0.750000</td>\n",
       "      <td>0.125000</td>\n",
       "      <td>0.375000</td>\n",
       "      <td>0.500000</td>\n",
       "      <td>...</td>\n",
       "      <td>200.0</td>\n",
       "      <td>548.441658</td>\n",
       "      <td>2.209302</td>\n",
       "      <td>polystyrene</td>\n",
       "      <td>1</td>\n",
       "      <td>0</td>\n",
       "      <td>2.739130</td>\n",
       "      <td>2.872448</td>\n",
       "      <td>0.663145</td>\n",
       "      <td>True</td>\n",
       "    </tr>\n",
       "    <tr>\n",
       "      <th>...</th>\n",
       "      <td>...</td>\n",
       "      <td>...</td>\n",
       "      <td>...</td>\n",
       "      <td>...</td>\n",
       "      <td>...</td>\n",
       "      <td>...</td>\n",
       "      <td>...</td>\n",
       "      <td>...</td>\n",
       "      <td>...</td>\n",
       "      <td>...</td>\n",
       "      <td>...</td>\n",
       "      <td>...</td>\n",
       "      <td>...</td>\n",
       "      <td>...</td>\n",
       "      <td>...</td>\n",
       "      <td>...</td>\n",
       "      <td>...</td>\n",
       "      <td>...</td>\n",
       "      <td>...</td>\n",
       "      <td>...</td>\n",
       "      <td>...</td>\n",
       "    </tr>\n",
       "    <tr>\n",
       "      <th>1100</th>\n",
       "      <td>0.181571</td>\n",
       "      <td>0.544714</td>\n",
       "      <td>0.090786</td>\n",
       "      <td>0.000000</td>\n",
       "      <td>0.363143</td>\n",
       "      <td>0.272357</td>\n",
       "      <td>1.089429</td>\n",
       "      <td>0.181571</td>\n",
       "      <td>0.544714</td>\n",
       "      <td>0.474857</td>\n",
       "      <td>...</td>\n",
       "      <td>200.0</td>\n",
       "      <td>0.390965</td>\n",
       "      <td>5.426735</td>\n",
       "      <td>polystyrene, polyacrylonitrile</td>\n",
       "      <td>1</td>\n",
       "      <td>0</td>\n",
       "      <td>-0.407862</td>\n",
       "      <td>4.978222</td>\n",
       "      <td>0.448514</td>\n",
       "      <td>True</td>\n",
       "    </tr>\n",
       "    <tr>\n",
       "      <th>875</th>\n",
       "      <td>0.151515</td>\n",
       "      <td>0.484848</td>\n",
       "      <td>0.181818</td>\n",
       "      <td>0.000000</td>\n",
       "      <td>0.000000</td>\n",
       "      <td>0.545455</td>\n",
       "      <td>0.636364</td>\n",
       "      <td>0.000000</td>\n",
       "      <td>0.545455</td>\n",
       "      <td>0.363636</td>\n",
       "      <td>...</td>\n",
       "      <td>205.0</td>\n",
       "      <td>0.000000</td>\n",
       "      <td>3.399674</td>\n",
       "      <td>poly[(2,2,3,3,4,4-hexafluoropentane-1,5-diol)-...</td>\n",
       "      <td>0</td>\n",
       "      <td>1</td>\n",
       "      <td>0.000000</td>\n",
       "      <td>3.810134</td>\n",
       "      <td>0.410461</td>\n",
       "      <td>True</td>\n",
       "    </tr>\n",
       "    <tr>\n",
       "      <th>183</th>\n",
       "      <td>0.333333</td>\n",
       "      <td>0.666667</td>\n",
       "      <td>0.166667</td>\n",
       "      <td>0.000000</td>\n",
       "      <td>0.000000</td>\n",
       "      <td>0.500000</td>\n",
       "      <td>1.000000</td>\n",
       "      <td>0.000000</td>\n",
       "      <td>0.666667</td>\n",
       "      <td>0.333333</td>\n",
       "      <td>...</td>\n",
       "      <td>210.0</td>\n",
       "      <td>0.000000</td>\n",
       "      <td>5.000000</td>\n",
       "      <td>poly(vinylidene fluoride)</td>\n",
       "      <td>0</td>\n",
       "      <td>1</td>\n",
       "      <td>0.000000</td>\n",
       "      <td>5.585200</td>\n",
       "      <td>0.585200</td>\n",
       "      <td>True</td>\n",
       "    </tr>\n",
       "    <tr>\n",
       "      <th>1329</th>\n",
       "      <td>0.273810</td>\n",
       "      <td>0.821429</td>\n",
       "      <td>0.161905</td>\n",
       "      <td>0.033333</td>\n",
       "      <td>0.547619</td>\n",
       "      <td>0.410714</td>\n",
       "      <td>1.642857</td>\n",
       "      <td>0.273810</td>\n",
       "      <td>0.821429</td>\n",
       "      <td>0.435714</td>\n",
       "      <td>...</td>\n",
       "      <td>220.0</td>\n",
       "      <td>38.940893</td>\n",
       "      <td>3.532110</td>\n",
       "      <td>polyacrylonitrile, Poly(methyl acrylate)</td>\n",
       "      <td>1</td>\n",
       "      <td>0</td>\n",
       "      <td>1.590406</td>\n",
       "      <td>4.012979</td>\n",
       "      <td>0.480869</td>\n",
       "      <td>True</td>\n",
       "    </tr>\n",
       "    <tr>\n",
       "      <th>160</th>\n",
       "      <td>0.125000</td>\n",
       "      <td>0.375000</td>\n",
       "      <td>0.062500</td>\n",
       "      <td>0.000000</td>\n",
       "      <td>0.250000</td>\n",
       "      <td>0.187500</td>\n",
       "      <td>0.750000</td>\n",
       "      <td>0.125000</td>\n",
       "      <td>0.375000</td>\n",
       "      <td>0.500000</td>\n",
       "      <td>...</td>\n",
       "      <td>90.0</td>\n",
       "      <td>0.000000</td>\n",
       "      <td>5.153090</td>\n",
       "      <td>polystyrene</td>\n",
       "      <td>0</td>\n",
       "      <td>1</td>\n",
       "      <td>0.000000</td>\n",
       "      <td>4.808697</td>\n",
       "      <td>0.344393</td>\n",
       "      <td>True</td>\n",
       "    </tr>\n",
       "  </tbody>\n",
       "</table>\n",
       "<p>348 rows × 228 columns</p>\n",
       "</div>"
      ],
      "text/plain": [
       "      afp_C4_C4_C4  afp_C4_C4_H1  afp_H1_C4_H1   bfp_267   bfp_282   bfp_289  \\\n",
       "1544      0.000000      0.000000      0.000000  0.000000  0.000000  0.000000   \n",
       "261       0.266667      0.466667      0.466667  0.533333  0.000000  0.200000   \n",
       "1165      0.149429      0.448286      0.074714  0.000000  0.298857  0.224143   \n",
       "1089      0.134643      0.403929      0.067321  0.000000  0.269286  0.201964   \n",
       "194       0.125000      0.375000      0.062500  0.000000  0.250000  0.187500   \n",
       "...            ...           ...           ...       ...       ...       ...   \n",
       "1100      0.181571      0.544714      0.090786  0.000000  0.363143  0.272357   \n",
       "875       0.151515      0.484848      0.181818  0.000000  0.000000  0.545455   \n",
       "183       0.333333      0.666667      0.166667  0.000000  0.000000  0.500000   \n",
       "1329      0.273810      0.821429      0.161905  0.033333  0.547619  0.410714   \n",
       "160       0.125000      0.375000      0.062500  0.000000  0.250000  0.187500   \n",
       "\n",
       "       bfp_304   bfp_315   bfp_334   bfp_349  ...  Temperature  Shear_Rate  \\\n",
       "1544  0.000000  0.000000  0.493218  0.570096  ...        260.0  935.307371   \n",
       "261   1.400000  0.000000  0.533333  0.533333  ...        220.0   89.526571   \n",
       "1165  0.896571  0.149429  0.448286  0.489143  ...        200.0    0.097696   \n",
       "1089  0.807857  0.134643  0.403929  0.495714  ...        170.0    0.000000   \n",
       "194   0.750000  0.125000  0.375000  0.500000  ...        200.0  548.441658   \n",
       "...        ...       ...       ...       ...  ...          ...         ...   \n",
       "1100  1.089429  0.181571  0.544714  0.474857  ...        200.0    0.390965   \n",
       "875   0.636364  0.000000  0.545455  0.363636  ...        205.0    0.000000   \n",
       "183   1.000000  0.000000  0.666667  0.333333  ...        210.0    0.000000   \n",
       "1329  1.642857  0.273810  0.821429  0.435714  ...        220.0   38.940893   \n",
       "160   0.750000  0.125000  0.375000  0.500000  ...         90.0    0.000000   \n",
       "\n",
       "      Melt_Viscosity                                            Polymer  \\\n",
       "1544        2.139073                        Poly(hexano-6-lactam), PPTA   \n",
       "261         4.423077                          poly(methyl methacrylate)   \n",
       "1165        4.552494                     polystyrene, polyacrylonitrile   \n",
       "1089        3.214844                     polystyrene, polyacrylonitrile   \n",
       "194         2.209302                                        polystyrene   \n",
       "...              ...                                                ...   \n",
       "1100        5.426735                     polystyrene, polyacrylonitrile   \n",
       "875         3.399674  poly[(2,2,3,3,4,4-hexafluoropentane-1,5-diol)-...   \n",
       "183         5.000000                          poly(vinylidene fluoride)   \n",
       "1329        3.532110           polyacrylonitrile, Poly(methyl acrylate)   \n",
       "160         5.153090                                        polystyrene   \n",
       "\n",
       "      SHEAR  ZERO_SHEAR  log_Shear_Rate    Y_pred     Error  BAD_PRED  \n",
       "1544      1           0        2.970954  2.845784  0.706711      True  \n",
       "261       1           0        1.951952  3.929518  0.493559      True  \n",
       "1165      1           0       -1.010123  4.170946  0.381547      True  \n",
       "1089      0           1        0.000000  3.880512  0.665668      True  \n",
       "194       1           0        2.739130  2.872448  0.663145      True  \n",
       "...     ...         ...             ...       ...       ...       ...  \n",
       "1100      1           0       -0.407862  4.978222  0.448514      True  \n",
       "875       0           1        0.000000  3.810134  0.410461      True  \n",
       "183       0           1        0.000000  5.585200  0.585200      True  \n",
       "1329      1           0        1.590406  4.012979  0.480869      True  \n",
       "160       0           1        0.000000  4.808697  0.344393      True  \n",
       "\n",
       "[348 rows x 228 columns]"
      ]
     },
     "execution_count": 67,
     "metadata": {},
     "output_type": "execute_result"
    }
   ],
   "source": [
    "train_df, test_df = evaluate_model(test_pred, train_pred , filtered_data, (train_ind, test_ind))\n",
    "train_df[train_df['BAD_PRED'] == True]"
   ]
  },
  {
   "cell_type": "code",
   "execution_count": 31,
   "id": "9eaeee20-ea1f-48c0-822f-23ae5b58bf03",
   "metadata": {},
   "outputs": [
    {
     "name": "stdout",
     "output_type": "stream",
     "text": [
      "Trial 30 Complete [00h 00m 06s]\n",
      "val_loss: 1.279147982597351\n",
      "\n",
      "Best val_loss So Far: 1.166451096534729\n",
      "Total elapsed time: 00h 01m 17s\n",
      "INFO:tensorflow:Oracle triggered exit\n"
     ]
    }
   ],
   "source": [
    "tuner = kt.Hyperband(create_ViscNN_concat_HP, objective='val_loss',\n",
    "                     max_epochs=20,\n",
    "                     factor=3, project_name = 'create_ViscNN_concat2')\n",
    "\n",
    "tuner.search([XX, M, S, T], yy,\n",
    "             validation_data= ([X_test, M_test, S_test, T_test], y_test),\n",
    "             epochs=20,\n",
    "             batch_size = 16,\n",
    "             callbacks=[tf.keras.callbacks.EarlyStopping(patience=3)])"
   ]
  },
  {
   "cell_type": "code",
   "execution_count": 32,
   "id": "0ca84c4f-2787-4cfb-94e4-267597521fd6",
   "metadata": {},
   "outputs": [
    {
     "data": {
      "text/plain": [
       "{'layer_1': 180,\n",
       " 'layer_2': 150,\n",
       " 'dropout_1': 0.1,\n",
       " 'dropout_2': 0.0,\n",
       " 'tuner/epochs': 20,\n",
       " 'tuner/initial_epoch': 7,\n",
       " 'tuner/bracket': 1,\n",
       " 'tuner/round': 1,\n",
       " 'tuner/trial_id': '8a713566262e5d11cd6877265c9d63a2'}"
      ]
     },
     "execution_count": 32,
     "metadata": {},
     "output_type": "execute_result"
    }
   ],
   "source": [
    "tuner.get_best_hyperparameters(num_trials = 1)[0].values\n"
   ]
  },
  {
   "cell_type": "code",
   "execution_count": 420,
   "id": "a3e2073c-917a-439f-ade0-26092dba7734",
   "metadata": {},
   "outputs": [],
   "source": [
    "k_layer = keras.Model(inputs=m_P.input,\n",
    "                                       outputs=m_P.get_layer('log_k_1').output)\n",
    "tau_layer = keras.Model(inputs=m_P.input,\n",
    "                                       outputs=m_P.get_layer('tau').output)\n",
    "alpha_layer = params_layer = keras.Model(inputs=m_P.input,\n",
    "                                       outputs=m_P.get_layer('alpha').output)\n",
    "n_layer = params_layer = keras.Model(inputs=m_P.input,\n",
    "                                       outputs=m_P.get_layer('n').output)\n",
    "crit_shear_layer = params_layer = keras.Model(inputs=m_P.input,\n",
    "                                       outputs=m_P.get_layer('crit_shear').output)\n",
    "layer_name2 = 'zero_shear_visc'\n",
    "z_shear_layer = keras.Model(inputs=m_P.input,\n",
    "                                       outputs=m_P.get_layer(layer_name2).output)"
   ]
  },
  {
   "cell_type": "code",
   "execution_count": 101,
   "id": "ce810693-74bf-49f5-bc71-84743fda9398",
   "metadata": {
    "tags": []
   },
   "outputs": [
    {
     "name": "stdout",
     "output_type": "stream",
     "text": [
      "  SAMPLE_ID      Polymer   SMILES  Temperature          Mcr    Log_K1  \\\n",
      "2         6  Linear HDPE  [*]C[*]        150.0  3656.398809 -3.904875   \n",
      "\n",
      "     Log_K2     Alpha  afp_C4_C4_C4  afp_C4_C4_H1  ...  bfp_244  bfp_290  \\\n",
      "2 -13.40241  3.665561      0.333333      1.333333  ...        0        0   \n",
      "\n",
      "   bfp_456  bfp_46  bfp_47  bfp_55  bfp_79  bfp_210  bfp_482  Shear_Rate  \n",
      "2        0       0       0       0       0        0        0           0  \n",
      "\n",
      "[1 rows x 226 columns]\n"
     ]
    }
   ],
   "source": [
    "#PL_data.head(10)\n",
    "extrap_tests = Mw_test(PL_data.copy(), samps = [0,1,2,3,4,5,6,7,8,9,10,11,12, 13, 14, 15])"
   ]
  },
  {
   "cell_type": "code",
   "execution_count": 118,
   "id": "30e9ce47-1559-4ae2-9796-ef46c722b3c1",
   "metadata": {},
   "outputs": [
    {
     "name": "stdout",
     "output_type": "stream",
     "text": [
      "       logMw  Temperature  Shear_Rate      Polymer  afp_C4_C4_C4  \\\n",
      "0   2.000000        160.0           0  polystyrene         0.125   \n",
      "1   2.102564        160.0           0  polystyrene         0.125   \n",
      "2   2.205128        160.0           0  polystyrene         0.125   \n",
      "3   2.307692        160.0           0  polystyrene         0.125   \n",
      "4   2.410256        160.0           0  polystyrene         0.125   \n",
      "5   2.512821        160.0           0  polystyrene         0.125   \n",
      "6   2.615385        160.0           0  polystyrene         0.125   \n",
      "7   2.717949        160.0           0  polystyrene         0.125   \n",
      "8   2.820513        160.0           0  polystyrene         0.125   \n",
      "9   2.923077        160.0           0  polystyrene         0.125   \n",
      "10  3.025641        160.0           0  polystyrene         0.125   \n",
      "11  3.128205        160.0           0  polystyrene         0.125   \n",
      "12  3.230769        160.0           0  polystyrene         0.125   \n",
      "13  3.333333        160.0           0  polystyrene         0.125   \n",
      "14  3.435897        160.0           0  polystyrene         0.125   \n",
      "15  3.538462        160.0           0  polystyrene         0.125   \n",
      "16  3.641026        160.0           0  polystyrene         0.125   \n",
      "17  3.743590        160.0           0  polystyrene         0.125   \n",
      "18  3.846154        160.0           0  polystyrene         0.125   \n",
      "19  3.948718        160.0           0  polystyrene         0.125   \n",
      "20  4.051282        160.0           0  polystyrene         0.125   \n",
      "21  4.153846        160.0           0  polystyrene         0.125   \n",
      "22  4.256410        160.0           0  polystyrene         0.125   \n",
      "23  4.358974        160.0           0  polystyrene         0.125   \n",
      "24  4.461538        160.0           0  polystyrene         0.125   \n",
      "25  4.564103        160.0           0  polystyrene         0.125   \n",
      "26  4.666667        160.0           0  polystyrene         0.125   \n",
      "27  4.769231        160.0           0  polystyrene         0.125   \n",
      "28  4.871795        160.0           0  polystyrene         0.125   \n",
      "29  4.974359        160.0           0  polystyrene         0.125   \n",
      "30  5.076923        160.0           0  polystyrene         0.125   \n",
      "31  5.179487        160.0           0  polystyrene         0.125   \n",
      "32  5.282051        160.0           0  polystyrene         0.125   \n",
      "33  5.384615        160.0           0  polystyrene         0.125   \n",
      "34  5.487179        160.0           0  polystyrene         0.125   \n",
      "35  5.589744        160.0           0  polystyrene         0.125   \n",
      "36  5.692308        160.0           0  polystyrene         0.125   \n",
      "37  5.794872        160.0           0  polystyrene         0.125   \n",
      "38  5.897436        160.0           0  polystyrene         0.125   \n",
      "39  6.000000        160.0           0  polystyrene         0.125   \n",
      "\n",
      "    afp_C4_C4_H1  afp_H1_C4_H1  bfp_267  bfp_282  bfp_289  ...  bfp_46  \\\n",
      "0          0.375        0.0625      0.0     0.25   0.1875  ...     0.0   \n",
      "1          0.375        0.0625      0.0     0.25   0.1875  ...     0.0   \n",
      "2          0.375        0.0625      0.0     0.25   0.1875  ...     0.0   \n",
      "3          0.375        0.0625      0.0     0.25   0.1875  ...     0.0   \n",
      "4          0.375        0.0625      0.0     0.25   0.1875  ...     0.0   \n",
      "5          0.375        0.0625      0.0     0.25   0.1875  ...     0.0   \n",
      "6          0.375        0.0625      0.0     0.25   0.1875  ...     0.0   \n",
      "7          0.375        0.0625      0.0     0.25   0.1875  ...     0.0   \n",
      "8          0.375        0.0625      0.0     0.25   0.1875  ...     0.0   \n",
      "9          0.375        0.0625      0.0     0.25   0.1875  ...     0.0   \n",
      "10         0.375        0.0625      0.0     0.25   0.1875  ...     0.0   \n",
      "11         0.375        0.0625      0.0     0.25   0.1875  ...     0.0   \n",
      "12         0.375        0.0625      0.0     0.25   0.1875  ...     0.0   \n",
      "13         0.375        0.0625      0.0     0.25   0.1875  ...     0.0   \n",
      "14         0.375        0.0625      0.0     0.25   0.1875  ...     0.0   \n",
      "15         0.375        0.0625      0.0     0.25   0.1875  ...     0.0   \n",
      "16         0.375        0.0625      0.0     0.25   0.1875  ...     0.0   \n",
      "17         0.375        0.0625      0.0     0.25   0.1875  ...     0.0   \n",
      "18         0.375        0.0625      0.0     0.25   0.1875  ...     0.0   \n",
      "19         0.375        0.0625      0.0     0.25   0.1875  ...     0.0   \n",
      "20         0.375        0.0625      0.0     0.25   0.1875  ...     0.0   \n",
      "21         0.375        0.0625      0.0     0.25   0.1875  ...     0.0   \n",
      "22         0.375        0.0625      0.0     0.25   0.1875  ...     0.0   \n",
      "23         0.375        0.0625      0.0     0.25   0.1875  ...     0.0   \n",
      "24         0.375        0.0625      0.0     0.25   0.1875  ...     0.0   \n",
      "25         0.375        0.0625      0.0     0.25   0.1875  ...     0.0   \n",
      "26         0.375        0.0625      0.0     0.25   0.1875  ...     0.0   \n",
      "27         0.375        0.0625      0.0     0.25   0.1875  ...     0.0   \n",
      "28         0.375        0.0625      0.0     0.25   0.1875  ...     0.0   \n",
      "29         0.375        0.0625      0.0     0.25   0.1875  ...     0.0   \n",
      "30         0.375        0.0625      0.0     0.25   0.1875  ...     0.0   \n",
      "31         0.375        0.0625      0.0     0.25   0.1875  ...     0.0   \n",
      "32         0.375        0.0625      0.0     0.25   0.1875  ...     0.0   \n",
      "33         0.375        0.0625      0.0     0.25   0.1875  ...     0.0   \n",
      "34         0.375        0.0625      0.0     0.25   0.1875  ...     0.0   \n",
      "35         0.375        0.0625      0.0     0.25   0.1875  ...     0.0   \n",
      "36         0.375        0.0625      0.0     0.25   0.1875  ...     0.0   \n",
      "37         0.375        0.0625      0.0     0.25   0.1875  ...     0.0   \n",
      "38         0.375        0.0625      0.0     0.25   0.1875  ...     0.0   \n",
      "39         0.375        0.0625      0.0     0.25   0.1875  ...     0.0   \n",
      "\n",
      "    bfp_47  bfp_55  bfp_79  bfp_210  bfp_482              SMILES  SHEAR  \\\n",
      "0      0.0     0.0     0.0      0.0      0.0  [*]CC([*])c1ccccc1      0   \n",
      "1      0.0     0.0     0.0      0.0      0.0  [*]CC([*])c1ccccc1      0   \n",
      "2      0.0     0.0     0.0      0.0      0.0  [*]CC([*])c1ccccc1      0   \n",
      "3      0.0     0.0     0.0      0.0      0.0  [*]CC([*])c1ccccc1      0   \n",
      "4      0.0     0.0     0.0      0.0      0.0  [*]CC([*])c1ccccc1      0   \n",
      "5      0.0     0.0     0.0      0.0      0.0  [*]CC([*])c1ccccc1      0   \n",
      "6      0.0     0.0     0.0      0.0      0.0  [*]CC([*])c1ccccc1      0   \n",
      "7      0.0     0.0     0.0      0.0      0.0  [*]CC([*])c1ccccc1      0   \n",
      "8      0.0     0.0     0.0      0.0      0.0  [*]CC([*])c1ccccc1      0   \n",
      "9      0.0     0.0     0.0      0.0      0.0  [*]CC([*])c1ccccc1      0   \n",
      "10     0.0     0.0     0.0      0.0      0.0  [*]CC([*])c1ccccc1      0   \n",
      "11     0.0     0.0     0.0      0.0      0.0  [*]CC([*])c1ccccc1      0   \n",
      "12     0.0     0.0     0.0      0.0      0.0  [*]CC([*])c1ccccc1      0   \n",
      "13     0.0     0.0     0.0      0.0      0.0  [*]CC([*])c1ccccc1      0   \n",
      "14     0.0     0.0     0.0      0.0      0.0  [*]CC([*])c1ccccc1      0   \n",
      "15     0.0     0.0     0.0      0.0      0.0  [*]CC([*])c1ccccc1      0   \n",
      "16     0.0     0.0     0.0      0.0      0.0  [*]CC([*])c1ccccc1      0   \n",
      "17     0.0     0.0     0.0      0.0      0.0  [*]CC([*])c1ccccc1      0   \n",
      "18     0.0     0.0     0.0      0.0      0.0  [*]CC([*])c1ccccc1      0   \n",
      "19     0.0     0.0     0.0      0.0      0.0  [*]CC([*])c1ccccc1      0   \n",
      "20     0.0     0.0     0.0      0.0      0.0  [*]CC([*])c1ccccc1      0   \n",
      "21     0.0     0.0     0.0      0.0      0.0  [*]CC([*])c1ccccc1      0   \n",
      "22     0.0     0.0     0.0      0.0      0.0  [*]CC([*])c1ccccc1      0   \n",
      "23     0.0     0.0     0.0      0.0      0.0  [*]CC([*])c1ccccc1      0   \n",
      "24     0.0     0.0     0.0      0.0      0.0  [*]CC([*])c1ccccc1      0   \n",
      "25     0.0     0.0     0.0      0.0      0.0  [*]CC([*])c1ccccc1      0   \n",
      "26     0.0     0.0     0.0      0.0      0.0  [*]CC([*])c1ccccc1      0   \n",
      "27     0.0     0.0     0.0      0.0      0.0  [*]CC([*])c1ccccc1      0   \n",
      "28     0.0     0.0     0.0      0.0      0.0  [*]CC([*])c1ccccc1      0   \n",
      "29     0.0     0.0     0.0      0.0      0.0  [*]CC([*])c1ccccc1      0   \n",
      "30     0.0     0.0     0.0      0.0      0.0  [*]CC([*])c1ccccc1      0   \n",
      "31     0.0     0.0     0.0      0.0      0.0  [*]CC([*])c1ccccc1      0   \n",
      "32     0.0     0.0     0.0      0.0      0.0  [*]CC([*])c1ccccc1      0   \n",
      "33     0.0     0.0     0.0      0.0      0.0  [*]CC([*])c1ccccc1      0   \n",
      "34     0.0     0.0     0.0      0.0      0.0  [*]CC([*])c1ccccc1      0   \n",
      "35     0.0     0.0     0.0      0.0      0.0  [*]CC([*])c1ccccc1      0   \n",
      "36     0.0     0.0     0.0      0.0      0.0  [*]CC([*])c1ccccc1      0   \n",
      "37     0.0     0.0     0.0      0.0      0.0  [*]CC([*])c1ccccc1      0   \n",
      "38     0.0     0.0     0.0      0.0      0.0  [*]CC([*])c1ccccc1      0   \n",
      "39     0.0     0.0     0.0      0.0      0.0  [*]CC([*])c1ccccc1      0   \n",
      "\n",
      "    ZERO_SHEAR  Melt_Viscosity  \n",
      "0            1       -3.015754  \n",
      "1            1       -2.742447  \n",
      "2            1       -2.469140  \n",
      "3            1       -2.195833  \n",
      "4            1       -1.922526  \n",
      "5            1       -1.649219  \n",
      "6            1       -1.375912  \n",
      "7            1       -1.102605  \n",
      "8            1       -0.829298  \n",
      "9            1       -0.555991  \n",
      "10           1       -0.282684  \n",
      "11           1       -0.009377  \n",
      "12           1        0.263930  \n",
      "13           1        0.537237  \n",
      "14           1        0.810544  \n",
      "15           1        1.083851  \n",
      "16           1        1.357158  \n",
      "17           1        1.630465  \n",
      "18           1        1.903772  \n",
      "19           1        2.177079  \n",
      "20           1        2.450386  \n",
      "21           1        2.723693  \n",
      "22           1        2.997000  \n",
      "23           1        3.270306  \n",
      "24           1        3.543613  \n",
      "25           1        3.816920  \n",
      "26           1        4.090227  \n",
      "27           1        4.363534  \n",
      "28           1        4.636841  \n",
      "29           1        4.910148  \n",
      "30           1        5.183455  \n",
      "31           1        5.456762  \n",
      "32           1        5.730069  \n",
      "33           1        6.003376  \n",
      "34           1        6.276683  \n",
      "35           1        6.549990  \n",
      "36           1        6.823297  \n",
      "37           1        7.096604  \n",
      "38           1        7.369911  \n",
      "39           1        7.643218  \n",
      "\n",
      "[40 rows x 225 columns]\n"
     ]
    },
    {
     "name": "stderr",
     "output_type": "stream",
     "text": [
      "C:\\Users\\ayush\\Documents\\Melt_Viscosity\\lib\\site-packages\\sklearn\\base.py:434: UserWarning: X has feature names, but MinMaxScaler was fitted without feature names\n",
      "  warnings.warn(\n"
     ]
    }
   ],
   "source": [
    "samp_num = 8\n",
    "XX_ex, OH, M_ex_og,S_ex_og,T_ex,y_ex = extrap_tests[samp_num]['data_in']\n",
    "print(extrap_tests[samp_num]['tests'])\n",
    "Mw_ex = extrap_samps[samp_num][0]\n",
    "log_visc_ex = extrap_samps[samp_num][1]\n",
    "#XX_OH_ex = scaler.transform(np.concatenate((pca.transform(XX_ex), OH), axis = 1))\n",
    "XX_ex = scaler.transform((pca.transform(XX_ex))) if do_pca else scaler.transform((XX_ex))\n",
    "M_ex = M_scaler.transform(M_ex_og)\n",
    "S_ex = S_scaler.transform((S_ex_og)) #(S_trans.transform\n",
    "T_ex = T_scaler.transform(T_ex)"
   ]
  },
  {
   "cell_type": "code",
   "execution_count": 119,
   "id": "6ec37c4a-e771-45d4-8bf9-515c05f68b41",
   "metadata": {},
   "outputs": [
    {
     "data": {
      "text/plain": [
       "Text(0.5, 1.0, 'GPR Extrapolation')"
      ]
     },
     "execution_count": 119,
     "metadata": {},
     "output_type": "execute_result"
    },
    {
     "data": {
      "image/png": "[encoded data removed]",
      "text/plain": [
       "<Figure size 432x288 with 1 Axes>"
      ]
     },
     "metadata": {
      "needs_background": "light"
     },
     "output_type": "display_data"
    }
   ],
   "source": [
    "test_pred, var = gpr_model.predict_y(np.concatenate((XX_ex, M_ex, S_ex, T_ex), axis = 1))\n",
    "plt.figure()\n",
    "plt.xlabel('Log Mw (g/mol)')\n",
    "plt.ylabel('Log Eta (Poise)')\n",
    "plt.scatter(Mw_ex, log_visc_ex, c = 'orange')\n",
    "#plt.scatter(M_scaler.inverse_transform(M_ex), test_pred)\n",
    "plt.errorbar(M_scaler.inverse_transform(M_ex), test_pred, [i[0] for i in np.array(var).tolist()], fmt = '-')\n",
    "plt.legend(['Experimental','Predicted'])\n",
    "plt.title('GPR Extrapolation')"
   ]
  },
  {
   "cell_type": "code",
   "execution_count": 114,
   "id": "2a67d05b-183f-45db-93bb-bc23b7a13f70",
   "metadata": {},
   "outputs": [
    {
     "ename": "IndexError",
     "evalue": "list index out of range",
     "output_type": "error",
     "traceback": [
      "\u001b[1;31m---------------------------------------------------------------------------\u001b[0m",
      "\u001b[1;31mIndexError\u001b[0m                                Traceback (most recent call last)",
      "\u001b[1;32m~\\AppData\\Local\\Temp/ipykernel_8872/656673142.py\u001b[0m in \u001b[0;36m<module>\u001b[1;34m\u001b[0m\n\u001b[0;32m      1\u001b[0m \u001b[1;31m#test_pred = m_NP.predict([XX_ex, M_ex, S_ex, T_ex, gr_Mcr_ex])\u001b[0m\u001b[1;33m\u001b[0m\u001b[1;33m\u001b[0m\u001b[1;33m\u001b[0m\u001b[0m\n\u001b[1;32m----> 2\u001b[1;33m \u001b[0mtest_pred\u001b[0m\u001b[1;33m,\u001b[0m \u001b[0mtest_var\u001b[0m \u001b[1;33m=\u001b[0m \u001b[0mpredict_all_cv\u001b[0m\u001b[1;33m(\u001b[0m\u001b[0mmodels\u001b[0m\u001b[1;33m[\u001b[0m\u001b[1;36m1\u001b[0m\u001b[1;33m]\u001b[0m\u001b[1;33m,\u001b[0m\u001b[1;33m[\u001b[0m\u001b[0mXX_ex\u001b[0m\u001b[1;33m,\u001b[0m \u001b[0mM_ex\u001b[0m\u001b[1;33m,\u001b[0m \u001b[0mS_ex\u001b[0m\u001b[1;33m,\u001b[0m \u001b[0mT_ex\u001b[0m\u001b[1;33m,\u001b[0m \u001b[0mgr_Mcr_ex\u001b[0m\u001b[1;33m]\u001b[0m\u001b[1;33m)\u001b[0m\u001b[1;33m\u001b[0m\u001b[1;33m\u001b[0m\u001b[0m\n\u001b[0m\u001b[0;32m      3\u001b[0m \u001b[1;33m\u001b[0m\u001b[0m\n\u001b[0;32m      4\u001b[0m \u001b[0mplt\u001b[0m\u001b[1;33m.\u001b[0m\u001b[0mfigure\u001b[0m\u001b[1;33m(\u001b[0m\u001b[1;33m)\u001b[0m\u001b[1;33m\u001b[0m\u001b[1;33m\u001b[0m\u001b[0m\n\u001b[0;32m      5\u001b[0m \u001b[0mplt\u001b[0m\u001b[1;33m.\u001b[0m\u001b[0mtitle\u001b[0m\u001b[1;33m(\u001b[0m\u001b[1;34m'Non-Physics NN Extrapolation'\u001b[0m\u001b[1;33m)\u001b[0m\u001b[1;33m\u001b[0m\u001b[1;33m\u001b[0m\u001b[0m\n",
      "\u001b[1;31mIndexError\u001b[0m: list index out of range"
     ]
    }
   ],
   "source": [
    "#test_pred = m_NP.predict([XX_ex, M_ex, S_ex, T_ex, gr_Mcr_ex])\n",
    "test_pred, test_var = predict_all_cv(models[1],[XX_ex, M_ex, S_ex, T_ex, gr_Mcr_ex])\n",
    "\n",
    "plt.figure()\n",
    "plt.title('Non-Physics NN Extrapolation')\n",
    "plt.xlabel('Log Mw (g/mol)')\n",
    "plt.ylabel('Log Eta (Poise)')\n",
    "plt.scatter(Mw_ex, log_visc_ex, c = 'orange')\n",
    "#plt.plot(M_scaler.inverse_transform(M_ex), test_pred)\n",
    "plt.errorbar(M_scaler.inverse_transform(M_ex),test_pred, yerr= test_var)\n",
    "plt.legend(['Experimental','Predicted'])"
   ]
  },
  {
   "cell_type": "code",
   "execution_count": 120,
   "id": "240c8be1-c541-4a35-a6b9-5462c01308a1",
   "metadata": {},
   "outputs": [
    {
     "ename": "NameError",
     "evalue": "name 'k_layer' is not defined",
     "output_type": "error",
     "traceback": [
      "\u001b[1;31m---------------------------------------------------------------------------\u001b[0m",
      "\u001b[1;31mNameError\u001b[0m                                 Traceback (most recent call last)",
      "\u001b[1;32m~\\AppData\\Local\\Temp/ipykernel_8872/1958521125.py\u001b[0m in \u001b[0;36m<module>\u001b[1;34m\u001b[0m\n\u001b[0;32m     10\u001b[0m \u001b[0mplt\u001b[0m\u001b[1;33m.\u001b[0m\u001b[0mlegend\u001b[0m\u001b[1;33m(\u001b[0m\u001b[1;33m[\u001b[0m\u001b[1;34m'Experimental'\u001b[0m\u001b[1;33m,\u001b[0m\u001b[1;34m'Predicted'\u001b[0m\u001b[1;33m]\u001b[0m\u001b[1;33m)\u001b[0m\u001b[1;33m\u001b[0m\u001b[1;33m\u001b[0m\u001b[0m\n\u001b[0;32m     11\u001b[0m \u001b[1;31m#plt.plot([4,6], [2.5, 2.5+(3.4*2)])\u001b[0m\u001b[1;33m\u001b[0m\u001b[1;33m\u001b[0m\u001b[1;33m\u001b[0m\u001b[0m\n\u001b[1;32m---> 12\u001b[1;33m \u001b[0mprint\u001b[0m\u001b[1;33m(\u001b[0m\u001b[0mk_layer\u001b[0m\u001b[1;33m(\u001b[0m\u001b[1;33m[\u001b[0m\u001b[0mXX_ex\u001b[0m\u001b[1;33m,\u001b[0m \u001b[0mM_ex\u001b[0m\u001b[1;33m,\u001b[0m \u001b[0mS_ex\u001b[0m\u001b[1;33m,\u001b[0m \u001b[0mT_ex\u001b[0m\u001b[1;33m,\u001b[0m \u001b[0mgr_Mcr_ex\u001b[0m\u001b[1;33m]\u001b[0m\u001b[1;33m)\u001b[0m\u001b[1;33m)\u001b[0m\u001b[1;33m\u001b[0m\u001b[1;33m\u001b[0m\u001b[0m\n\u001b[0m\u001b[0;32m     13\u001b[0m \u001b[0mprint\u001b[0m\u001b[1;33m(\u001b[0m\u001b[0mtau_layer\u001b[0m\u001b[1;33m(\u001b[0m\u001b[1;33m[\u001b[0m\u001b[0mXX_ex\u001b[0m\u001b[1;33m,\u001b[0m \u001b[0mM_ex\u001b[0m\u001b[1;33m,\u001b[0m \u001b[0mS_ex\u001b[0m\u001b[1;33m,\u001b[0m \u001b[0mT_ex\u001b[0m\u001b[1;33m,\u001b[0m \u001b[0mgr_Mcr_ex\u001b[0m\u001b[1;33m]\u001b[0m\u001b[1;33m)\u001b[0m\u001b[1;33m)\u001b[0m\u001b[1;33m\u001b[0m\u001b[1;33m\u001b[0m\u001b[0m\n\u001b[0;32m     14\u001b[0m \u001b[0mprint\u001b[0m\u001b[1;33m(\u001b[0m\u001b[0malpha_layer\u001b[0m\u001b[1;33m(\u001b[0m\u001b[1;33m[\u001b[0m\u001b[0mXX_ex\u001b[0m\u001b[1;33m,\u001b[0m \u001b[0mM_ex\u001b[0m\u001b[1;33m,\u001b[0m \u001b[0mS_ex\u001b[0m\u001b[1;33m,\u001b[0m \u001b[0mT_ex\u001b[0m\u001b[1;33m,\u001b[0m \u001b[0mgr_Mcr_ex\u001b[0m\u001b[1;33m]\u001b[0m\u001b[1;33m)\u001b[0m\u001b[1;33m)\u001b[0m\u001b[1;33m\u001b[0m\u001b[1;33m\u001b[0m\u001b[0m\n",
      "\u001b[1;31mNameError\u001b[0m: name 'k_layer' is not defined"
     ]
    },
    {
     "data": {
      "image/png": "[encoded data removed]",
      "text/plain": [
       "<Figure size 432x288 with 1 Axes>"
      ]
     },
     "metadata": {
      "needs_background": "light"
     },
     "output_type": "display_data"
    }
   ],
   "source": [
    "#test_pred = m_P.predict([XX_ex, M_ex, S_ex, T_ex, gr_Mcr_ex])\n",
    "test_pred, test_var = predict_all_cv(models[0],[XX_ex, M_ex, S_ex, T_ex])\n",
    "plt.figure()\n",
    "plt.title('Physics Extrapolation')\n",
    "plt.xlabel('Log Mw (g/mol)')\n",
    "plt.ylabel('Log Eta (Poise)')\n",
    "plt.errorbar(M_scaler.inverse_transform(M_ex),test_pred, yerr= test_var)\n",
    "plt.scatter(Mw_ex, log_visc_ex, c = 'orange')\n",
    "#plt.plot(M_scaler.inverse_transform(M_ex), test_pred)\n",
    "plt.legend(['Experimental','Predicted'])\n",
    "#plt.plot([4,6], [2.5, 2.5+(3.4*2)])\n",
    "print(k_layer([XX_ex, M_ex, S_ex, T_ex, gr_Mcr_ex]))\n",
    "print(tau_layer([XX_ex, M_ex, S_ex, T_ex, gr_Mcr_ex]))\n",
    "print(alpha_layer([XX_ex, M_ex, S_ex, T_ex, gr_Mcr_ex]))\n",
    "print(n_layer([XX_ex, M_ex, S_ex, T_ex, gr_Mcr_ex]))"
   ]
  },
  {
   "cell_type": "code",
   "execution_count": 389,
   "id": "6965f0d1-704d-4374-b762-29bfd5be8000",
   "metadata": {},
   "outputs": [
    {
     "data": {
      "text/plain": [
       "3156"
      ]
     },
     "execution_count": 389,
     "metadata": {},
     "output_type": "execute_result"
    }
   ],
   "source": [
    "len( shear_samps['SAMPLE_ID'].values)"
   ]
  },
  {
   "cell_type": "code",
   "execution_count": 135,
   "id": "0ae32091-b007-4237-831b-ccf56e6d2107",
   "metadata": {},
   "outputs": [
    {
     "name": "stdout",
     "output_type": "stream",
     "text": [
      "    SAMPLE_ID                    Polymer             SMILES  Temperature  \\\n",
      "0       269.0  poly(p-phenylene sulfide)  [*]Sc1ccc([*])cc1        300.0   \n",
      "1       269.0  poly(p-phenylene sulfide)  [*]Sc1ccc([*])cc1        300.0   \n",
      "2       269.0  poly(p-phenylene sulfide)  [*]Sc1ccc([*])cc1        300.0   \n",
      "3       269.0  poly(p-phenylene sulfide)  [*]Sc1ccc([*])cc1        300.0   \n",
      "4       269.0  poly(p-phenylene sulfide)  [*]Sc1ccc([*])cc1        300.0   \n",
      "5       269.0  poly(p-phenylene sulfide)  [*]Sc1ccc([*])cc1        300.0   \n",
      "6       269.0  poly(p-phenylene sulfide)  [*]Sc1ccc([*])cc1        300.0   \n",
      "7       269.0  poly(p-phenylene sulfide)  [*]Sc1ccc([*])cc1        300.0   \n",
      "8       269.0  poly(p-phenylene sulfide)  [*]Sc1ccc([*])cc1        300.0   \n",
      "9       269.0  poly(p-phenylene sulfide)  [*]Sc1ccc([*])cc1        300.0   \n",
      "10      269.0  poly(p-phenylene sulfide)  [*]Sc1ccc([*])cc1        300.0   \n",
      "11      269.0  poly(p-phenylene sulfide)  [*]Sc1ccc([*])cc1        300.0   \n",
      "\n",
      "         Mw  Shear_Rate  Melt_Viscosity  afp_C4_C4_C4  afp_C4_C4_H1  \\\n",
      "0   4.80618    0.000000        4.141631           0.0           0.0   \n",
      "1   4.80618    0.987634        4.137339           0.0           0.0   \n",
      "2   4.80618    1.742108        4.124464           0.0           0.0   \n",
      "3   4.80618    3.174230        4.115880           0.0           0.0   \n",
      "4   4.80618    8.960713        4.124464           0.0           0.0   \n",
      "5   4.80618   15.805981        4.094421           0.0           0.0   \n",
      "6   4.80618   26.990804        4.068670           0.0           0.0   \n",
      "7   4.80618   49.178945        4.085837           0.0           0.0   \n",
      "8   4.80618   86.747722        4.060086           0.0           0.0   \n",
      "9   4.80618  150.554832        4.034335           0.0           0.0   \n",
      "10  4.80618  261.295131        3.991416           0.0           0.0   \n",
      "11  4.80618  453.490233        3.939914           0.0           0.0   \n",
      "\n",
      "    afp_H1_C4_H1  ...  mfp_MQNs34  bfp_244  bfp_290  bfp_456  bfp_46  bfp_47  \\\n",
      "0            0.0  ...           0        0        0        0       0       0   \n",
      "1            0.0  ...           0        0        0        0       0       0   \n",
      "2            0.0  ...           0        0        0        0       0       0   \n",
      "3            0.0  ...           0        0        0        0       0       0   \n",
      "4            0.0  ...           0        0        0        0       0       0   \n",
      "5            0.0  ...           0        0        0        0       0       0   \n",
      "6            0.0  ...           0        0        0        0       0       0   \n",
      "7            0.0  ...           0        0        0        0       0       0   \n",
      "8            0.0  ...           0        0        0        0       0       0   \n",
      "9            0.0  ...           0        0        0        0       0       0   \n",
      "10           0.0  ...           0        0        0        0       0       0   \n",
      "11           0.0  ...           0        0        0        0       0       0   \n",
      "\n",
      "    bfp_55  bfp_79  bfp_210  bfp_482  \n",
      "0        0       0        0        0  \n",
      "1        0       0        0        0  \n",
      "2        0       0        0        0  \n",
      "3        0       0        0        0  \n",
      "4        0       0        0        0  \n",
      "5        0       0        0        0  \n",
      "6        0       0        0        0  \n",
      "7        0       0        0        0  \n",
      "8        0       0        0        0  \n",
      "9        0       0        0        0  \n",
      "10       0       0        0        0  \n",
      "11       0       0        0        0  \n",
      "\n",
      "[12 rows x 224 columns]\n"
     ]
    },
    {
     "name": "stderr",
     "output_type": "stream",
     "text": [
      "C:\\Users\\ayush\\github\\Melt_Viscosity_Predictor\\validation\\tests.py:369: RuntimeWarning: divide by zero encountered in log10\n",
      "  trial_shear = np.log10(np.array(trial['Shear_Rate'])).reshape(-1,1)\n",
      "C:\\Users\\ayush\\Documents\\Melt_Viscosity\\lib\\site-packages\\sklearn\\base.py:434: UserWarning: X has feature names, but MinMaxScaler was fitted without feature names\n",
      "  warnings.warn(\n"
     ]
    }
   ],
   "source": [
    "samp_num = shear_samps['SAMPLE_ID'].values[100]\n",
    "s_test = shear_test(shear_samps, samp_num);\n",
    "XX_ex, M_ex,S_ex,T_ex = s_test['data_in']\n",
    "shear_exp = s_test['known'][0]\n",
    "log_visc_exp = s_test['known'][1]\n",
    "#XX_OH_ex = scaler.transform(np.concatenate((pca.transform(XX_ex), OH), axis = 1))\n",
    "XX_ex = scaler.transform((pca.transform(XX_ex))) if do_pca else scaler.transform(((XX_ex)))\n",
    "M_ex = M_scaler.transform(M_ex)\n",
    "S_ex_trans = S_scaler.transform(S_trans.transform(S_ex))\n",
    "T_ex = T_scaler.transform(T_ex)\n",
    "temp_test = True"
   ]
  },
  {
   "cell_type": "code",
   "execution_count": 138,
   "id": "3dbd840c-a054-4990-977d-e918547c6cfe",
   "metadata": {},
   "outputs": [
    {
     "data": {
      "text/plain": [
       "<matplotlib.collections.PathCollection at 0x1eb8772ef70>"
      ]
     },
     "execution_count": 138,
     "metadata": {},
     "output_type": "execute_result"
    },
    {
     "data": {
      "image/png": "[encoded data removed]",
      "text/plain": [
       "<Figure size 432x288 with 1 Axes>"
      ]
     },
     "metadata": {
      "needs_background": "light"
     },
     "output_type": "display_data"
    },
    {
     "data": {
      "image/png": "[encoded data removed]",
      "text/plain": [
       "<Figure size 432x288 with 1 Axes>"
      ]
     },
     "metadata": {
      "needs_background": "light"
     },
     "output_type": "display_data"
    }
   ],
   "source": [
    "#test_pred = m_P.predict([XX_ex, M_ex, S_ex_trans, T_ex, gr_Mcr_ex])\n",
    "test_pred, test_var = predict_all_cv(models[0],[XX_ex, M_ex, S_ex_trans, T_ex])\n",
    "shear = [s[0] for s in np.log10(S_ex)]\n",
    "\n",
    "plt.figure()\n",
    "plt.errorbar(shear, test_pred, yerr= test_var)\n",
    "if temp_test:\n",
    "    for i in [1,3,5]:\n",
    "        test_pred, test_var = predict_all_cv(models[0],[XX_ex, M_ex, S_ex_trans, T_ex +T_scaler.transform([[10*i]])])\n",
    "        plt.errorbar(shear, test_pred, yerr= test_var)\n",
    "plt.xlabel('Log Shear Rate (1/s)')\n",
    "plt.ylabel('Log Eta (Poise)')\n",
    "plt.scatter(shear_exp, log_visc_exp, c = 'orange')\n",
    "#plt.plot(np.log10(S_ex[:-1]), test_pred[:-1])\n",
    "if temp_test:\n",
    "    plt.legend(['Experimental','Predicted'] + ['Predication at ' + str(T_scaler.inverse_transform(T_ex)[0] + 10*i) + 'C' for i in [1,3,5]])\n",
    "else:\n",
    "     plt.legend(['Experimental','Predicted'])\n",
    "plt.title('Physics NN Extrapolation')\n",
    "\n",
    "\n",
    "plt.figure()\n",
    "plt.scatter(shear_exp, log_visc_exp, c = 'orange')\n",
    "\n",
    "#print(params_layer([XX_ex, M_ex, S_ex_trans, T_ex]))\n",
    "#z_shear_layer([XX_ex, M_ex, S_ex_trans, T_ex])\n",
    "#print(crit_shear_layer([XX_ex, M_ex, S_ex_trans, T_ex, gr_Mcr_ex]))\n",
    "#print(tau_layer([XX_ex, M_ex, S_ex_trans, T_ex, gr_Mcr_ex]))\n",
    "#print(n_layer([XX_ex, M_ex, S_ex_trans, T_ex, gr_Mcr_ex]))\n",
    "#print(z_shear_layer([XX_ex, M_ex, S_ex_trans, T_ex, gr_Mcr_ex]))"
   ]
  },
  {
   "cell_type": "code",
   "execution_count": 510,
   "id": "c5dd38c8-d5ce-441e-b888-9516894f7ab2",
   "metadata": {},
   "outputs": [
    {
     "data": {
      "image/png": "[encoded data removed]",
      "text/plain": [
       "<Figure size 432x288 with 1 Axes>"
      ]
     },
     "metadata": {
      "needs_background": "light"
     },
     "output_type": "display_data"
    }
   ],
   "source": [
    "#test_pred = m_NP.predict([XX_ex, M_ex, S_ex_trans, T_ex, gr_Mcr_ex])\n",
    "test_pred, test_var = predict_all_cv(models[1], [XX_ex, M_ex, S_ex_trans, T_ex, gr_Mcr_ex])\n",
    "shear = [s[0] for s in np.log10(S_ex)]\n",
    "\n",
    "plt.figure()\n",
    "plt.errorbar(shear, test_pred, yerr= test_var)\n",
    "plt.title('Non-Physics NN Extrapolation')\n",
    "\n",
    "if temp_test:\n",
    "    for i in [1,3,5]:\n",
    "        test_pred, test_var = predict_all_cv(models[1],[XX_ex, M_ex, S_ex_trans, T_ex +T_scaler.transform([[10*i]]), gr_Mcr_ex])\n",
    "        plt.errorbar(shear, test_pred, yerr= test_var)\n",
    "plt.xlabel('Log Shear Rate')\n",
    "plt.ylabel('Log Eta')\n",
    "plt.scatter(shear_exp, log_visc_exp, c = 'orange')\n",
    "if temp_test:\n",
    "    plt.legend(['Experimental','Predicted'] + ['Prediction at ' + str(T_scaler.inverse_transform(T_ex)[0] + 10*i) + 'C' for i in [1,3,5]])\n",
    "else:\n",
    "    plt.legend(['Experimental','Predicted'])\n",
    "#plt.plot(np.log10(S_ex), test_pred)"
   ]
  },
  {
   "cell_type": "code",
   "execution_count": 483,
   "id": "69498009-1ee9-4bf3-a6fc-83f3314675d4",
   "metadata": {},
   "outputs": [
    {
     "name": "stdout",
     "output_type": "stream",
     "text": [
      "[17.807659242057355, 17.80765924205733, 17.807659242057277, 17.807659242057163, 17.807659242056914, 17.8076592420564, 17.807659242055394, 17.807659242053724, 17.80765924205186, 17.807659242051994, 17.807659242057575, 17.807659242069843, 17.80765924208618, 17.80765924210284, 17.807659242117435, 17.807659242129205, 17.807659242138296, 17.80765924214519, 17.80765924215038, 17.8076592421543, 17.807659242157285, 17.807659242159577, 17.807659242161353, 17.807659242162746, 17.807659242163847, 17.80765924216473, 17.807659242165435, 17.80765924216601, 17.807659242166483, 17.80765924216687]\n"
     ]
    },
    {
     "data": {
      "text/plain": [
       "<matplotlib.legend.Legend at 0x1fe09d50c70>"
      ]
     },
     "execution_count": 483,
     "metadata": {},
     "output_type": "execute_result"
    },
    {
     "data": {
      "image/png": "[encoded data removed]",
      "text/plain": [
       "<Figure size 432x288 with 1 Axes>"
      ]
     },
     "metadata": {
      "needs_background": "light"
     },
     "output_type": "display_data"
    }
   ],
   "source": [
    "test_pred, test_var = gpr_model.predict_y(np.concatenate((XX_ex, M_ex, S_ex_trans, T_ex), axis = 1))\n",
    "plt.figure()\n",
    "plt.errorbar(shear, test_pred, yerr= [i[0] for i in np.array(test_var).tolist()])\n",
    "plt.xlabel('Log Shear Rate')\n",
    "plt.ylabel('Log Eta')\n",
    "plt.scatter(shear_exp, log_visc_exp, c = 'orange')\n",
    "print([i[0] for i in np.array(test_var).tolist()])\n",
    "plt.legend(['Experimental','Predicted'])"
   ]
  },
  {
   "cell_type": "markdown",
   "id": "79ef21c3-5333-4993-a1db-203a72c02a36",
   "metadata": {},
   "source": []
  },
  {
   "cell_type": "code",
   "execution_count": 52,
   "id": "0028bfa8-2620-4f7f-a742-31fac610e9d0",
   "metadata": {},
   "outputs": [],
   "source": []
  },
  {
   "cell_type": "markdown",
   "id": "89a03490-3481-4605-9849-c30485e94d5e",
   "metadata": {},
   "source": [
    "START TRAINING GPR FOR Mcr"
   ]
  },
  {
   "cell_type": "code",
   "execution_count": 94,
   "id": "31469ac2-8c3a-41f8-8d2a-12cec55af212",
   "metadata": {},
   "outputs": [
    {
     "name": "stderr",
     "output_type": "stream",
     "text": [
      "C:\\Users\\ayush\\Documents\\Melt_Viscosity\\lib\\site-packages\\sklearn\\base.py:434: UserWarning: X has feature names, but MinMaxScaler was fitted without feature names\n",
      "  warnings.warn(\n"
     ]
    }
   ],
   "source": [
    "me_data = pd.read_excel('Data/EntanglementMW_fp.xlsx')\n",
    "fp = me_data[[c for c in me_data.columns if 'fp' in c]]\n",
    "fp[[c for c in OG_fp if c not in fp]] = 0\n",
    "fp = fp.drop(columns = [c for c in fp if c not in OG_fp])\n",
    "y = M_scaler.transform(np.log10(np.array(me_data['Me']*2)).reshape(-1,1))\n",
    "X_me = scaler.transform((pca.transform(fp[OG_fp]))) if do_pca else scaler.transform(((fp[OG_fp])))"
   ]
  },
  {
   "cell_type": "code",
   "execution_count": 95,
   "id": "5cbb11ef-3fd5-490f-86dd-aeeaf893e58a",
   "metadata": {},
   "outputs": [],
   "source": [
    "x_me, x_me_test, y_me, y_me_test = train_test_split(X_me, y, test_size = 0.1)"
   ]
  },
  {
   "cell_type": "code",
   "execution_count": 96,
   "id": "24219444-8d2f-43e3-a277-386f62a0c1f0",
   "metadata": {},
   "outputs": [],
   "source": [
    "gpr_Mcr = create_GPR(X_me, y)"
   ]
  },
  {
   "cell_type": "code",
   "execution_count": 99,
   "id": "2caa48a4-8cab-463a-8e4d-2ea2e9bf1f21",
   "metadata": {},
   "outputs": [
    {
     "data": {
      "text/plain": [
       "Text(0.5, 1.0, 'Mcr Prediction GPR - Parity Plot')"
      ]
     },
     "execution_count": 99,
     "metadata": {},
     "output_type": "execute_result"
    },
    {
     "data": {
      "image/png": "[encoded data removed]",
      "text/plain": [
       "<Figure size 432x288 with 1 Axes>"
      ]
     },
     "metadata": {
      "needs_background": "light"
     },
     "output_type": "display_data"
    }
   ],
   "source": [
    "mcr_pred, var = gpr_Mcr.predict_y(x_me_test)\n",
    "mcr_train_pred, var_train = gpr_Mcr.predict_y(x_me)\n",
    "plt.scatter(y_me_test, mcr_pred)\n",
    "plt.scatter(y_me, mcr_train_pred)\n",
    "plt.plot(np.linspace((min(y)[0]), (max(y)[0]), num = 2),np.linspace((min(y)[0]), (max(y)[0]), num = 2),'k-')\n",
    "plt.ylabel('Log Prediction')\n",
    "plt.xlabel('Log Truth')\n",
    "plt.legend(['Truth = Prediction','Train','Test'])\n",
    "plt.title('Mcr Prediction GPR - Parity Plot')"
   ]
  },
  {
   "cell_type": "code",
   "execution_count": 15,
   "id": "9c771719-ad0b-4ee4-9b01-acf9ff6d8c86",
   "metadata": {},
   "outputs": [
    {
     "data": {
      "text/plain": [
       "<tf.Tensor: shape=(4, 1), dtype=float64, numpy=\n",
       "array([[0.36688887],\n",
       "       [0.42476719],\n",
       "       [0.42645432],\n",
       "       [0.34991337]])>"
      ]
     },
     "execution_count": 15,
     "metadata": {},
     "output_type": "execute_result"
    }
   ],
   "source": [
    "tf.constant(mcr_pred)"
   ]
  },
  {
   "cell_type": "code",
   "execution_count": 16,
   "id": "8ea946e9-12ad-4975-b72d-ccfcb68cefb9",
   "metadata": {},
   "outputs": [],
   "source": [
    "gpr_Mcr.predict_f_compiled = tf.function(\n",
    "    gpr_Mcr.predict_f, input_signature=[tf.TensorSpec(shape=[None, 1], dtype=tf.float64)]\n",
    ")"
   ]
  },
  {
   "cell_type": "code",
   "execution_count": 17,
   "id": "c4e7e06f-9ff9-402f-93dc-944e6288a18a",
   "metadata": {},
   "outputs": [
    {
     "name": "stderr",
     "output_type": "stream",
     "text": [
      "WARNING:absl:Function `predict_f` contains input name(s) Xnew with unsupported characters which will be renamed to xnew in the SavedModel.\n"
     ]
    },
    {
     "name": "stdout",
     "output_type": "stream",
     "text": [
      "WARNING:tensorflow:From C:\\Users\\ayush\\Documents\\Melt_Viscosity\\lib\\site-packages\\tensorflow\\python\\training\\tracking\\tracking.py:102: Bijector.has_static_min_event_ndims (from tensorflow_probability.python.bijectors.bijector) is deprecated and will be removed after 2021-08-01.\n",
      "Instructions for updating:\n",
      "`min_event_ndims` is now static for all bijectors; this property is no longer needed.\n"
     ]
    },
    {
     "name": "stderr",
     "output_type": "stream",
     "text": [
      "WARNING:tensorflow:From C:\\Users\\ayush\\Documents\\Melt_Viscosity\\lib\\site-packages\\tensorflow\\python\\training\\tracking\\tracking.py:102: Bijector.has_static_min_event_ndims (from tensorflow_probability.python.bijectors.bijector) is deprecated and will be removed after 2021-08-01.\n",
      "Instructions for updating:\n",
      "`min_event_ndims` is now static for all bijectors; this property is no longer needed.\n"
     ]
    },
    {
     "name": "stdout",
     "output_type": "stream",
     "text": [
      "INFO:tensorflow:Assets written to: models\\assets\n"
     ]
    },
    {
     "name": "stderr",
     "output_type": "stream",
     "text": [
      "INFO:tensorflow:Assets written to: models\\assets\n"
     ]
    }
   ],
   "source": [
    "tf.saved_model.save(gpr_Mcr, 'models')"
   ]
  },
  {
   "cell_type": "code",
   "execution_count": 18,
   "id": "a5edc51b-3d58-4092-a15b-93543a005397",
   "metadata": {},
   "outputs": [
    {
     "name": "stderr",
     "output_type": "stream",
     "text": [
      "WARNING:absl:Importing a function (__inference_predict_f_1564) with ops with unsaved custom gradients. Will likely fail if a gradient is requested.\n"
     ]
    }
   ],
   "source": [
    "gpr = tf.saved_model.load('models')"
   ]
  },
  {
   "cell_type": "code",
   "execution_count": null,
   "id": "062e1e1c-44c5-4f51-9af3-02a67c0ea3d7",
   "metadata": {},
   "outputs": [],
   "source": [
    "gpr.predict_y(x_me)"
   ]
  },
  {
   "cell_type": "code",
   "execution_count": 37,
   "id": "579ec45b-21c7-4c55-8023-4f5591806791",
   "metadata": {},
   "outputs": [],
   "source": [
    "l = []\n",
    "for i in [0,1,2]:\n",
    "    l += [[i,i,i]]"
   ]
  },
  {
   "cell_type": "code",
   "execution_count": 40,
   "id": "fb1d9acd-c217-4702-a9f8-4d781210cee1",
   "metadata": {},
   "outputs": [
    {
     "data": {
      "text/plain": [
       "array([0., 0., 0.])"
      ]
     },
     "execution_count": 40,
     "metadata": {},
     "output_type": "execute_result"
    }
   ],
   "source": [
    "np.std(np.array(l), axis = 1)"
   ]
  },
  {
   "cell_type": "code",
   "execution_count": null,
   "id": "b9b8a675-b231-4229-a1f8-9d45a30c5421",
   "metadata": {},
   "outputs": [],
   "source": []
  }
 ],
 "metadata": {
  "kernelspec": {
   "display_name": "Python 3 (ipykernel)",
   "language": "python",
   "name": "python3"
  },
  "language_info": {
   "codemirror_mode": {
    "name": "ipython",
    "version": 3
   },
   "file_extension": ".py",
   "mimetype": "text/x-python",
   "name": "python",
   "nbconvert_exporter": "python",
   "pygments_lexer": "ipython3",
   "version": "3.8.7"
  }
 },
 "nbformat": 4,
 "nbformat_minor": 5
}
