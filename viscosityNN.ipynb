{
 "cells": [
  {
   "cell_type": "code",
   "execution_count": 1,
   "id": "6f985a3d-7d4a-436c-8173-68bf5e13bff5",
   "metadata": {},
   "outputs": [],
   "source": [
    "%load_ext autoreload\n",
    "\n",
    "%autoreload 2"
   ]
  },
  {
   "cell_type": "code",
   "execution_count": 178,
   "id": "60552a01-403a-48b9-acac-fbe59b264653",
   "metadata": {},
   "outputs": [],
   "source": [
    "import tensorflow as tf\n",
    "from tensorflow.keras import Sequential\n",
    "from tensorflow.keras.layers import Dense\n",
    "import pandas as pd\n",
    "import numpy as np\n",
    "from sklearn.model_selection import train_test_split\n",
    "from validation.metrics import OME, MSE\n",
    "import matplotlib.pyplot as plt\n",
    "from sklearn.model_selection import KFold\n",
    "from sklearn.preprocessing import MinMaxScaler\n",
    "from MODELS.ViscNN import create_ViscNN, create_ViscNN_concat,create_ViscNN_comb, create_ViscNN_phys\n",
    "from validation.tests import viscNN_LC, crossval_NN, Mw_extrapolation, Mw_test, evaluate_model\n",
    "import keras_tuner as kt\n",
    "from gpflow_tools.gpr_models import train_GPR\n",
    "from data_tools.dim_red import fp_PCA\n",
    "pd.options.mode.chained_assignment = None  # default='warn'"
   ]
  },
  {
   "cell_type": "code",
   "execution_count": 393,
   "id": "f24622c1-7873-4cda-9530-ab484d20ba59",
   "metadata": {},
   "outputs": [],
   "source": [
    "data = pd.read_excel('Data/full_data_2021-11-08.xlsx')"
   ]
  },
  {
   "cell_type": "code",
   "execution_count": 394,
   "id": "f748c7c2-b009-4d5e-9858-44651748a360",
   "metadata": {},
   "outputs": [
    {
     "name": "stdout",
     "output_type": "stream",
     "text": [
      "Found Zero Shear Samples\n",
      "Found LOBF for samples\n",
      "Generating sample...0\n",
      "Generating sample...1\n",
      "Generating sample...2\n",
      "Generating sample...3\n",
      "Generating sample...4\n",
      "Generating sample...5\n",
      "Generating sample...6\n",
      "Generating sample...7\n",
      "Generating sample...8\n",
      "Generating sample...9\n"
     ]
    }
   ],
   "source": [
    "extrap, PL_data, extrap_samps = Mw_extrapolation(data.copy(), 10)\n",
    "#data = pd.concat([data, extrap], ignore_index = True).reset_index(drop = True)"
   ]
  },
  {
   "cell_type": "code",
   "execution_count": 395,
   "id": "a36ff4f1-9494-4df6-b1f1-7bd9fe395325",
   "metadata": {},
   "outputs": [
    {
     "name": "stdout",
     "output_type": "stream",
     "text": [
      "Explained variance (ratio): [0.34511932 0.1813519  0.10194128 0.06710149 0.05863391 0.03994611\n",
      " 0.03556155 0.02749411 0.0209672  0.0158005 ]\n",
      "Total variance in 10 components = 0.8939173686355604\n"
     ]
    }
   ],
   "source": [
    "do_pca = True\n",
    "if do_pca:\n",
    "    data, fp_cols, pca = fp_PCA(data)\n",
    "    cols = fp_cols + ['Mw', 'Temperature', 'Shear_Rate','Melt_Viscosity']\n",
    "else:\n",
    "    fp_cols = []\n",
    "    for c in data.columns:\n",
    "        if isinstance(c, str):\n",
    "            if 'afp' in c or 'bfp' in c or 'mfp' in c or 'efp' in c:\n",
    "                fp_cols.append(c)\n",
    "    cols = fp_cols + ['Mw', 'Temperature', 'Shear_Rate','Melt_Viscosity']"
   ]
  },
  {
   "cell_type": "code",
   "execution_count": 396,
   "id": "27a3c7d4-2156-46f3-b772-51ab278b7b25",
   "metadata": {},
   "outputs": [],
   "source": [
    "for c in ['Mw', 'Melt_Viscosity']:\n",
    "    data[c] = np.log10(data[c])\n",
    "\n",
    "data['ZERO_SHEAR'] = 1\n",
    "data['SHEAR'] = 0\n",
    "data['log_Shear_Rate'] = 0\n",
    "for i in data.index:\n",
    "    if data.loc[i, 'Shear_Rate'] != 0:\n",
    "        data.loc[i,'log_Shear_Rate'] = np.log10(data.loc[i, 'Shear_Rate'])\n",
    "        data.loc[i, 'SHEAR'] = 1\n",
    "        data.loc[i, 'ZERO_SHEAR'] = 0\n",
    "        #data = data.drop([i])"
   ]
  },
  {
   "cell_type": "code",
   "execution_count": 552,
   "id": "51705342-e888-4420-b398-d27bb2bd735a",
   "metadata": {},
   "outputs": [],
   "source": [
    "#cols.remove('Shear_Rate')\n",
    "filtered_data = data.loc[:, cols + ['Polymer', 'SHEAR', 'ZERO_SHEAR', 'log_Shear_Rate']].dropna(subset = ['Mw', 'Shear_Rate'])\n",
    "#X_tot = np.array(filtered_data.filter(fp_cols + ['SHEAR', 'ZERO_SHEAR']))\n",
    "X_tot = np.array(filtered_data.filter(fp_cols))\n",
    "tot_samples = X_tot.shape[0]\n",
    "Y_tot = np.array(filtered_data.loc[:,'Melt_Viscosity']).reshape((tot_samples,1))"
   ]
  },
  {
   "cell_type": "code",
   "execution_count": 553,
   "id": "026cb7fe-b99d-4fd9-ad61-5ed3638f50e1",
   "metadata": {},
   "outputs": [],
   "source": [
    "logMw = np.array(filtered_data['Mw']).reshape((tot_samples,1))\n",
    "log_shear = np.array(filtered_data['log_Shear_Rate']).reshape((tot_samples,1))\n",
    "shear = np.array(filtered_data['Shear_Rate']).reshape((tot_samples,1))\n",
    "Temp = np.array(filtered_data['Temperature']).reshape((tot_samples,1))\n",
    "scaler = MinMaxScaler(copy = False)\n",
    "scaler.fit(X_tot).transform(X_tot);\n",
    "#y_scaler = MinMaxScaler(copy = False)\n",
    "#y_scaler.fit(Y_tot).transform(Y_tot);\n",
    "S_scaler = MinMaxScaler().fit(log_shear)\n",
    "log_shear = S_scaler.transform(log_shear)\n",
    "T_scaler = MinMaxScaler().fit(Temp)\n",
    "Temp = T_scaler.transform(Temp);\n",
    "M_scaler = MinMaxScaler().fit(logMw)\n",
    "logMw = M_scaler.transform(logMw);\n"
   ]
  },
  {
   "cell_type": "code",
   "execution_count": 554,
   "id": "3dcde744-f41e-4c7a-aa74-31ba798dd3a0",
   "metadata": {},
   "outputs": [],
   "source": [
    "XX, X_test, yy, y_test, M, M_test, S, S_test, T, T_test, train_ind, test_ind, shear_train, shear_test = train_test_split(X_tot, Y_tot, logMw, log_shear, Temp, range(tot_samples), shear, test_size= 0.10)"
   ]
  },
  {
   "cell_type": "code",
   "execution_count": 68,
   "id": "b6599392-c493-4b8c-88be-57bb18162f5b",
   "metadata": {},
   "outputs": [
    {
     "data": {
      "text/plain": [
       "<matplotlib.legend.Legend at 0x218698b12e0>"
      ]
     },
     "execution_count": 68,
     "metadata": {},
     "output_type": "execute_result"
    },
    {
     "data": {
      "image/png": "[encoded data removed]",
      "text/plain": [
       "<Figure size 432x288 with 1 Axes>"
      ]
     },
     "metadata": {
      "needs_background": "light"
     },
     "output_type": "display_data"
    }
   ],
   "source": [
    "n, train, test = viscNN_LC(create_ViscNN_concat, X_tot, Y_tot, logMw, log_shear, Temp)\n",
    "plt.plot(n, train)\n",
    "plt.plot(n, test)\n",
    "plt.legend(['Train','Test'])"
   ]
  },
  {
   "cell_type": "code",
   "execution_count": 65,
   "id": "1ba4ac9a-8371-4af4-b017-178a21fd9c0b",
   "metadata": {},
   "outputs": [
    {
     "data": {
      "text/plain": [
       "<matplotlib.legend.Legend at 0x20fbbecb250>"
      ]
     },
     "execution_count": 65,
     "metadata": {},
     "output_type": "execute_result"
    },
    {
     "data": {
      "image/png": "[encoded data removed]",
      "text/plain": [
       "<Figure size 432x288 with 1 Axes>"
      ]
     },
     "metadata": {
      "needs_background": "light"
     },
     "output_type": "display_data"
    }
   ],
   "source": [
    "n, train, test = viscNN_LC(create_ViscNN_comb, X_tot, Y_tot, logMw, log_shear, Temp, S_scaler= S_scaler, T_scaler=T_scaler,M_scaler= M_scaler)\n",
    "plt.plot(n, train)\n",
    "plt.plot(n, test)\n",
    "plt.legend(['Train','Test'])"
   ]
  },
  {
   "cell_type": "code",
   "execution_count": 472,
   "id": "05b30759-424c-4842-a121-0fcf4fa7f339",
   "metadata": {},
   "outputs": [
    {
     "name": "stdout",
     "output_type": "stream",
     "text": [
      "MSE: 0.493, RMSE: 0.702\n",
      "MSE: 0.357, RMSE: 0.597\n",
      "MSE: 0.490, RMSE: 0.700\n",
      "MSE: 0.607, RMSE: 0.779\n",
      "MSE: 13.688, RMSE: 3.700\n",
      "CV MSE error:3.126923108100891\n"
     ]
    }
   ],
   "source": [
    "model = crossval_NN(create_ViscNN_comb, XX, yy, M, S, T, S_scaler, T_scaler, M_scaler, verbose = 1, random_state = 10)"
   ]
  },
  {
   "cell_type": "code",
   "execution_count": 473,
   "id": "3ec49ed1-be39-45b7-83d3-22d234a16715",
   "metadata": {},
   "outputs": [
    {
     "name": "stdout",
     "output_type": "stream",
     "text": [
      "Test MSE:0.37468448281288147\n",
      "Test OME:0.51590455\n"
     ]
    },
    {
     "data": {
      "image/png": "[encoded data removed]",
      "text/plain": [
       "<Figure size 432x288 with 1 Axes>"
      ]
     },
     "metadata": {
      "needs_background": "light"
     },
     "output_type": "display_data"
    }
   ],
   "source": [
    "#plt.scatter(yy, model.predict([XX, M, S, T]), c = 'orange')\n",
    "#plt.scatter(y_test,  model.predict([X_test, M_test, S_test, T_test]))\n",
    "#plt.scatter(yy, model.predict([XX, M_scaler.inverse_transform(M), S_scaler.inverse_transform(S), T_scaler.inverse_transform(T)]), c = 'orange')\n",
    "#plt.scatter(y_test, model.predict([X_test, M_scaler.inverse_transform(M_test), S_scaler.inverse_transform(S_test), T_scaler.inverse_transform(T_test)]))\n",
    "test_pred =  model.predict([X_test, M_test, S_test, T_test,M_scaler.inverse_transform(M_test), S_scaler.inverse_transform(S_test), T_scaler.inverse_transform(T_test)])\n",
    "train_pred = model.predict([XX, M, S, T, M_scaler.inverse_transform(M), S_scaler.inverse_transform(S), T_scaler.inverse_transform(T)])\n",
    "plt.scatter(yy, train_pred, c = 'orange')\n",
    "plt.scatter(y_test, test_pred)\n",
    "\n",
    "plt.plot(np.linspace((min(yy)[0]), (max(yy)[0]), num = 2),np.linspace((min(yy)[0]), (max(yy)[0]), num = 2),'k-')\n",
    "plt.ylabel('Log Prediction')\n",
    "plt.xlabel('Log Truth')\n",
    "plt.legend(['Truth = Prediction','Train','Test'])\n",
    "#rmse = metrics.RMSE(mean, yy)\n",
    "#mape = metrics.MAPE(mean, yy)\n",
    "#print(\"Test MSE:\" + str(model.evaluate([X_test, M_scaler.inverse_transform(M_test), S_scaler.inverse_transform(S_test), T_scaler.inverse_transform(T_test)],y_test , verbose=0)))\n",
    "#print(\"Test OME:\" + str(OME(model.predict([X_test, M_scaler.inverse_transform(M_test), S_scaler.inverse_transform(S_test), T_scaler.inverse_transform(T_test)]), y_test).numpy()))\n",
    "print(\"Test MSE:\" + str(model.evaluate([X_test, M_test, S_test, T_test,M_scaler.inverse_transform(M_test), S_scaler.inverse_transform(S_test), T_scaler.inverse_transform(T_test)],y_test , verbose=0)))\n",
    "print(\"Test OME:\" + str(OME(test_pred, y_test).numpy()))"
   ]
  },
  {
   "cell_type": "code",
   "execution_count": null,
   "id": "2d5be9a3-0915-45f4-98c3-4010de43a8a8",
   "metadata": {},
   "outputs": [],
   "source": [
    "train_df, test_df = evaluate_model(test_pred, train_pred , filtered_data, (train_ind, test_ind))\n",
    "test_df[test_df['BAD_PRED'] == True]"
   ]
  },
  {
   "cell_type": "code",
   "execution_count": 555,
   "id": "537ee98b-b82a-42d0-a1d6-07b13b269fa8",
   "metadata": {},
   "outputs": [
    {
     "name": "stdout",
     "output_type": "stream",
     "text": [
      "MSE: 0.517, RMSE: 0.719\n",
      "MSE: 0.641, RMSE: 0.800\n",
      "MSE: 0.720, RMSE: 0.848\n",
      "MSE: 0.637, RMSE: 0.798\n",
      "MSE: 0.826, RMSE: 0.909\n",
      "CV MSE error:0.6680560946464539\n"
     ]
    }
   ],
   "source": [
    "model_phys = crossval_NN(create_ViscNN_phys, XX, yy, M, shear_train, T, S_scaler= S_scaler, M_scaler = M_scaler, verbose = 1, random_state = 10)"
   ]
  },
  {
   "cell_type": "code",
   "execution_count": 556,
   "id": "48985747-5e1d-49e6-8878-d7b3632d9bae",
   "metadata": {},
   "outputs": [
    {
     "name": "stdout",
     "output_type": "stream",
     "text": [
      "Test OME:1.0612925\n"
     ]
    },
    {
     "data": {
      "image/png": "[encoded data removed]",
      "text/plain": [
       "<Figure size 432x288 with 1 Axes>"
      ]
     },
     "metadata": {
      "needs_background": "light"
     },
     "output_type": "display_data"
    }
   ],
   "source": [
    "test_pred =  model_phys.predict([X_test, M_test, T_test, np.power(10, M_scaler.inverse_transform(M_test)), shear_test])\n",
    "train_pred = model_phys.predict([XX, M, T, np.power(10, M_scaler.inverse_transform(M)), shear_train])\n",
    "plt.scatter(yy, train_pred, c = 'orange')\n",
    "plt.scatter(y_test, test_pred)\n",
    "\n",
    "plt.plot(np.linspace((min(yy)[0]), (max(yy)[0]), num = 2),np.linspace((min(yy)[0]), (max(yy)[0]), num = 2),'k-')\n",
    "plt.ylabel('Log Prediction')\n",
    "plt.xlabel('Log Truth')\n",
    "plt.legend(['Truth = Prediction','Train','Test'])\n",
    "#rmse = metrics.RMSE(mean, yy)\n",
    "#mape = metrics.MAPE(mean, yy)\n",
    "#print(\"Test MSE:\" + str(model.evaluate([X_test, M_scaler.inverse_transform(M_test), S_scaler.inverse_transform(S_test), T_scaler.inverse_transform(T_test)],y_test , verbose=0)))\n",
    "#print(\"Test OME:\" + str(OME(model.predict([X_test, M_scaler.inverse_transform(M_test), S_scaler.inverse_transform(S_test), T_scaler.inverse_transform(T_test)]), y_test).numpy()))\n",
    "#print(\"Test MSE:\" + str(model.evaluate([X_test, M_test, S_test, T_test,M_scaler.inverse_transform(M_test), S_scaler.inverse_transform(S_test), T_scaler.inverse_transform(T_test)],y_test , verbose=0)))\n",
    "print(\"Test OME:\" + str(OME(test_pred, y_test).numpy()))"
   ]
  },
  {
   "cell_type": "code",
   "execution_count": 374,
   "id": "3211208d-7d60-44c9-a4f6-8c1ecdd03c61",
   "metadata": {},
   "outputs": [
    {
     "name": "stdout",
     "output_type": "stream",
     "text": [
      "MSE: 0.669, RMSE: 0.818\n",
      "MSE: 0.374, RMSE: 0.611\n",
      "MSE: 0.208, RMSE: 0.456\n",
      "MSE: 3.449, RMSE: 1.857\n",
      "MSE: 0.748, RMSE: 0.865\n",
      "CV MSE error:1.0893918037414552\n"
     ]
    }
   ],
   "source": [
    "model_NP = crossval_NN(create_ViscNN_concat, XX, yy, M, S, T, verbose = 1, random_state = 10)"
   ]
  },
  {
   "cell_type": "code",
   "execution_count": 428,
   "id": "1870f8de-9e22-4baf-bbd4-5bbc5c2b4525",
   "metadata": {},
   "outputs": [
    {
     "name": "stdout",
     "output_type": "stream",
     "text": [
      "Test MSE:0.2313043773174286\n",
      "Test OME:2.5101328\n"
     ]
    },
    {
     "data": {
      "image/png": "[encoded data removed]",
      "text/plain": [
       "<Figure size 432x288 with 1 Axes>"
      ]
     },
     "metadata": {
      "needs_background": "light"
     },
     "output_type": "display_data"
    }
   ],
   "source": [
    "test_pred = model_NP.predict([X_test, M_test, S_test, T_test])\n",
    "train_pred =  model_NP.predict([XX, M, S, T])\n",
    "plt.scatter(yy, train_pred, c = 'orange')\n",
    "plt.scatter(y_test, test_pred)\n",
    "#plt.scatter(yy, model.predict([XX, M_scaler.inverse_transform(M), S_scaler.inverse_transform(S), T_scaler.inverse_transform(T)]), c = 'orange')\n",
    "#plt.scatter(y_test, model.predict([X_test, M_scaler.inverse_transform(M_test), S_scaler.inverse_transform(S_test), T_scaler.inverse_transform(T_test)]))\n",
    "#plt.scatter(yy, model.predict([XX, M, S, T, M_scaler.inverse_transform(M), S_scaler.inverse_transform(S), T_scaler.inverse_transform(T)]), c = 'orange')\n",
    "#plt.scatter(y_test,  model.predict([X_test, M_test, S_test, T_test,M_scaler.inverse_transform(M_test), S_scaler.inverse_transform(S_test), T_scaler.inverse_transform(T_test)]))\n",
    "\n",
    "plt.plot(np.linspace((min(yy)[0]), (max(yy)[0]), num = 2),np.linspace((min(yy)[0]), (max(yy)[0]), num = 2),'k-')\n",
    "plt.ylabel('Log Prediction')\n",
    "plt.xlabel('Log Truth')\n",
    "plt.legend(['Truth = Prediction','Train','Test'])\n",
    "#rmse = metrics.RMSE(mean, yy)\n",
    "#mape = metrics.MAPE(mean, yy)\n",
    "#print(\"Test MSE:\" + str(model.evaluate([X_test, M_scaler.inverse_transform(M_test), S_scaler.inverse_transform(S_test), T_scaler.inverse_transform(T_test)],y_test , verbose=0)))\n",
    "#print(\"Test OME:\" + str(OME(model.predict([X_test, M_scaler.inverse_transform(M_test), S_scaler.inverse_transform(S_test), T_scaler.inverse_transform(T_test)]), y_test).numpy()))\n",
    "print(\"Test MSE:\" + str(model_NP.evaluate([X_test, M_test, S_test, T_test],y_test , verbose=0)))\n",
    "print(\"Test OME:\" + str(OME(test_pred, y_test).numpy()))"
   ]
  },
  {
   "cell_type": "code",
   "execution_count": 27,
   "id": "e11a4b03-7cb9-4ced-a3be-6f23bf752852",
   "metadata": {},
   "outputs": [
    {
     "name": "stdout",
     "output_type": "stream",
     "text": [
      "1.2638481761709977\n"
     ]
    },
    {
     "data": {
      "text/html": [
       "<div>\n",
       "<style scoped>\n",
       "    .dataframe tbody tr th:only-of-type {\n",
       "        vertical-align: middle;\n",
       "    }\n",
       "\n",
       "    .dataframe tbody tr th {\n",
       "        vertical-align: top;\n",
       "    }\n",
       "\n",
       "    .dataframe thead th {\n",
       "        text-align: right;\n",
       "    }\n",
       "</style>\n",
       "<table border=\"1\" class=\"dataframe\">\n",
       "  <thead>\n",
       "    <tr style=\"text-align: right;\">\n",
       "      <th></th>\n",
       "      <th>0</th>\n",
       "      <th>1</th>\n",
       "      <th>2</th>\n",
       "      <th>3</th>\n",
       "      <th>4</th>\n",
       "      <th>5</th>\n",
       "      <th>6</th>\n",
       "      <th>7</th>\n",
       "      <th>8</th>\n",
       "      <th>9</th>\n",
       "      <th>Mw</th>\n",
       "      <th>Temperature</th>\n",
       "      <th>Shear_Rate</th>\n",
       "      <th>Melt_Viscosity</th>\n",
       "      <th>Polymer</th>\n",
       "      <th>SHEAR</th>\n",
       "      <th>ZERO_SHEAR</th>\n",
       "      <th>Y_pred</th>\n",
       "      <th>Error</th>\n",
       "      <th>BAD_PRED</th>\n",
       "    </tr>\n",
       "  </thead>\n",
       "  <tbody>\n",
       "    <tr>\n",
       "      <th>278</th>\n",
       "      <td>-1.006943</td>\n",
       "      <td>0.243833</td>\n",
       "      <td>0.225600</td>\n",
       "      <td>0.300323</td>\n",
       "      <td>-0.429627</td>\n",
       "      <td>-0.497729</td>\n",
       "      <td>0.353552</td>\n",
       "      <td>0.275641</td>\n",
       "      <td>-0.105901</td>\n",
       "      <td>-0.048789</td>\n",
       "      <td>4.301030</td>\n",
       "      <td>139.183673</td>\n",
       "      <td>0.0</td>\n",
       "      <td>2.397849</td>\n",
       "      <td>Poly(ethyl-n-butylsilylene)</td>\n",
       "      <td>0</td>\n",
       "      <td>1</td>\n",
       "      <td>1.112468</td>\n",
       "      <td>1.285382</td>\n",
       "      <td>True</td>\n",
       "    </tr>\n",
       "    <tr>\n",
       "      <th>277</th>\n",
       "      <td>-1.006943</td>\n",
       "      <td>0.243833</td>\n",
       "      <td>0.225600</td>\n",
       "      <td>0.300323</td>\n",
       "      <td>-0.429627</td>\n",
       "      <td>-0.497729</td>\n",
       "      <td>0.353552</td>\n",
       "      <td>0.275641</td>\n",
       "      <td>-0.105901</td>\n",
       "      <td>-0.048789</td>\n",
       "      <td>4.301030</td>\n",
       "      <td>119.591837</td>\n",
       "      <td>0.0</td>\n",
       "      <td>2.741935</td>\n",
       "      <td>Poly(ethyl-n-butylsilylene)</td>\n",
       "      <td>0</td>\n",
       "      <td>1</td>\n",
       "      <td>1.182985</td>\n",
       "      <td>1.558951</td>\n",
       "      <td>True</td>\n",
       "    </tr>\n",
       "    <tr>\n",
       "      <th>312</th>\n",
       "      <td>0.146021</td>\n",
       "      <td>-1.349768</td>\n",
       "      <td>-0.386517</td>\n",
       "      <td>0.497850</td>\n",
       "      <td>-0.128732</td>\n",
       "      <td>-0.309967</td>\n",
       "      <td>-0.050217</td>\n",
       "      <td>0.383234</td>\n",
       "      <td>0.034220</td>\n",
       "      <td>-0.203388</td>\n",
       "      <td>4.602060</td>\n",
       "      <td>232.000000</td>\n",
       "      <td>0.0</td>\n",
       "      <td>12.487138</td>\n",
       "      <td>poly(2,6-dimethylphenol)</td>\n",
       "      <td>0</td>\n",
       "      <td>1</td>\n",
       "      <td>2.126910</td>\n",
       "      <td>10.360228</td>\n",
       "      <td>True</td>\n",
       "    </tr>\n",
       "    <tr>\n",
       "      <th>147</th>\n",
       "      <td>2.607707</td>\n",
       "      <td>0.607634</td>\n",
       "      <td>-0.342056</td>\n",
       "      <td>-0.118286</td>\n",
       "      <td>-0.285236</td>\n",
       "      <td>-0.087235</td>\n",
       "      <td>0.308054</td>\n",
       "      <td>0.090309</td>\n",
       "      <td>0.215158</td>\n",
       "      <td>0.000892</td>\n",
       "      <td>3.959041</td>\n",
       "      <td>120.000000</td>\n",
       "      <td>0.0</td>\n",
       "      <td>11.559714</td>\n",
       "      <td>polystyrene</td>\n",
       "      <td>0</td>\n",
       "      <td>1</td>\n",
       "      <td>4.676861</td>\n",
       "      <td>6.882853</td>\n",
       "      <td>True</td>\n",
       "    </tr>\n",
       "  </tbody>\n",
       "</table>\n",
       "</div>"
      ],
      "text/plain": [
       "            0         1         2         3         4         5         6  \\\n",
       "278 -1.006943  0.243833  0.225600  0.300323 -0.429627 -0.497729  0.353552   \n",
       "277 -1.006943  0.243833  0.225600  0.300323 -0.429627 -0.497729  0.353552   \n",
       "312  0.146021 -1.349768 -0.386517  0.497850 -0.128732 -0.309967 -0.050217   \n",
       "147  2.607707  0.607634 -0.342056 -0.118286 -0.285236 -0.087235  0.308054   \n",
       "\n",
       "            7         8         9        Mw  Temperature  Shear_Rate  \\\n",
       "278  0.275641 -0.105901 -0.048789  4.301030   139.183673         0.0   \n",
       "277  0.275641 -0.105901 -0.048789  4.301030   119.591837         0.0   \n",
       "312  0.383234  0.034220 -0.203388  4.602060   232.000000         0.0   \n",
       "147  0.090309  0.215158  0.000892  3.959041   120.000000         0.0   \n",
       "\n",
       "     Melt_Viscosity                      Polymer  SHEAR  ZERO_SHEAR    Y_pred  \\\n",
       "278        2.397849  Poly(ethyl-n-butylsilylene)      0           1  1.112468   \n",
       "277        2.741935  Poly(ethyl-n-butylsilylene)      0           1  1.182985   \n",
       "312       12.487138     poly(2,6-dimethylphenol)      0           1  2.126910   \n",
       "147       11.559714                  polystyrene      0           1  4.676861   \n",
       "\n",
       "         Error  BAD_PRED  \n",
       "278   1.285382      True  \n",
       "277   1.558951      True  \n",
       "312  10.360228      True  \n",
       "147   6.882853      True  "
      ]
     },
     "execution_count": 27,
     "metadata": {},
     "output_type": "execute_result"
    }
   ],
   "source": [
    "train_df, test_df = evaluate_model(test_pred, train_pred , filtered_data, (train_ind, test_ind))\n",
    "test_df[test_df['BAD_PRED'] == True]"
   ]
  },
  {
   "cell_type": "code",
   "execution_count": 154,
   "id": "88a21fdf-f5f6-4c0d-996c-315cd9673b3c",
   "metadata": {},
   "outputs": [],
   "source": [
    "gpr_model = train_GPR(XX, yy, M, S, T)"
   ]
  },
  {
   "cell_type": "code",
   "execution_count": 159,
   "id": "8d23fb6d-b7de-442d-9e63-0cb44c79fd3f",
   "metadata": {},
   "outputs": [
    {
     "name": "stdout",
     "output_type": "stream",
     "text": [
      "Test MSE:0.3167766945008578\n",
      "Test OME:tf.Tensor(0.2134495961423849, shape=(), dtype=float64)\n"
     ]
    },
    {
     "data": {
      "image/png": "[encoded data removed]",
      "text/plain": [
       "<Figure size 432x288 with 1 Axes>"
      ]
     },
     "metadata": {
      "needs_background": "light"
     },
     "output_type": "display_data"
    }
   ],
   "source": [
    "X_ = np.concatenate((X_test, M_test, S_test, T_test), axis = 1)\n",
    "X_train = np.concatenate((XX, M, S, T), axis = 1)\n",
    "test_pred, var = gpr_model.predict_y(X_)\n",
    "## generate 10 samples from posterior\n",
    "\n",
    "print(\"Test MSE:\" + str(MSE(test_pred, y_test)))\n",
    "print(\"Test OME:\" + str(OME(test_pred, y_test)))\n",
    "\n",
    "# plt.plot(xx[:,0], samples[:, :, 0].numpy().T, \"C0\", linewidth=0.5)\n",
    "train_pred, var_train = gpr_model.predict_y(X_train)\n",
    "plt.scatter(yy, train_pred, c = 'orange')\n",
    "plt.scatter(y_test, test_pred)\n",
    "plt.ylabel('Log Prediction')\n",
    "plt.xlabel('Log Truth')\n",
    "plt.plot(np.linspace((min(yy)[0]), (max(yy)[0]), num = 2),np.linspace((min(yy)[0]), (max(yy)[0]), num = 2),'k-')\n",
    "plt.legend(['Truth = Prediction', 'Train','Test'])\n",
    "plt.show()"
   ]
  },
  {
   "cell_type": "code",
   "execution_count": 156,
   "id": "d6802881-9e1f-4964-adb6-2d8007bd9630",
   "metadata": {},
   "outputs": [
    {
     "ename": "NameError",
     "evalue": "name 'evaluate_model' is not defined",
     "output_type": "error",
     "traceback": [
      "\u001b[1;31m---------------------------------------------------------------------------\u001b[0m",
      "\u001b[1;31mNameError\u001b[0m                                 Traceback (most recent call last)",
      "\u001b[1;32m~\\AppData\\Local\\Temp/ipykernel_26952/1460662336.py\u001b[0m in \u001b[0;36m<module>\u001b[1;34m\u001b[0m\n\u001b[1;32m----> 1\u001b[1;33m \u001b[0mtrain_df\u001b[0m\u001b[1;33m,\u001b[0m \u001b[0mtest_df\u001b[0m \u001b[1;33m=\u001b[0m \u001b[0mevaluate_model\u001b[0m\u001b[1;33m(\u001b[0m\u001b[0mtest_pred\u001b[0m\u001b[1;33m,\u001b[0m \u001b[0mtrain_pred\u001b[0m \u001b[1;33m,\u001b[0m \u001b[0mfiltered_data\u001b[0m\u001b[1;33m,\u001b[0m \u001b[1;33m(\u001b[0m\u001b[0mtrain_ind\u001b[0m\u001b[1;33m,\u001b[0m \u001b[0mtest_ind\u001b[0m\u001b[1;33m)\u001b[0m\u001b[1;33m)\u001b[0m\u001b[1;33m\u001b[0m\u001b[1;33m\u001b[0m\u001b[0m\n\u001b[0m\u001b[0;32m      2\u001b[0m \u001b[0mtest_df\u001b[0m\u001b[1;33m[\u001b[0m\u001b[0mtest_df\u001b[0m\u001b[1;33m[\u001b[0m\u001b[1;34m'BAD_PRED'\u001b[0m\u001b[1;33m]\u001b[0m \u001b[1;33m==\u001b[0m \u001b[1;32mTrue\u001b[0m\u001b[1;33m]\u001b[0m\u001b[1;33m\u001b[0m\u001b[1;33m\u001b[0m\u001b[0m\n",
      "\u001b[1;31mNameError\u001b[0m: name 'evaluate_model' is not defined"
     ]
    }
   ],
   "source": [
    "train_df, test_df = evaluate_model(test_pred, train_pred , filtered_data, (train_ind, test_ind))\n",
    "test_df[test_df['BAD_PRED'] == True]"
   ]
  },
  {
   "cell_type": "code",
   "execution_count": null,
   "id": "9eaeee20-ea1f-48c0-822f-23ae5b58bf03",
   "metadata": {},
   "outputs": [],
   "source": [
    "tuner = kt.Hyperband(create_ViscNN_concat, objective='val_loss',\n",
    "                     max_epochs=10,\n",
    "                     factor=3, project_name = 'create_ViscNN_concat2')\n",
    "\n",
    "tuner.search([XX, M, S, T], yy,\n",
    "             validation_data= ([X_test, M_test, S_test, T_test], y_test),\n",
    "             epochs=30,\n",
    "             callbacks=[tf.keras.callbacks.EarlyStopping(patience=1)])"
   ]
  },
  {
   "cell_type": "code",
   "execution_count": 452,
   "id": "ce810693-74bf-49f5-bc71-84743fda9398",
   "metadata": {},
   "outputs": [
    {
     "name": "stdout",
     "output_type": "stream",
     "text": [
      "  SAMPLE_ID      Polymer   SMILES  Temperature          Mcr    Log_K1  \\\n",
      "2         6  Linear HDPE  [*]C[*]        150.0  3656.398809 -3.904875   \n",
      "\n",
      "     Log_K2     Alpha  afp_C4_C4_C4  afp_C4_C4_F1  ...  bfp_378  bfp_429  \\\n",
      "2 -13.40241  3.665561      0.333333           0.0  ...      0.0      0.0   \n",
      "\n",
      "   afp_C3_C3_N3  afp_C3_N3_C3  bfp_46  bfp_47  bfp_55  bfp_79  bfp_210  \\\n",
      "2           0.0           0.0     0.0     0.0     0.0     0.0      0.0   \n",
      "\n",
      "   Shear_Rate  \n",
      "2           0  \n",
      "\n",
      "[1 rows x 206 columns]\n"
     ]
    }
   ],
   "source": [
    "#PL_data.head(10)\n",
    "extrap_tests = Mw_test(PL_data.copy(), samps = [0,1,2,3,4,5,6,7,8,9,10,11,12])"
   ]
  },
  {
   "cell_type": "code",
   "execution_count": 465,
   "id": "30e9ce47-1559-4ae2-9796-ef46c722b3c1",
   "metadata": {},
   "outputs": [],
   "source": [
    "samp_num = 0\n",
    "XX_ex, OH, M_ex,S_ex,T_ex,y_ex = extrap_tests[samp_num]['data_in']\n",
    "Mw_ex = extrap_samps[samp_num][0]\n",
    "log_visc_ex = extrap_samps[samp_num][1]\n",
    "XX_ex = scaler.transform(np.concatenate((pca.transform(XX_ex), OH), axis = 1))\n",
    "M_ex = M_scaler.transform(M_ex)\n",
    "S_ex = S_scaler.transform(S_ex)\n",
    "T_ex = T_scaler.transform(T_ex)"
   ]
  },
  {
   "cell_type": "code",
   "execution_count": 469,
   "id": "3b1a6fbb-2201-4ddb-b417-ee1734d3d634",
   "metadata": {},
   "outputs": [
    {
     "data": {
      "text/plain": [
       "<matplotlib.legend.Legend at 0x23d5e635280>"
      ]
     },
     "execution_count": 469,
     "metadata": {},
     "output_type": "execute_result"
    },
    {
     "data": {
      "image/png": "[encoded data removed]",
      "text/plain": [
       "<Figure size 432x288 with 1 Axes>"
      ]
     },
     "metadata": {
      "needs_background": "light"
     },
     "output_type": "display_data"
    },
    {
     "data": {
      "image/png": "[encoded data removed]",
      "text/plain": [
       "<Figure size 432x288 with 1 Axes>"
      ]
     },
     "metadata": {
      "needs_background": "light"
     },
     "output_type": "display_data"
    }
   ],
   "source": [
    "test_pred = model.predict([XX_ex, M_ex, S_ex, T_ex,M_scaler.inverse_transform(M_ex), S_scaler.inverse_transform(S_ex), T_scaler.inverse_transform(T_ex)])\n",
    "plt.scatter(y_ex, test_pred, c = 'orange')\n",
    "\n",
    "plt.plot(np.linspace((min(y_ex)[0]), (max(y_ex)[0]), num = 2),np.linspace((min(y_ex)[0]), (max(y_ex)[0]), num = 2),'k-')\n",
    "plt.ylabel('Log Prediction')\n",
    "plt.xlabel('Log Truth')\n",
    "plt.legend(['Truth = Prediction','Train','Test'])\n",
    "\n",
    "plt.figure()\n",
    "plt.xlabel('Log Mw')\n",
    "plt.ylabel('Log Eta')\n",
    "plt.scatter(Mw_ex, log_visc_ex, c = 'orange')\n",
    "plt.scatter(M_scaler.inverse_transform(M_ex), test_pred)\n",
    "plt.plot(M_scaler.inverse_transform(M_ex), y_ex, c = 'k')\n",
    "plt.legend(['Power Law Extrapolation','Train','Test (Extrapolated)'])"
   ]
  },
  {
   "cell_type": "code",
   "execution_count": 470,
   "id": "2a67d05b-183f-45db-93bb-bc23b7a13f70",
   "metadata": {},
   "outputs": [
    {
     "data": {
      "text/plain": [
       "<matplotlib.legend.Legend at 0x23d5eab5df0>"
      ]
     },
     "execution_count": 470,
     "metadata": {},
     "output_type": "execute_result"
    },
    {
     "data": {
      "image/png": "[encoded data removed]",
      "text/plain": [
       "<Figure size 432x288 with 1 Axes>"
      ]
     },
     "metadata": {
      "needs_background": "light"
     },
     "output_type": "display_data"
    },
    {
     "data": {
      "image/png": "[encoded data removed]",
      "text/plain": [
       "<Figure size 432x288 with 1 Axes>"
      ]
     },
     "metadata": {
      "needs_background": "light"
     },
     "output_type": "display_data"
    }
   ],
   "source": [
    "test_pred = model_NP.predict([XX_ex, M_ex, S_ex, T_ex])\n",
    "plt.scatter(y_ex, test_pred)\n",
    "#plt.scatter(yy, model.predict([XX, M_scaler.inverse_transform(M), S_scaler.inverse_transform(S), T_scaler.inverse_transform(T)]), c = 'orange')\n",
    "#plt.scatter(y_test, model.predict([X_test, M_scaler.inverse_transform(M_test), S_scaler.inverse_transform(S_test), T_scaler.inverse_transform(T_test)]))\n",
    "#plt.scatter(yy, model.predict([XX, M, S, T, M_scaler.inverse_transform(M), S_scaler.inverse_transform(S), T_scaler.inverse_transform(T)]), c = 'orange')\n",
    "#plt.scatter(y_test,  model.predict([X_test, M_test, S_test, T_test,M_scaler.inverse_transform(M_test), S_scaler.inverse_transform(S_test), T_scaler.inverse_transform(T_test)]))\n",
    "\n",
    "plt.plot(np.linspace((min(y_ex)[0]), (max(y_ex)[0]), num = 2),np.linspace((min(y_ex)[0]), (max(y_ex)[0]), num = 2),'k-')\n",
    "plt.ylabel('Log Eta Prediction')\n",
    "plt.xlabel('Log Eta Truth')\n",
    "plt.legend(['Truth = Prediction','Train','Test'])\n",
    "\n",
    "plt.figure()\n",
    "plt.xlabel('Log Mw')\n",
    "plt.ylabel('Log Eta')\n",
    "plt.scatter(Mw_ex, log_visc_ex, c = 'orange')\n",
    "plt.scatter(M_scaler.inverse_transform(M_ex), test_pred)\n",
    "plt.plot(M_scaler.inverse_transform(M_ex), y_ex, c = 'k')\n",
    "plt.legend(['Power Law Extrapolation','Train','Test (Extrapolated)'])"
   ]
  },
  {
   "cell_type": "code",
   "execution_count": 528,
   "id": "240c8be1-c541-4a35-a6b9-5462c01308a1",
   "metadata": {},
   "outputs": [
    {
     "data": {
      "text/plain": [
       "<matplotlib.legend.Legend at 0x23d60fc64c0>"
      ]
     },
     "execution_count": 528,
     "metadata": {},
     "output_type": "execute_result"
    },
    {
     "data": {
      "image/png": "[encoded data removed]",
      "text/plain": [
       "<Figure size 432x288 with 1 Axes>"
      ]
     },
     "metadata": {
      "needs_background": "light"
     },
     "output_type": "display_data"
    },
    {
     "data": {
      "image/png": "[encoded data removed]",
      "text/plain": [
       "<Figure size 432x288 with 1 Axes>"
      ]
     },
     "metadata": {
      "needs_background": "light"
     },
     "output_type": "display_data"
    }
   ],
   "source": [
    "test_pred = model_phys.predict([XX_ex, M_ex, T_ex, np.power(10, M_scaler.inverse_transform(M_ex)), S_ex])\n",
    "plt.scatter(y_ex, test_pred)\n",
    "#plt.scatter(yy, model.predict([XX, M_scaler.inverse_transform(M), S_scaler.inverse_transform(S), T_scaler.inverse_transform(T)]), c = 'orange')\n",
    "#plt.scatter(y_test, model.predict([X_test, M_scaler.inverse_transform(M_test), S_scaler.inverse_transform(S_test), T_scaler.inverse_transform(T_test)]))\n",
    "#plt.scatter(yy, model.predict([XX, M, S, T, M_scaler.inverse_transform(M), S_scaler.inverse_transform(S), T_scaler.inverse_transform(T)]), c = 'orange')\n",
    "#plt.scatter(y_test,  model.predict([X_test, M_test, S_test, T_test,M_scaler.inverse_transform(M_test), S_scaler.inverse_transform(S_test), T_scaler.inverse_transform(T_test)]))\n",
    "\n",
    "plt.plot(np.linspace((min(y_ex)[0]), (max(y_ex)[0]), num = 2),np.linspace((min(y_ex)[0]), (max(y_ex)[0]), num = 2),'k-')\n",
    "plt.ylabel('Log Eta Prediction')\n",
    "plt.xlabel('Log Eta Truth')\n",
    "plt.legend(['Truth = Prediction','Train','Test'])\n",
    "\n",
    "plt.figure()\n",
    "plt.xlabel('Log Mw')\n",
    "plt.ylabel('Log Eta')\n",
    "plt.scatter(Mw_ex, log_visc_ex, c = 'orange')\n",
    "plt.scatter(M_scaler.inverse_transform(M_ex), test_pred)\n",
    "plt.plot(M_scaler.inverse_transform(M_ex), y_ex, c = 'k')\n",
    "plt.legend(['Power Law Extrapolation','Train','Test (Extrapolated)'])"
   ]
  },
  {
   "cell_type": "code",
   "execution_count": 411,
   "id": "0ae32091-b007-4237-831b-ccf56e6d2107",
   "metadata": {},
   "outputs": [
    {
     "data": {
      "text/html": [
       "<div>\n",
       "<style scoped>\n",
       "    .dataframe tbody tr th:only-of-type {\n",
       "        vertical-align: middle;\n",
       "    }\n",
       "\n",
       "    .dataframe tbody tr th {\n",
       "        vertical-align: top;\n",
       "    }\n",
       "\n",
       "    .dataframe thead th {\n",
       "        text-align: right;\n",
       "    }\n",
       "</style>\n",
       "<table border=\"1\" class=\"dataframe\">\n",
       "  <thead>\n",
       "    <tr style=\"text-align: right;\">\n",
       "      <th></th>\n",
       "      <th>SAMPLE_ID</th>\n",
       "      <th>Polymer</th>\n",
       "      <th>SMILES</th>\n",
       "      <th>Temperature</th>\n",
       "      <th>Mcr</th>\n",
       "      <th>Log_K1</th>\n",
       "      <th>Log_K2</th>\n",
       "      <th>Alpha</th>\n",
       "      <th>afp_C4_C4_C4</th>\n",
       "      <th>afp_C4_C4_F1</th>\n",
       "      <th>...</th>\n",
       "      <th>bfp_378</th>\n",
       "      <th>bfp_429</th>\n",
       "      <th>afp_C3_C3_N3</th>\n",
       "      <th>afp_C3_N3_C3</th>\n",
       "      <th>bfp_46</th>\n",
       "      <th>bfp_47</th>\n",
       "      <th>bfp_55</th>\n",
       "      <th>bfp_79</th>\n",
       "      <th>bfp_210</th>\n",
       "      <th>Shear_Rate</th>\n",
       "    </tr>\n",
       "  </thead>\n",
       "  <tbody>\n",
       "    <tr>\n",
       "      <th>0</th>\n",
       "      <td>0</td>\n",
       "      <td>poly(prop-1-ene)</td>\n",
       "      <td>[*]CC([*])C</td>\n",
       "      <td>200.0</td>\n",
       "      <td>NaN</td>\n",
       "      <td>0</td>\n",
       "      <td>-9.667328</td>\n",
       "      <td>2.499047</td>\n",
       "      <td>0.444444</td>\n",
       "      <td>0.0</td>\n",
       "      <td>...</td>\n",
       "      <td>0.0</td>\n",
       "      <td>0.0</td>\n",
       "      <td>0.0</td>\n",
       "      <td>0.0</td>\n",
       "      <td>0.0</td>\n",
       "      <td>0.0</td>\n",
       "      <td>0.0</td>\n",
       "      <td>0.0</td>\n",
       "      <td>0.0</td>\n",
       "      <td>0</td>\n",
       "    </tr>\n",
       "    <tr>\n",
       "      <th>1</th>\n",
       "      <td>1</td>\n",
       "      <td>polyisobutylene</td>\n",
       "      <td>[*]CC([*])(C)C</td>\n",
       "      <td>25.0</td>\n",
       "      <td>NaN</td>\n",
       "      <td>0</td>\n",
       "      <td>-9.948751</td>\n",
       "      <td>3.357126</td>\n",
       "      <td>0.583333</td>\n",
       "      <td>0.0</td>\n",
       "      <td>...</td>\n",
       "      <td>0.0</td>\n",
       "      <td>0.0</td>\n",
       "      <td>0.0</td>\n",
       "      <td>0.0</td>\n",
       "      <td>0.0</td>\n",
       "      <td>0.0</td>\n",
       "      <td>0.0</td>\n",
       "      <td>0.0</td>\n",
       "      <td>0.0</td>\n",
       "      <td>0</td>\n",
       "    </tr>\n",
       "    <tr>\n",
       "      <th>2</th>\n",
       "      <td>6</td>\n",
       "      <td>Linear HDPE</td>\n",
       "      <td>[*]C[*]</td>\n",
       "      <td>150.0</td>\n",
       "      <td>3656.398809</td>\n",
       "      <td>-3.904875</td>\n",
       "      <td>-13.402410</td>\n",
       "      <td>3.665561</td>\n",
       "      <td>0.333333</td>\n",
       "      <td>0.0</td>\n",
       "      <td>...</td>\n",
       "      <td>0.0</td>\n",
       "      <td>0.0</td>\n",
       "      <td>0.0</td>\n",
       "      <td>0.0</td>\n",
       "      <td>0.0</td>\n",
       "      <td>0.0</td>\n",
       "      <td>0.0</td>\n",
       "      <td>0.0</td>\n",
       "      <td>0.0</td>\n",
       "      <td>0</td>\n",
       "    </tr>\n",
       "    <tr>\n",
       "      <th>3</th>\n",
       "      <td>7</td>\n",
       "      <td>polyisobutylene</td>\n",
       "      <td>[*]CC([*])(C)C</td>\n",
       "      <td>150.0</td>\n",
       "      <td>NaN</td>\n",
       "      <td>0</td>\n",
       "      <td>-13.936685</td>\n",
       "      <td>3.565737</td>\n",
       "      <td>0.583333</td>\n",
       "      <td>0.0</td>\n",
       "      <td>...</td>\n",
       "      <td>0.0</td>\n",
       "      <td>0.0</td>\n",
       "      <td>0.0</td>\n",
       "      <td>0.0</td>\n",
       "      <td>0.0</td>\n",
       "      <td>0.0</td>\n",
       "      <td>0.0</td>\n",
       "      <td>0.0</td>\n",
       "      <td>0.0</td>\n",
       "      <td>0</td>\n",
       "    </tr>\n",
       "    <tr>\n",
       "      <th>4</th>\n",
       "      <td>8</td>\n",
       "      <td>polyisobutylene</td>\n",
       "      <td>[*]CC([*])(C)C</td>\n",
       "      <td>175.0</td>\n",
       "      <td>NaN</td>\n",
       "      <td>0</td>\n",
       "      <td>-14.003194</td>\n",
       "      <td>3.507579</td>\n",
       "      <td>0.583333</td>\n",
       "      <td>0.0</td>\n",
       "      <td>...</td>\n",
       "      <td>0.0</td>\n",
       "      <td>0.0</td>\n",
       "      <td>0.0</td>\n",
       "      <td>0.0</td>\n",
       "      <td>0.0</td>\n",
       "      <td>0.0</td>\n",
       "      <td>0.0</td>\n",
       "      <td>0.0</td>\n",
       "      <td>0.0</td>\n",
       "      <td>0</td>\n",
       "    </tr>\n",
       "    <tr>\n",
       "      <th>5</th>\n",
       "      <td>9</td>\n",
       "      <td>polyisobutylene</td>\n",
       "      <td>[*]CC([*])(C)C</td>\n",
       "      <td>200.0</td>\n",
       "      <td>NaN</td>\n",
       "      <td>0</td>\n",
       "      <td>-15.621807</td>\n",
       "      <td>3.740412</td>\n",
       "      <td>0.583333</td>\n",
       "      <td>0.0</td>\n",
       "      <td>...</td>\n",
       "      <td>0.0</td>\n",
       "      <td>0.0</td>\n",
       "      <td>0.0</td>\n",
       "      <td>0.0</td>\n",
       "      <td>0.0</td>\n",
       "      <td>0.0</td>\n",
       "      <td>0.0</td>\n",
       "      <td>0.0</td>\n",
       "      <td>0.0</td>\n",
       "      <td>0</td>\n",
       "    </tr>\n",
       "    <tr>\n",
       "      <th>6</th>\n",
       "      <td>14</td>\n",
       "      <td>polystyrene</td>\n",
       "      <td>[*]CC([*])c1ccccc1</td>\n",
       "      <td>217.0</td>\n",
       "      <td>NaN</td>\n",
       "      <td>0</td>\n",
       "      <td>-8.944816</td>\n",
       "      <td>2.480751</td>\n",
       "      <td>0.125000</td>\n",
       "      <td>0.0</td>\n",
       "      <td>...</td>\n",
       "      <td>0.0</td>\n",
       "      <td>0.0</td>\n",
       "      <td>0.0</td>\n",
       "      <td>0.0</td>\n",
       "      <td>0.0</td>\n",
       "      <td>0.0</td>\n",
       "      <td>0.0</td>\n",
       "      <td>0.0</td>\n",
       "      <td>0.0</td>\n",
       "      <td>0</td>\n",
       "    </tr>\n",
       "    <tr>\n",
       "      <th>7</th>\n",
       "      <td>15</td>\n",
       "      <td>polystyrene</td>\n",
       "      <td>[*]CC([*])c1ccccc1</td>\n",
       "      <td>190.0</td>\n",
       "      <td>NaN</td>\n",
       "      <td>0</td>\n",
       "      <td>-9.253014</td>\n",
       "      <td>2.617630</td>\n",
       "      <td>0.125000</td>\n",
       "      <td>0.0</td>\n",
       "      <td>...</td>\n",
       "      <td>0.0</td>\n",
       "      <td>0.0</td>\n",
       "      <td>0.0</td>\n",
       "      <td>0.0</td>\n",
       "      <td>0.0</td>\n",
       "      <td>0.0</td>\n",
       "      <td>0.0</td>\n",
       "      <td>0.0</td>\n",
       "      <td>0.0</td>\n",
       "      <td>0</td>\n",
       "    </tr>\n",
       "    <tr>\n",
       "      <th>8</th>\n",
       "      <td>16</td>\n",
       "      <td>polystyrene</td>\n",
       "      <td>[*]CC([*])c1ccccc1</td>\n",
       "      <td>160.0</td>\n",
       "      <td>NaN</td>\n",
       "      <td>0</td>\n",
       "      <td>-8.345240</td>\n",
       "      <td>2.664743</td>\n",
       "      <td>0.125000</td>\n",
       "      <td>0.0</td>\n",
       "      <td>...</td>\n",
       "      <td>0.0</td>\n",
       "      <td>0.0</td>\n",
       "      <td>0.0</td>\n",
       "      <td>0.0</td>\n",
       "      <td>0.0</td>\n",
       "      <td>0.0</td>\n",
       "      <td>0.0</td>\n",
       "      <td>0.0</td>\n",
       "      <td>0.0</td>\n",
       "      <td>0</td>\n",
       "    </tr>\n",
       "    <tr>\n",
       "      <th>9</th>\n",
       "      <td>17</td>\n",
       "      <td>polystyrene</td>\n",
       "      <td>[*]CC([*])c1ccccc1</td>\n",
       "      <td>140.0</td>\n",
       "      <td>NaN</td>\n",
       "      <td>0</td>\n",
       "      <td>-14.696159</td>\n",
       "      <td>4.598960</td>\n",
       "      <td>0.125000</td>\n",
       "      <td>0.0</td>\n",
       "      <td>...</td>\n",
       "      <td>0.0</td>\n",
       "      <td>0.0</td>\n",
       "      <td>0.0</td>\n",
       "      <td>0.0</td>\n",
       "      <td>0.0</td>\n",
       "      <td>0.0</td>\n",
       "      <td>0.0</td>\n",
       "      <td>0.0</td>\n",
       "      <td>0.0</td>\n",
       "      <td>0</td>\n",
       "    </tr>\n",
       "    <tr>\n",
       "      <th>10</th>\n",
       "      <td>18</td>\n",
       "      <td>polystyrene</td>\n",
       "      <td>[*]CC([*])c1ccccc1</td>\n",
       "      <td>130.0</td>\n",
       "      <td>NaN</td>\n",
       "      <td>0</td>\n",
       "      <td>-13.945447</td>\n",
       "      <td>4.587953</td>\n",
       "      <td>0.125000</td>\n",
       "      <td>0.0</td>\n",
       "      <td>...</td>\n",
       "      <td>0.0</td>\n",
       "      <td>0.0</td>\n",
       "      <td>0.0</td>\n",
       "      <td>0.0</td>\n",
       "      <td>0.0</td>\n",
       "      <td>0.0</td>\n",
       "      <td>0.0</td>\n",
       "      <td>0.0</td>\n",
       "      <td>0.0</td>\n",
       "      <td>0</td>\n",
       "    </tr>\n",
       "    <tr>\n",
       "      <th>11</th>\n",
       "      <td>37</td>\n",
       "      <td>polyethene</td>\n",
       "      <td>[*]C[*]</td>\n",
       "      <td>150.0</td>\n",
       "      <td>3326.411604</td>\n",
       "      <td>-3.963329</td>\n",
       "      <td>-13.177066</td>\n",
       "      <td>3.616070</td>\n",
       "      <td>0.333333</td>\n",
       "      <td>0.0</td>\n",
       "      <td>...</td>\n",
       "      <td>0.0</td>\n",
       "      <td>0.0</td>\n",
       "      <td>0.0</td>\n",
       "      <td>0.0</td>\n",
       "      <td>0.0</td>\n",
       "      <td>0.0</td>\n",
       "      <td>0.0</td>\n",
       "      <td>0.0</td>\n",
       "      <td>0.0</td>\n",
       "      <td>0</td>\n",
       "    </tr>\n",
       "    <tr>\n",
       "      <th>12</th>\n",
       "      <td>38</td>\n",
       "      <td>polypropylene</td>\n",
       "      <td>[*]CC([*])C</td>\n",
       "      <td>180.0</td>\n",
       "      <td>353977.797677</td>\n",
       "      <td>-1.403754</td>\n",
       "      <td>-22.121744</td>\n",
       "      <td>4.733660</td>\n",
       "      <td>0.444444</td>\n",
       "      <td>0.0</td>\n",
       "      <td>...</td>\n",
       "      <td>0.0</td>\n",
       "      <td>0.0</td>\n",
       "      <td>0.0</td>\n",
       "      <td>0.0</td>\n",
       "      <td>0.0</td>\n",
       "      <td>0.0</td>\n",
       "      <td>0.0</td>\n",
       "      <td>0.0</td>\n",
       "      <td>0.0</td>\n",
       "      <td>0</td>\n",
       "    </tr>\n",
       "    <tr>\n",
       "      <th>13</th>\n",
       "      <td>54</td>\n",
       "      <td>poly(dimethylsiloxane)</td>\n",
       "      <td>[*]O[Si]([*])(C)C</td>\n",
       "      <td>20.0</td>\n",
       "      <td>NaN</td>\n",
       "      <td>0</td>\n",
       "      <td>-9.667328</td>\n",
       "      <td>2.499047</td>\n",
       "      <td>0.000000</td>\n",
       "      <td>0.0</td>\n",
       "      <td>...</td>\n",
       "      <td>0.0</td>\n",
       "      <td>0.0</td>\n",
       "      <td>0.0</td>\n",
       "      <td>0.0</td>\n",
       "      <td>0.0</td>\n",
       "      <td>0.0</td>\n",
       "      <td>0.0</td>\n",
       "      <td>0.0</td>\n",
       "      <td>0.0</td>\n",
       "      <td>0</td>\n",
       "    </tr>\n",
       "    <tr>\n",
       "      <th>14</th>\n",
       "      <td>75</td>\n",
       "      <td>polyisobutylene</td>\n",
       "      <td>[*]CC([*])(C)C</td>\n",
       "      <td>217.0</td>\n",
       "      <td>NaN</td>\n",
       "      <td>0</td>\n",
       "      <td>-11.650514</td>\n",
       "      <td>3.410239</td>\n",
       "      <td>0.583333</td>\n",
       "      <td>0.0</td>\n",
       "      <td>...</td>\n",
       "      <td>0.0</td>\n",
       "      <td>0.0</td>\n",
       "      <td>0.0</td>\n",
       "      <td>0.0</td>\n",
       "      <td>0.0</td>\n",
       "      <td>0.0</td>\n",
       "      <td>0.0</td>\n",
       "      <td>0.0</td>\n",
       "      <td>0.0</td>\n",
       "      <td>0</td>\n",
       "    </tr>\n",
       "  </tbody>\n",
       "</table>\n",
       "<p>15 rows × 206 columns</p>\n",
       "</div>"
      ],
      "text/plain": [
       "   SAMPLE_ID                 Polymer              SMILES  Temperature  \\\n",
       "0          0        poly(prop-1-ene)         [*]CC([*])C        200.0   \n",
       "1          1         polyisobutylene      [*]CC([*])(C)C         25.0   \n",
       "2          6             Linear HDPE             [*]C[*]        150.0   \n",
       "3          7         polyisobutylene      [*]CC([*])(C)C        150.0   \n",
       "4          8         polyisobutylene      [*]CC([*])(C)C        175.0   \n",
       "5          9         polyisobutylene      [*]CC([*])(C)C        200.0   \n",
       "6         14             polystyrene  [*]CC([*])c1ccccc1        217.0   \n",
       "7         15             polystyrene  [*]CC([*])c1ccccc1        190.0   \n",
       "8         16             polystyrene  [*]CC([*])c1ccccc1        160.0   \n",
       "9         17             polystyrene  [*]CC([*])c1ccccc1        140.0   \n",
       "10        18             polystyrene  [*]CC([*])c1ccccc1        130.0   \n",
       "11        37              polyethene             [*]C[*]        150.0   \n",
       "12        38           polypropylene         [*]CC([*])C        180.0   \n",
       "13        54  poly(dimethylsiloxane)   [*]O[Si]([*])(C)C         20.0   \n",
       "14        75         polyisobutylene      [*]CC([*])(C)C        217.0   \n",
       "\n",
       "              Mcr    Log_K1     Log_K2     Alpha  afp_C4_C4_C4  afp_C4_C4_F1  \\\n",
       "0             NaN         0  -9.667328  2.499047      0.444444           0.0   \n",
       "1             NaN         0  -9.948751  3.357126      0.583333           0.0   \n",
       "2     3656.398809 -3.904875 -13.402410  3.665561      0.333333           0.0   \n",
       "3             NaN         0 -13.936685  3.565737      0.583333           0.0   \n",
       "4             NaN         0 -14.003194  3.507579      0.583333           0.0   \n",
       "5             NaN         0 -15.621807  3.740412      0.583333           0.0   \n",
       "6             NaN         0  -8.944816  2.480751      0.125000           0.0   \n",
       "7             NaN         0  -9.253014  2.617630      0.125000           0.0   \n",
       "8             NaN         0  -8.345240  2.664743      0.125000           0.0   \n",
       "9             NaN         0 -14.696159  4.598960      0.125000           0.0   \n",
       "10            NaN         0 -13.945447  4.587953      0.125000           0.0   \n",
       "11    3326.411604 -3.963329 -13.177066  3.616070      0.333333           0.0   \n",
       "12  353977.797677 -1.403754 -22.121744  4.733660      0.444444           0.0   \n",
       "13            NaN         0  -9.667328  2.499047      0.000000           0.0   \n",
       "14            NaN         0 -11.650514  3.410239      0.583333           0.0   \n",
       "\n",
       "    ...  bfp_378  bfp_429  afp_C3_C3_N3  afp_C3_N3_C3  bfp_46  bfp_47  bfp_55  \\\n",
       "0   ...      0.0      0.0           0.0           0.0     0.0     0.0     0.0   \n",
       "1   ...      0.0      0.0           0.0           0.0     0.0     0.0     0.0   \n",
       "2   ...      0.0      0.0           0.0           0.0     0.0     0.0     0.0   \n",
       "3   ...      0.0      0.0           0.0           0.0     0.0     0.0     0.0   \n",
       "4   ...      0.0      0.0           0.0           0.0     0.0     0.0     0.0   \n",
       "5   ...      0.0      0.0           0.0           0.0     0.0     0.0     0.0   \n",
       "6   ...      0.0      0.0           0.0           0.0     0.0     0.0     0.0   \n",
       "7   ...      0.0      0.0           0.0           0.0     0.0     0.0     0.0   \n",
       "8   ...      0.0      0.0           0.0           0.0     0.0     0.0     0.0   \n",
       "9   ...      0.0      0.0           0.0           0.0     0.0     0.0     0.0   \n",
       "10  ...      0.0      0.0           0.0           0.0     0.0     0.0     0.0   \n",
       "11  ...      0.0      0.0           0.0           0.0     0.0     0.0     0.0   \n",
       "12  ...      0.0      0.0           0.0           0.0     0.0     0.0     0.0   \n",
       "13  ...      0.0      0.0           0.0           0.0     0.0     0.0     0.0   \n",
       "14  ...      0.0      0.0           0.0           0.0     0.0     0.0     0.0   \n",
       "\n",
       "    bfp_79  bfp_210  Shear_Rate  \n",
       "0      0.0      0.0           0  \n",
       "1      0.0      0.0           0  \n",
       "2      0.0      0.0           0  \n",
       "3      0.0      0.0           0  \n",
       "4      0.0      0.0           0  \n",
       "5      0.0      0.0           0  \n",
       "6      0.0      0.0           0  \n",
       "7      0.0      0.0           0  \n",
       "8      0.0      0.0           0  \n",
       "9      0.0      0.0           0  \n",
       "10     0.0      0.0           0  \n",
       "11     0.0      0.0           0  \n",
       "12     0.0      0.0           0  \n",
       "13     0.0      0.0           0  \n",
       "14     0.0      0.0           0  \n",
       "\n",
       "[15 rows x 206 columns]"
      ]
     },
     "execution_count": 411,
     "metadata": {},
     "output_type": "execute_result"
    }
   ],
   "source": [
    "PL_data"
   ]
  },
  {
   "cell_type": "code",
   "execution_count": 557,
   "id": "c5dd38c8-d5ce-441e-b888-9516894f7ab2",
   "metadata": {},
   "outputs": [
    {
     "name": "stderr",
     "output_type": "stream",
     "text": [
      "C:\\Users\\ayush\\AppData\\Local\\Temp/ipykernel_20248/1811823349.py:2: UserWarning: Boolean Series key will be reindexed to match DataFrame index.\n",
      "  shear_test_ex = data[data['Temperature'] == 100][data['Polymer'] == 'poly(epsilon-caprolactone)'][data['Mw'] == np.log10(35500)]\n"
     ]
    }
   ],
   "source": [
    "#data[ and data['Polymer'] == 'poly(methyl methacrylate)']\n",
    "shear_test_ex = data[data['Temperature'] == 100][data['Polymer'] == 'poly(epsilon-caprolactone)'][data['Mw'] == np.log10(35500)]\n",
    "shear_test_S = np.array(shear_test_ex['Shear_Rate']).reshape((-1,1))\n",
    "shear_test_S_ex = np.array([1,2,3,4]).reshape((-1,1))\n",
    "shear_test_y = np.array(shear_test_ex['Melt_Viscosity']).reshape((-1,1))"
   ]
  },
  {
   "cell_type": "code",
   "execution_count": 558,
   "id": "027e0757-0bd2-417a-93b1-e2e9824130c2",
   "metadata": {},
   "outputs": [
    {
     "data": {
      "image/png": "[encoded data removed]",
      "text/plain": [
       "<Figure size 432x288 with 1 Axes>"
      ]
     },
     "metadata": {
      "needs_background": "light"
     },
     "output_type": "display_data"
    }
   ],
   "source": [
    "plt.scatter(np.log10(shear_test_S), shear_test_y)\n",
    "shear_test_XX = scaler.transform(np.array(shear_test_ex[fp_cols]))\n",
    "shear_test_T = T_scaler.transform(np.array(shear_test_ex['Temperature']).reshape(-1, 1))\n",
    "shear_test_M = M_scaler.transform(np.array(shear_test_ex['Mw']).reshape(-1, 1))"
   ]
  },
  {
   "cell_type": "code",
   "execution_count": 559,
   "id": "8ee09d27-0d6e-43f3-9825-01c3ab12bb1f",
   "metadata": {},
   "outputs": [
    {
     "data": {
      "text/plain": [
       "<matplotlib.legend.Legend at 0x23d638c5eb0>"
      ]
     },
     "execution_count": 559,
     "metadata": {},
     "output_type": "execute_result"
    },
    {
     "data": {
      "image/png": "[encoded data removed]",
      "text/plain": [
       "<Figure size 432x288 with 1 Axes>"
      ]
     },
     "metadata": {
      "needs_background": "light"
     },
     "output_type": "display_data"
    },
    {
     "data": {
      "image/png": "[encoded data removed]",
      "text/plain": [
       "<Figure size 432x288 with 1 Axes>"
      ]
     },
     "metadata": {
      "needs_background": "light"
     },
     "output_type": "display_data"
    }
   ],
   "source": [
    "test_pred = model_phys.predict([shear_test_XX, shear_test_M, shear_test_T, np.power(10, M_scaler.inverse_transform(shear_test_M)), shear_test_S])\n",
    "plt.scatter(shear_test_y, test_pred)\n",
    "\n",
    "plt.plot(np.linspace((min(y_ex)[0]), (max(y_ex)[0]), num = 2),np.linspace((min(y_ex)[0]), (max(y_ex)[0]), num = 2),'k-')\n",
    "plt.ylabel('Log Eta Prediction')\n",
    "plt.xlabel('Log Eta Truth')\n",
    "plt.legend(['Truth = Prediction','Train','Test'])\n",
    "\n",
    "plt.figure()\n",
    "plt.xlabel('Log Mw')\n",
    "plt.ylabel('Log Eta')\n",
    "plt.scatter(np.log10(shear_test_S), shear_test_y, c = 'orange')\n",
    "plt.scatter(shear_test_S_ex, test_pred)\n",
    "#plt.plot(M_scaler.inverse_transform(M_ex), y_ex, c = 'k')\n",
    "plt.legend(['Power Law Extrapolation','Train','Test (Extrapolated)'])"
   ]
  },
  {
   "cell_type": "code",
   "execution_count": 527,
   "id": "48e1a6d7-0c8a-4d52-890d-bc6405f09d22",
   "metadata": {},
   "outputs": [
    {
     "data": {
      "text/plain": [
       "array([[60000.],\n",
       "       [60000.],\n",
       "       [60000.],\n",
       "       [60000.],\n",
       "       [60000.],\n",
       "       [60000.],\n",
       "       [60000.],\n",
       "       [60000.]])"
      ]
     },
     "execution_count": 527,
     "metadata": {},
     "output_type": "execute_result"
    }
   ],
   "source": []
  },
  {
   "cell_type": "code",
   "execution_count": null,
   "id": "69498009-1ee9-4bf3-a6fc-83f3314675d4",
   "metadata": {},
   "outputs": [],
   "source": []
  }
 ],
 "metadata": {
  "kernelspec": {
   "display_name": "Python 3 (ipykernel)",
   "language": "python",
   "name": "python3"
  },
  "language_info": {
   "codemirror_mode": {
    "name": "ipython",
    "version": 3
   },
   "file_extension": ".py",
   "mimetype": "text/x-python",
   "name": "python",
   "nbconvert_exporter": "python",
   "pygments_lexer": "ipython3",
   "version": "3.8.7"
  }
 },
 "nbformat": 4,
 "nbformat_minor": 5
}
