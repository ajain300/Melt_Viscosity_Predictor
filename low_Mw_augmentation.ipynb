{
 "cells": [
  {
   "cell_type": "code",
   "execution_count": 1,
   "metadata": {},
   "outputs": [],
   "source": [
    "import pandas as pd\n",
    "import numpy as np\n",
    "import matplotlib.pyplot as plt\n",
    "from validation.tests import get_Mw_samples, get_shear_samples\n",
    "from sklearn.preprocessing import MinMaxScaler, PowerTransformer"
   ]
  },
  {
   "cell_type": "code",
   "execution_count": 16,
   "metadata": {},
   "outputs": [],
   "source": [
    "data = pd.read_excel('Data/full_data_2022-03-08.xlsx', na_values = ['nan','','NaN'])\n",
    "data.columns = [str(c) for c in data.columns]\n",
    "\n",
    "OG_fp = []\n",
    "for c in data.columns:\n",
    "    if isinstance(c, str):\n",
    "        if 'fp' in c:\n",
    "            OG_fp.append(c)\n",
    "len(OG_fp)\n",
    "\n",
    "do_pca = False\n",
    "if do_pca:\n",
    "    data, fp_cols, pca = fp_PCA(data, 17, cols = OG_fp)\n",
    "    cols = fp_cols + ['Mw', 'Temperature', 'Shear_Rate','Melt_Viscosity']\n",
    "else:\n",
    "    fp_cols = OG_fp\n",
    "    cols = fp_cols + ['Mw', 'Temperature', 'Shear_Rate','Melt_Viscosity']\n",
    "\n",
    "# for c in ['Mw', 'Melt_Viscosity']:\n",
    "#     data[c] = np.log10(data[c])\n",
    "\n",
    "data['PDI'].fillna(2)\n",
    "data['ZERO_SHEAR'] = 1\n",
    "data['SHEAR'] = 0\n",
    "data['log_Shear_Rate'] = 0\n",
    "for i in data.index:\n",
    "    if data.loc[i, 'Shear_Rate'] != 0:\n",
    "        data.loc[i, 'SHEAR'] = 1\n",
    "        data.loc[i, 'ZERO_SHEAR'] = 0\n",
    "    if not data.loc[i,'PDI'] > 0:\n",
    "        data.loc[i,'PDI'] = 2\n",
    "    if data.loc[i,'PDI'] > 100:\n",
    "        data.loc[i,'PDI'] = 2\n",
    "        #data = data.drop([i])\n",
    "train_df = data.copy()\n",
    "train_df['Aug'] = 0"
   ]
  },
  {
   "cell_type": "code",
   "execution_count": 3,
   "metadata": {},
   "outputs": [],
   "source": [
    "# logMw = np.array(train_df['Mw']).reshape((-1,1))\n",
    "# shear = np.array(train_df['Shear_Rate']).reshape((-1,1))\n",
    "# Temp = np.array(train_df['Temperature']).reshape((-1,1))\n",
    "# Temp = 1/(Temp+273.15)\n",
    "# PDI = np.array(train_df['PDI']).reshape((-1,1))\n",
    "\n",
    "# scaler = MinMaxScaler(copy = False)\n",
    "# XX = np.array(scaler.fit(train_df.filter(fp_cols)).transform(train_df.filter(fp_cols)))\n",
    "# yy = np.array(train_df.loc[:,'Melt_Viscosity']).reshape((-1,1))\n",
    "\n",
    "# y_scaler = MinMaxScaler().fit(yy)\n",
    "# yy = y_scaler.transform(yy);\n",
    "# T_scaler = MinMaxScaler().fit(Temp)\n",
    "# T = T_scaler.transform(Temp);\n",
    "# M_scaler = MinMaxScaler().fit(logMw)\n",
    "# M = M_scaler.transform(logMw);\n",
    "# S_trans = PowerTransformer(standardize = False).fit(shear)\n",
    "# S_scaler = MinMaxScaler().fit(S_trans.transform(shear))\n",
    "# S = S_scaler.transform(S_trans.transform(shear))\n",
    "# P_scaler = MinMaxScaler().fit(PDI)\n",
    "# P = P_scaler.transform(PDI)"
   ]
  },
  {
   "cell_type": "code",
   "execution_count": 17,
   "metadata": {},
   "outputs": [],
   "source": [
    "\n",
    "Mw_samps, mw_ids = get_Mw_samples(train_df.copy().sort_index());\n",
    "shear_samps, shear_ids = get_shear_samples(train_df.copy().sort_index())\n"
   ]
  },
  {
   "cell_type": "code",
   "execution_count": 20,
   "metadata": {},
   "outputs": [
    {
     "name": "stdout",
     "output_type": "stream",
     "text": [
      "3.4400750940427547\n"
     ]
    },
    {
     "data": {
      "text/plain": [
       "<matplotlib.legend.Legend at 0x7f683ff8ab50>"
      ]
     },
     "execution_count": 20,
     "metadata": {},
     "output_type": "execute_result"
    },
    {
     "data": {
      "image/png": "[encoded data removed]",
      "text/plain": [
       "<Figure size 432x288 with 1 Axes>"
      ]
     },
     "metadata": {
      "needs_background": "light"
     },
     "output_type": "display_data"
    }
   ],
   "source": [
    "samp_num = 1\n",
    "samp = Mw_samps.loc[Mw_samps['SAMPLE_ID'] == mw_ids[samp_num], :].reset_index()\n",
    "Mw = np.array(samp['Mw']).reshape(-1,1)[~np.isnan(samp['Melt_Viscosity'])]\n",
    "visc = np.array(samp['Melt_Viscosity']).reshape(-1,1)[~np.isnan(samp['Melt_Viscosity'])]\n",
    "plt.scatter(Mw, visc, label = 'Experimental Data')\n",
    "m, b = np.polyfit(Mw.reshape(-1,)[1:], visc.reshape(-1,)[1:], 1)\n",
    "Mcr = np.log10(6400\n",
    "*2\n",
    ")\n",
    "Mcr_y = Mcr*m + b\n",
    "print(m)\n",
    "low_Mw = np.linspace(3, Mcr, 5).reshape(-1,1)\n",
    "visc_low_Mw = (low_Mw-Mcr) + Mcr_y\n",
    "plt.scatter(low_Mw, visc_low_Mw, label = 'Augmented Data')\n",
    "plt.scatter(Mcr, Mcr_y, label = 'Mcr')\n",
    "plt.title(samp.loc[0,'Polymer'])\n",
    "plt.ylabel(r'Log $\\eta_o$')\n",
    "plt.xlabel('LogMw')\n",
    "plt.legend()"
   ]
  },
  {
   "cell_type": "code",
   "execution_count": 21,
   "metadata": {},
   "outputs": [
    {
     "data": {
      "text/html": [
       "<div>\n",
       "<style scoped>\n",
       "    .dataframe tbody tr th:only-of-type {\n",
       "        vertical-align: middle;\n",
       "    }\n",
       "\n",
       "    .dataframe tbody tr th {\n",
       "        vertical-align: top;\n",
       "    }\n",
       "\n",
       "    .dataframe thead th {\n",
       "        text-align: right;\n",
       "    }\n",
       "</style>\n",
       "<table border=\"1\" class=\"dataframe\">\n",
       "  <thead>\n",
       "    <tr style=\"text-align: right;\">\n",
       "      <th></th>\n",
       "      <th>INDEX</th>\n",
       "      <th>SAMPLE_ID</th>\n",
       "      <th>SMILES</th>\n",
       "      <th>Polymer</th>\n",
       "      <th>Mn</th>\n",
       "      <th>Mw</th>\n",
       "      <th>PDI</th>\n",
       "      <th>PDI (zw)</th>\n",
       "      <th>Temperature</th>\n",
       "      <th>Shear_Rate</th>\n",
       "      <th>...</th>\n",
       "      <th>PID 2</th>\n",
       "      <th>coPID</th>\n",
       "      <th>Weight 1</th>\n",
       "      <th>Weight 2</th>\n",
       "      <th>Frequency</th>\n",
       "      <th>INDEX.1</th>\n",
       "      <th>ZERO_SHEAR</th>\n",
       "      <th>SHEAR</th>\n",
       "      <th>log_Shear_Rate</th>\n",
       "      <th>Aug</th>\n",
       "    </tr>\n",
       "  </thead>\n",
       "  <tbody>\n",
       "    <tr>\n",
       "      <th>0</th>\n",
       "      <td>6</td>\n",
       "      <td>1001.0</td>\n",
       "      <td>[*]CC([*])(C)C</td>\n",
       "      <td>polyisobutylene</td>\n",
       "      <td>NaN</td>\n",
       "      <td>1000.000000</td>\n",
       "      <td>1.329091</td>\n",
       "      <td>1.09</td>\n",
       "      <td>25.0</td>\n",
       "      <td>0.0</td>\n",
       "      <td>...</td>\n",
       "      <td>NaN</td>\n",
       "      <td>NaN</td>\n",
       "      <td>NaN</td>\n",
       "      <td>NaN</td>\n",
       "      <td>NaN</td>\n",
       "      <td>NaN</td>\n",
       "      <td>1</td>\n",
       "      <td>0</td>\n",
       "      <td>0</td>\n",
       "      <td>1</td>\n",
       "    </tr>\n",
       "    <tr>\n",
       "      <th>1</th>\n",
       "      <td>7</td>\n",
       "      <td>1001.0</td>\n",
       "      <td>[*]CC([*])(C)C</td>\n",
       "      <td>polyisobutylene</td>\n",
       "      <td>NaN</td>\n",
       "      <td>1891.483218</td>\n",
       "      <td>1.329091</td>\n",
       "      <td>1.12</td>\n",
       "      <td>25.0</td>\n",
       "      <td>0.0</td>\n",
       "      <td>...</td>\n",
       "      <td>NaN</td>\n",
       "      <td>NaN</td>\n",
       "      <td>NaN</td>\n",
       "      <td>NaN</td>\n",
       "      <td>NaN</td>\n",
       "      <td>NaN</td>\n",
       "      <td>1</td>\n",
       "      <td>0</td>\n",
       "      <td>0</td>\n",
       "      <td>1</td>\n",
       "    </tr>\n",
       "    <tr>\n",
       "      <th>2</th>\n",
       "      <td>8</td>\n",
       "      <td>1001.0</td>\n",
       "      <td>[*]CC([*])(C)C</td>\n",
       "      <td>polyisobutylene</td>\n",
       "      <td>NaN</td>\n",
       "      <td>3577.708764</td>\n",
       "      <td>1.329091</td>\n",
       "      <td>1.16</td>\n",
       "      <td>25.0</td>\n",
       "      <td>0.0</td>\n",
       "      <td>...</td>\n",
       "      <td>NaN</td>\n",
       "      <td>NaN</td>\n",
       "      <td>NaN</td>\n",
       "      <td>NaN</td>\n",
       "      <td>NaN</td>\n",
       "      <td>NaN</td>\n",
       "      <td>1</td>\n",
       "      <td>0</td>\n",
       "      <td>0</td>\n",
       "      <td>1</td>\n",
       "    </tr>\n",
       "    <tr>\n",
       "      <th>3</th>\n",
       "      <td>9</td>\n",
       "      <td>1001.0</td>\n",
       "      <td>[*]CC([*])(C)C</td>\n",
       "      <td>polyisobutylene</td>\n",
       "      <td>NaN</td>\n",
       "      <td>6767.176086</td>\n",
       "      <td>1.329091</td>\n",
       "      <td>1.14</td>\n",
       "      <td>25.0</td>\n",
       "      <td>0.0</td>\n",
       "      <td>...</td>\n",
       "      <td>NaN</td>\n",
       "      <td>NaN</td>\n",
       "      <td>NaN</td>\n",
       "      <td>NaN</td>\n",
       "      <td>NaN</td>\n",
       "      <td>NaN</td>\n",
       "      <td>1</td>\n",
       "      <td>0</td>\n",
       "      <td>0</td>\n",
       "      <td>1</td>\n",
       "    </tr>\n",
       "    <tr>\n",
       "      <th>4</th>\n",
       "      <td>10</td>\n",
       "      <td>1001.0</td>\n",
       "      <td>[*]CC([*])(C)C</td>\n",
       "      <td>polyisobutylene</td>\n",
       "      <td>NaN</td>\n",
       "      <td>12800.000000</td>\n",
       "      <td>1.329091</td>\n",
       "      <td>1.16</td>\n",
       "      <td>25.0</td>\n",
       "      <td>0.0</td>\n",
       "      <td>...</td>\n",
       "      <td>NaN</td>\n",
       "      <td>NaN</td>\n",
       "      <td>NaN</td>\n",
       "      <td>NaN</td>\n",
       "      <td>NaN</td>\n",
       "      <td>NaN</td>\n",
       "      <td>1</td>\n",
       "      <td>0</td>\n",
       "      <td>0</td>\n",
       "      <td>1</td>\n",
       "    </tr>\n",
       "  </tbody>\n",
       "</table>\n",
       "<p>5 rows × 256 columns</p>\n",
       "</div>"
      ],
      "text/plain": [
       "   INDEX  SAMPLE_ID          SMILES          Polymer  Mn            Mw  \\\n",
       "0      6     1001.0  [*]CC([*])(C)C  polyisobutylene NaN   1000.000000   \n",
       "1      7     1001.0  [*]CC([*])(C)C  polyisobutylene NaN   1891.483218   \n",
       "2      8     1001.0  [*]CC([*])(C)C  polyisobutylene NaN   3577.708764   \n",
       "3      9     1001.0  [*]CC([*])(C)C  polyisobutylene NaN   6767.176086   \n",
       "4     10     1001.0  [*]CC([*])(C)C  polyisobutylene NaN  12800.000000   \n",
       "\n",
       "        PDI  PDI (zw)  Temperature  Shear_Rate  ...  PID 2 coPID Weight 1  \\\n",
       "0  1.329091      1.09         25.0         0.0  ...    NaN   NaN      NaN   \n",
       "1  1.329091      1.12         25.0         0.0  ...    NaN   NaN      NaN   \n",
       "2  1.329091      1.16         25.0         0.0  ...    NaN   NaN      NaN   \n",
       "3  1.329091      1.14         25.0         0.0  ...    NaN   NaN      NaN   \n",
       "4  1.329091      1.16         25.0         0.0  ...    NaN   NaN      NaN   \n",
       "\n",
       "  Weight 2  Frequency INDEX.1  ZERO_SHEAR  SHEAR  log_Shear_Rate  Aug  \n",
       "0      NaN        NaN     NaN           1      0               0    1  \n",
       "1      NaN        NaN     NaN           1      0               0    1  \n",
       "2      NaN        NaN     NaN           1      0               0    1  \n",
       "3      NaN        NaN     NaN           1      0               0    1  \n",
       "4      NaN        NaN     NaN           1      0               0    1  \n",
       "\n",
       "[5 rows x 256 columns]"
      ]
     },
     "execution_count": 21,
     "metadata": {},
     "output_type": "execute_result"
    }
   ],
   "source": [
    "add = Mw_samps.loc[Mw_samps['SAMPLE_ID'] == mw_ids[samp_num], :].reset_index().loc[:4]\n",
    "add['Melt_Viscosity'] = np.power(10,visc_low_Mw)\n",
    "add['Mw'] = np.power(10, low_Mw)\n",
    "add['PDI'] = np.mean(np.array(Mw_samps.loc[Mw_samps['SAMPLE_ID'] == mw_ids[samp_num], 'PDI']))\n",
    "add['Mn'] = np.nan\n",
    "add['Aug'] = 1\n",
    "add = add.drop(columns=['index'])\n",
    "add.head()"
   ]
  },
  {
   "cell_type": "code",
   "execution_count": 22,
   "metadata": {},
   "outputs": [
    {
     "name": "stdout",
     "output_type": "stream",
     "text": [
      "16\n"
     ]
    }
   ],
   "source": [
    "index = np.flatnonzero(Mw_samps['SAMPLE_ID'] == mw_ids[samp_num])\n",
    "print(index)\n",
    "#train_df = InsertSamps(train_df, add, index)"
   ]
  },
  {
   "cell_type": "code",
   "execution_count": 19,
   "metadata": {},
   "outputs": [],
   "source": [
    "train_df = InsertSamps(train_df, add, index)"
   ]
  },
  {
   "cell_type": "code",
   "execution_count": 18,
   "metadata": {},
   "outputs": [],
   "source": [
    "def InsertSamps(df, samps, index):\n",
    "    n = samps.shape[0]\n",
    "    before = df.iloc[[*range(0, index + 1, 1)], :]\n",
    "    after = df.iloc[[*range(index + 1,df.shape[0], 1)], :]\n",
    "    after.index = [x.__add__(n) for x in after.index]\n",
    "    added = pd.concat([before, samps, after])\n",
    "    return added"
   ]
  },
  {
   "cell_type": "code",
   "execution_count": 284,
   "metadata": {},
   "outputs": [],
   "source": [
    "train_df.to_excel('Data/full_data_03_08_aug.xlsx')"
   ]
  },
  {
   "cell_type": "code",
   "execution_count": null,
   "metadata": {},
   "outputs": [],
   "source": []
  }
 ],
 "metadata": {
  "interpreter": {
   "hash": "15a11b5b55027f97ee5f25f7ca473a65664eb0a9d07bcb0ec5a63970ea26014d"
  },
  "kernelspec": {
   "display_name": "Python 3.8.7 ('.venv': poetry)",
   "language": "python",
   "name": "python3"
  },
  "language_info": {
   "codemirror_mode": {
    "name": "ipython",
    "version": 3
   },
   "file_extension": ".py",
   "mimetype": "text/x-python",
   "name": "python",
   "nbconvert_exporter": "python",
   "pygments_lexer": "ipython3",
   "version": "3.8.7"
  },
  "orig_nbformat": 4
 },
 "nbformat": 4,
 "nbformat_minor": 2
}
