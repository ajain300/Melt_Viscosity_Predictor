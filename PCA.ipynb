{
 "cells": [
  {
   "cell_type": "code",
   "execution_count": 154,
   "id": "2ff46a37-672e-4521-bed7-0768401b1ebe",
   "metadata": {},
   "outputs": [],
   "source": [
    "import pandas as pd\n",
    "from sklearn.decomposition import PCA\n",
    "import matplotlib.pyplot as plt\n",
    "import numpy as np"
   ]
  },
  {
   "cell_type": "code",
   "execution_count": 144,
   "id": "fef6d549-86af-4330-b938-3f1bdf77a563",
   "metadata": {},
   "outputs": [
    {
     "name": "stdout",
     "output_type": "stream",
     "text": [
      "['INDEX' 'SAMPLE_ID' 'SMILES' 'Polymer' 'Mn' 'Mw' 'PDI' 'PDI (zw)'\n",
      " 'Temperature' 'Shear_Rate' 'Frequency' 'Intrinsic Viscosity (dL/g)'\n",
      " 'Melt_Viscosity' 'Source' 'Link' 'Method' 'index' 'Polymer_y'\n",
      " 'afp_C4_C4_C4' 'afp_C4_C4_F1' 'afp_F1_C4_F1' 'bfp_299' 'bfp_304'\n",
      " 'bfp_328' 'bfp_334' 'bfp_359' 'mfp_MQNs13' 'mfp_MQNs14' 'mfp_MQNs15'\n",
      " 'mfp_MQNs16' 'mfp_MQNs17' 'mfp_MQNs18' 'mfp_MQNs19' 'mfp_MQNs20'\n",
      " 'mfp_MQNs21' 'mfp_MQNs22' 'mfp_MQNs23' 'mfp_MQNs24' 'mfp_MQNs25'\n",
      " 'mfp_MQNs26' 'mfp_MQNs27' 'mfp_MQNs28' 'mfp_MQNs29' 'mfp_MQNs30'\n",
      " 'mfp_MQNs31' 'mfp_MQNs32' 'mfp_MQNs33' 'mfp_MQNs34' 'mfp_MQNs35'\n",
      " 'mfp_MQNs36' 'mfp_MQNs37' 'mfp_MQNs38' 'mfp_MQNs39' 'mfp_MQNs40'\n",
      " 'mfp_MQNs41' 'mfp_MQNs42' 'mfp_NumAromaticRings' 'mfp_NumAliphaticRings'\n",
      " 'mfp_Chi0n' 'mfp_Chi0v' 'mfp_Chi1n' 'mfp_Chi1v' 'mfp_Chi2n' 'mfp_Chi2v'\n",
      " 'mfp_tpsa' 'efp_numatoms_none_H' 'efp_norm_mol_wt' 'efp_main_chain_rel'\n",
      " 'efp_side_chain_abs' 'efp_main_chain_ring' 'efp_4v_main' 'efp_4v_side'\n",
      " 'efp_3v_main' 'efp_3v_side' 'efp_ring_dist_shortest' 'efp_fam_single'\n",
      " 'efp_ring' '__fingerprint_success__' 'afp_H1_C4_H1' 'afp_C4_C4_H1'\n",
      " 'afp_C3_C4_H1' 'afp_C4_C3_H1' 'afp_C3_C3_H1' 'afp_C3_C4_C4'\n",
      " 'afp_C3_C3_C4' 'bfp_289' 'bfp_305' 'bfp_316' 'bfp_342' 'bfp_349'\n",
      " 'afp_H1_C4_O2' 'afp_C4_C4_O2' 'afp_C4_O2_C4' 'bfp_267' 'bfp_315'\n",
      " 'bfp_354' 'bfp_249' 'bfp_361' 'afp_C4_C3_O2' 'afp_C4_C3_O1'\n",
      " 'afp_C3_O2_C4' 'afp_O1_C3_O2' 'bfp_248' 'bfp_340' 'bfp_355' 'bfp_360'\n",
      " 'bfp_424' 'bfp_426' 'bfp_428' 'bfp_430' 'efp_fam_acrylate' 'bfp_198'\n",
      " 'bfp_199' 'bfp_282' 'bfp_458' 'afp_C2_C4_H1' 'afp_C2_C4_C4'\n",
      " 'afp_C4_C2_N1' 'bfp_344' 'bfp_379' 'bfp_197' 'afp_C3_O2_H1'\n",
      " 'afp_C3_C3_C3' 'afp_C3_C3_O2' 'bfp_114' 'bfp_145' 'bfp_222' 'bfp_311'\n",
      " 'bfp_314' 'bfp_343' 'bfp_3' 'bfp_58' 'bfp_112' 'bfp_113' 'afp_H1_C4_N3'\n",
      " 'afp_C4_N3_H1' 'afp_C3_N3_H1' 'afp_C4_C4_N3' 'afp_C4_C3_N3'\n",
      " 'afp_C3_N3_C4' 'afp_N3_C3_O1' 'bfp_208' 'bfp_215' 'bfp_223' 'bfp_225'\n",
      " 'bfp_312' 'bfp_313' 'efp_fam_polyamides' 'bfp_386' 'bfp_398' 'bfp_218'\n",
      " 'bfp_375' 'bfp_423' 'afp_C3_C3_O1' 'bfp_81' 'bfp_99' 'bfp_461' 'bfp_510'\n",
      " 'afp_H1_C4_Si4' 'afp_C4_Si4_C4' 'afp_Si4_C4_Si4' 'bfp_348'\n",
      " 'afp_C4_C4_Si4' 'afp_C3_C4_O2' 'afp_C4_Si4_O2' 'afp_O2_Si4_O2'\n",
      " 'afp_Si4_O2_Si4' 'afp_C3_O2_C3' 'bfp_209' 'bfp_464' 'bfp_481' 'bfp_483'\n",
      " 'bfp_23' 'bfp_85' 'bfp_101' 'bfp_448' 'bfp_451' 'efp_fam_ketone'\n",
      " 'afp_C3_C4_C3' 'afp_O2_C3_O2' 'bfp_78' 'bfp_98' 'efp_fam_carbonateester'\n",
      " 'afp_C3_C3_S4' 'afp_C3_S4_C3' 'afp_C3_S4_O1' 'afp_O1_S4_O1' 'bfp_294'\n",
      " 'bfp_295' 'afp_C3_C3_S2' 'afp_C3_S2_C3' 'bfp_22' 'bfp_350'\n",
      " 'afp_Cl1_C4_H1' 'afp_C4_C4_Cl1' 'bfp_292' 'afp_N3_C3_O2' 'bfp_246'\n",
      " 'bfp_264' 'bfp_376' 'bfp_385' 'afp_H1_C4_N2' 'afp_C4_C4_N2'\n",
      " 'afp_C4_N2_N2' 'afp_N1_N2_N2' 'bfp_357' 'bfp_373' 'bfp_378' 'bfp_429'\n",
      " 'afp_C3_C3_N3' 'afp_C3_N3_C3' 'bfp_46' 'bfp_47' 'bfp_55' 'bfp_79'\n",
      " 'bfp_210' 'Unnamed: 0' 'Weight 1' 'Weight 2' 'INDEX.1' 'PID']\n"
     ]
    }
   ],
   "source": [
    "data = pd.read_excel('Data/full_data_2021-11-08.xlsx')\n",
    "print(data.columns.values)\n",
    "\n",
    "def fp_PCA(data:pd.DataFrame)\n",
    "    n_comp = 10\n",
    "    cols = []\n",
    "    for c in data.columns:\n",
    "        if 'afp' in c or 'bfp' in c or 'mfp' in c or 'efp' in c:\n",
    "            cols.append(c)\n",
    "    df = data[['Polymer'] +cols].dropna().drop_duplicates(subset = cols)\n",
    "    pca = PCA(n_components = n_comp)\n",
    "    pca.fit(df[cols])\n",
    "    print('Explained variance (ratio): ' + str(pca.explained_variance_ratio_))\n",
    "    print('Total variance in ' + str(n_comp) + ' components = ' + str(sum(pca.explained_variance_ratio_)))\n",
    "    filtered = data.dropna(subset = cols).reset_index(drop = True)\n",
    "    out = filtered[['Mw', 'Temperature', 'Shear_Rate','Melt_Viscosity', 'Polymer']].join(pd.DataFrame(pca.transform(filtered[cols])))\n",
    "    return out, list(np.linspace(0,10-1,10).astype(int))"
   ]
  },
  {
   "cell_type": "code",
   "execution_count": 145,
   "id": "de82f280-43f0-460c-bcbe-861c870f0e11",
   "metadata": {},
   "outputs": [],
   "source": []
  },
  {
   "cell_type": "code",
   "execution_count": 146,
   "id": "1c659d84-4da3-4db0-8aca-d63e06d00596",
   "metadata": {},
   "outputs": [
    {
     "data": {
      "text/plain": [
       "PCA(n_components=10)"
      ]
     },
     "execution_count": 146,
     "metadata": {},
     "output_type": "execute_result"
    }
   ],
   "source": []
  },
  {
   "cell_type": "code",
   "execution_count": 147,
   "id": "e85e97c9-9dd8-4aae-bff0-f77374956c76",
   "metadata": {},
   "outputs": [
    {
     "name": "stdout",
     "output_type": "stream",
     "text": [
      "[0.34511932 0.1813519  0.10194128 0.06710149 0.05863391 0.03994611\n",
      " 0.03556155 0.02749411 0.0209672  0.0158005 ]\n"
     ]
    }
   ],
   "source": [
    "print((pca.explained_variance_ratio_))"
   ]
  },
  {
   "cell_type": "code",
   "execution_count": 148,
   "id": "650bef30-392e-4553-888e-e05d4612328e",
   "metadata": {},
   "outputs": [],
   "source": [
    "comps = pd.DataFrame(pca.transform(df[cols]))\n",
    "comps = comps.join(df['Polymer'].reset_index(drop = True))\n",
    "colors = comps['Polymer'] == 'poly(pent-1-ene)'\n",
    "colors[colors == False] = 'grey'\n",
    "colors[colors == True] = 'r'"
   ]
  },
  {
   "cell_type": "code",
   "execution_count": 149,
   "id": "fbd2b58a-19f3-4db6-b00c-cde444821e28",
   "metadata": {},
   "outputs": [
    {
     "data": {
      "text/plain": [
       "<mpl_toolkits.mplot3d.art3d.Path3DCollection at 0x2c582015130>"
      ]
     },
     "execution_count": 149,
     "metadata": {},
     "output_type": "execute_result"
    },
    {
     "data": {
      "image/png": "[encoded data removed]",
      "text/plain": [
       "<Figure size 432x288 with 1 Axes>"
      ]
     },
     "metadata": {
      "needs_background": "light"
     },
     "output_type": "display_data"
    }
   ],
   "source": [
    "fig = plt.figure()\n",
    "ax = plt.axes(projection='3d')\n",
    "ax.scatter3D(comps[0], comps[1], comps[2], c= colors)"
   ]
  },
  {
   "cell_type": "code",
   "execution_count": 150,
   "id": "5c565287-0f08-40ee-ab1a-e5d621f9ec07",
   "metadata": {},
   "outputs": [
    {
     "data": {
      "text/plain": [
       "<matplotlib.collections.PathCollection at 0x2c5fff7e8b0>"
      ]
     },
     "execution_count": 150,
     "metadata": {},
     "output_type": "execute_result"
    },
    {
     "data": {
      "image/png": "[encoded data removed]",
      "text/plain": [
       "<Figure size 432x288 with 1 Axes>"
      ]
     },
     "metadata": {
      "needs_background": "light"
     },
     "output_type": "display_data"
    }
   ],
   "source": [
    "plt.scatter(comps[0], comps[1], c= colors)"
   ]
  },
  {
   "cell_type": "code",
   "execution_count": 151,
   "id": "f0226f74-d3b4-4144-8184-9f93fa4119da",
   "metadata": {},
   "outputs": [
    {
     "data": {
      "text/html": [
       "<div>\n",
       "<style scoped>\n",
       "    .dataframe tbody tr th:only-of-type {\n",
       "        vertical-align: middle;\n",
       "    }\n",
       "\n",
       "    .dataframe tbody tr th {\n",
       "        vertical-align: top;\n",
       "    }\n",
       "\n",
       "    .dataframe thead th {\n",
       "        text-align: right;\n",
       "    }\n",
       "</style>\n",
       "<table border=\"1\" class=\"dataframe\">\n",
       "  <thead>\n",
       "    <tr style=\"text-align: right;\">\n",
       "      <th></th>\n",
       "      <th>Mw</th>\n",
       "      <th>Temperature</th>\n",
       "      <th>Shear_Rate</th>\n",
       "      <th>Melt_Viscosity</th>\n",
       "      <th>Polymer</th>\n",
       "      <th>0</th>\n",
       "      <th>1</th>\n",
       "      <th>2</th>\n",
       "      <th>3</th>\n",
       "      <th>4</th>\n",
       "      <th>5</th>\n",
       "      <th>6</th>\n",
       "      <th>7</th>\n",
       "      <th>8</th>\n",
       "      <th>9</th>\n",
       "    </tr>\n",
       "  </thead>\n",
       "  <tbody>\n",
       "    <tr>\n",
       "      <th>0</th>\n",
       "      <td>3900.0</td>\n",
       "      <td>200.0</td>\n",
       "      <td>0.000000</td>\n",
       "      <td>0.500000</td>\n",
       "      <td>poly(prop-1-ene)</td>\n",
       "      <td>-0.78939</td>\n",
       "      <td>0.544235</td>\n",
       "      <td>1.395861</td>\n",
       "      <td>0.699218</td>\n",
       "      <td>-0.226599</td>\n",
       "      <td>-0.878079</td>\n",
       "      <td>-1.222811</td>\n",
       "      <td>-0.964717</td>\n",
       "      <td>1.723224</td>\n",
       "      <td>0.159295</td>\n",
       "    </tr>\n",
       "    <tr>\n",
       "      <th>1</th>\n",
       "      <td>17000.0</td>\n",
       "      <td>200.0</td>\n",
       "      <td>0.000000</td>\n",
       "      <td>5.000000</td>\n",
       "      <td>poly(prop-1-ene)</td>\n",
       "      <td>-0.78939</td>\n",
       "      <td>0.544235</td>\n",
       "      <td>1.395861</td>\n",
       "      <td>0.699218</td>\n",
       "      <td>-0.226599</td>\n",
       "      <td>-0.878079</td>\n",
       "      <td>-1.222811</td>\n",
       "      <td>-0.964717</td>\n",
       "      <td>1.723224</td>\n",
       "      <td>0.159295</td>\n",
       "    </tr>\n",
       "    <tr>\n",
       "      <th>2</th>\n",
       "      <td>71000.0</td>\n",
       "      <td>200.0</td>\n",
       "      <td>0.000000</td>\n",
       "      <td>130.000000</td>\n",
       "      <td>poly(prop-1-ene)</td>\n",
       "      <td>-0.78939</td>\n",
       "      <td>0.544235</td>\n",
       "      <td>1.395861</td>\n",
       "      <td>0.699218</td>\n",
       "      <td>-0.226599</td>\n",
       "      <td>-0.878079</td>\n",
       "      <td>-1.222811</td>\n",
       "      <td>-0.964717</td>\n",
       "      <td>1.723224</td>\n",
       "      <td>0.159295</td>\n",
       "    </tr>\n",
       "    <tr>\n",
       "      <th>3</th>\n",
       "      <td>103000.0</td>\n",
       "      <td>200.0</td>\n",
       "      <td>0.000000</td>\n",
       "      <td>500.000000</td>\n",
       "      <td>poly(prop-1-ene)</td>\n",
       "      <td>-0.78939</td>\n",
       "      <td>0.544235</td>\n",
       "      <td>1.395861</td>\n",
       "      <td>0.699218</td>\n",
       "      <td>-0.226599</td>\n",
       "      <td>-0.878079</td>\n",
       "      <td>-1.222811</td>\n",
       "      <td>-0.964717</td>\n",
       "      <td>1.723224</td>\n",
       "      <td>0.159295</td>\n",
       "    </tr>\n",
       "    <tr>\n",
       "      <th>4</th>\n",
       "      <td>250000.0</td>\n",
       "      <td>200.0</td>\n",
       "      <td>0.000000</td>\n",
       "      <td>6000.000000</td>\n",
       "      <td>poly(prop-1-ene)</td>\n",
       "      <td>-0.78939</td>\n",
       "      <td>0.544235</td>\n",
       "      <td>1.395861</td>\n",
       "      <td>0.699218</td>\n",
       "      <td>-0.226599</td>\n",
       "      <td>-0.878079</td>\n",
       "      <td>-1.222811</td>\n",
       "      <td>-0.964717</td>\n",
       "      <td>1.723224</td>\n",
       "      <td>0.159295</td>\n",
       "    </tr>\n",
       "    <tr>\n",
       "      <th>...</th>\n",
       "      <td>...</td>\n",
       "      <td>...</td>\n",
       "      <td>...</td>\n",
       "      <td>...</td>\n",
       "      <td>...</td>\n",
       "      <td>...</td>\n",
       "      <td>...</td>\n",
       "      <td>...</td>\n",
       "      <td>...</td>\n",
       "      <td>...</td>\n",
       "      <td>...</td>\n",
       "      <td>...</td>\n",
       "      <td>...</td>\n",
       "      <td>...</td>\n",
       "      <td>...</td>\n",
       "    </tr>\n",
       "    <tr>\n",
       "      <th>957</th>\n",
       "      <td>34400.0</td>\n",
       "      <td>200.0</td>\n",
       "      <td>115.404361</td>\n",
       "      <td>124.812098</td>\n",
       "      <td>poly(dodecano-12-lactam), PPTA</td>\n",
       "      <td>-0.50891</td>\n",
       "      <td>-1.193754</td>\n",
       "      <td>-0.037197</td>\n",
       "      <td>-0.871874</td>\n",
       "      <td>-0.546017</td>\n",
       "      <td>0.017791</td>\n",
       "      <td>-0.164861</td>\n",
       "      <td>0.056313</td>\n",
       "      <td>0.042733</td>\n",
       "      <td>0.017646</td>\n",
       "    </tr>\n",
       "    <tr>\n",
       "      <th>958</th>\n",
       "      <td>34400.0</td>\n",
       "      <td>200.0</td>\n",
       "      <td>192.506077</td>\n",
       "      <td>92.878339</td>\n",
       "      <td>poly(dodecano-12-lactam), PPTA</td>\n",
       "      <td>-0.50891</td>\n",
       "      <td>-1.193754</td>\n",
       "      <td>-0.037197</td>\n",
       "      <td>-0.871874</td>\n",
       "      <td>-0.546017</td>\n",
       "      <td>0.017791</td>\n",
       "      <td>-0.164861</td>\n",
       "      <td>0.056313</td>\n",
       "      <td>0.042733</td>\n",
       "      <td>0.017646</td>\n",
       "    </tr>\n",
       "    <tr>\n",
       "      <th>959</th>\n",
       "      <td>34400.0</td>\n",
       "      <td>200.0</td>\n",
       "      <td>386.070543</td>\n",
       "      <td>56.755858</td>\n",
       "      <td>poly(dodecano-12-lactam), PPTA</td>\n",
       "      <td>-0.50891</td>\n",
       "      <td>-1.193754</td>\n",
       "      <td>-0.037197</td>\n",
       "      <td>-0.871874</td>\n",
       "      <td>-0.546017</td>\n",
       "      <td>0.017791</td>\n",
       "      <td>-0.164861</td>\n",
       "      <td>0.056313</td>\n",
       "      <td>0.042733</td>\n",
       "      <td>0.017646</td>\n",
       "    </tr>\n",
       "    <tr>\n",
       "      <th>960</th>\n",
       "      <td>34400.0</td>\n",
       "      <td>200.0</td>\n",
       "      <td>575.439937</td>\n",
       "      <td>41.207215</td>\n",
       "      <td>poly(dodecano-12-lactam), PPTA</td>\n",
       "      <td>-0.50891</td>\n",
       "      <td>-1.193754</td>\n",
       "      <td>-0.037197</td>\n",
       "      <td>-0.871874</td>\n",
       "      <td>-0.546017</td>\n",
       "      <td>0.017791</td>\n",
       "      <td>-0.164861</td>\n",
       "      <td>0.056313</td>\n",
       "      <td>0.042733</td>\n",
       "      <td>0.017646</td>\n",
       "    </tr>\n",
       "    <tr>\n",
       "      <th>961</th>\n",
       "      <td>34400.0</td>\n",
       "      <td>200.0</td>\n",
       "      <td>1165.914401</td>\n",
       "      <td>24.267595</td>\n",
       "      <td>poly(dodecano-12-lactam), PPTA</td>\n",
       "      <td>-0.50891</td>\n",
       "      <td>-1.193754</td>\n",
       "      <td>-0.037197</td>\n",
       "      <td>-0.871874</td>\n",
       "      <td>-0.546017</td>\n",
       "      <td>0.017791</td>\n",
       "      <td>-0.164861</td>\n",
       "      <td>0.056313</td>\n",
       "      <td>0.042733</td>\n",
       "      <td>0.017646</td>\n",
       "    </tr>\n",
       "  </tbody>\n",
       "</table>\n",
       "<p>962 rows × 15 columns</p>\n",
       "</div>"
      ],
      "text/plain": [
       "           Mw  Temperature   Shear_Rate  Melt_Viscosity  \\\n",
       "0      3900.0        200.0     0.000000        0.500000   \n",
       "1     17000.0        200.0     0.000000        5.000000   \n",
       "2     71000.0        200.0     0.000000      130.000000   \n",
       "3    103000.0        200.0     0.000000      500.000000   \n",
       "4    250000.0        200.0     0.000000     6000.000000   \n",
       "..        ...          ...          ...             ...   \n",
       "957   34400.0        200.0   115.404361      124.812098   \n",
       "958   34400.0        200.0   192.506077       92.878339   \n",
       "959   34400.0        200.0   386.070543       56.755858   \n",
       "960   34400.0        200.0   575.439937       41.207215   \n",
       "961   34400.0        200.0  1165.914401       24.267595   \n",
       "\n",
       "                            Polymer        0         1         2         3  \\\n",
       "0                  poly(prop-1-ene) -0.78939  0.544235  1.395861  0.699218   \n",
       "1                  poly(prop-1-ene) -0.78939  0.544235  1.395861  0.699218   \n",
       "2                  poly(prop-1-ene) -0.78939  0.544235  1.395861  0.699218   \n",
       "3                  poly(prop-1-ene) -0.78939  0.544235  1.395861  0.699218   \n",
       "4                  poly(prop-1-ene) -0.78939  0.544235  1.395861  0.699218   \n",
       "..                              ...      ...       ...       ...       ...   \n",
       "957  poly(dodecano-12-lactam), PPTA -0.50891 -1.193754 -0.037197 -0.871874   \n",
       "958  poly(dodecano-12-lactam), PPTA -0.50891 -1.193754 -0.037197 -0.871874   \n",
       "959  poly(dodecano-12-lactam), PPTA -0.50891 -1.193754 -0.037197 -0.871874   \n",
       "960  poly(dodecano-12-lactam), PPTA -0.50891 -1.193754 -0.037197 -0.871874   \n",
       "961  poly(dodecano-12-lactam), PPTA -0.50891 -1.193754 -0.037197 -0.871874   \n",
       "\n",
       "            4         5         6         7         8         9  \n",
       "0   -0.226599 -0.878079 -1.222811 -0.964717  1.723224  0.159295  \n",
       "1   -0.226599 -0.878079 -1.222811 -0.964717  1.723224  0.159295  \n",
       "2   -0.226599 -0.878079 -1.222811 -0.964717  1.723224  0.159295  \n",
       "3   -0.226599 -0.878079 -1.222811 -0.964717  1.723224  0.159295  \n",
       "4   -0.226599 -0.878079 -1.222811 -0.964717  1.723224  0.159295  \n",
       "..        ...       ...       ...       ...       ...       ...  \n",
       "957 -0.546017  0.017791 -0.164861  0.056313  0.042733  0.017646  \n",
       "958 -0.546017  0.017791 -0.164861  0.056313  0.042733  0.017646  \n",
       "959 -0.546017  0.017791 -0.164861  0.056313  0.042733  0.017646  \n",
       "960 -0.546017  0.017791 -0.164861  0.056313  0.042733  0.017646  \n",
       "961 -0.546017  0.017791 -0.164861  0.056313  0.042733  0.017646  \n",
       "\n",
       "[962 rows x 15 columns]"
      ]
     },
     "execution_count": 151,
     "metadata": {},
     "output_type": "execute_result"
    }
   ],
   "source": []
  },
  {
   "cell_type": "code",
   "execution_count": 164,
   "id": "4cb6b8c7-0193-4d33-9df6-8c56294a4a12",
   "metadata": {},
   "outputs": [
    {
     "data": {
      "text/plain": [
       "[0, 1, 2, 3, 4, 5, 6, 7, 8, 9]"
      ]
     },
     "execution_count": 164,
     "metadata": {},
     "output_type": "execute_result"
    }
   ],
   "source": [
    "list(np.linspace(0,10-1,10).astype(int))"
   ]
  },
  {
   "cell_type": "code",
   "execution_count": null,
   "id": "137c2177-f8d6-4d71-a86d-43fe49d4a901",
   "metadata": {},
   "outputs": [],
   "source": []
  }
 ],
 "metadata": {
  "kernelspec": {
   "display_name": "Python 3 (ipykernel)",
   "language": "python",
   "name": "python3"
  },
  "language_info": {
   "codemirror_mode": {
    "name": "ipython",
    "version": 3
   },
   "file_extension": ".py",
   "mimetype": "text/x-python",
   "name": "python",
   "nbconvert_exporter": "python",
   "pygments_lexer": "ipython3",
   "version": "3.8.7"
  }
 },
 "nbformat": 4,
 "nbformat_minor": 5
}
